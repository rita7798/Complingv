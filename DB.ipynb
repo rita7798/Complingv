{
 "cells": [
  {
   "cell_type": "markdown",
   "metadata": {},
   "source": [
    "### Импорт данных из xlsx в базу"
   ]
  },
  {
   "cell_type": "code",
   "execution_count": 1,
   "metadata": {},
   "outputs": [],
   "source": [
    "import mysql.connector as mysql\n",
    "import pandas as pd\n",
    "\n",
    "con = mysql.connect(user = 'root', password = '***', \n",
    "                    host = 'localhost', database = 'Collection')\n",
    "cur = con.cursor(dictionary=True)"
   ]
  },
  {
   "cell_type": "code",
   "execution_count": 2,
   "metadata": {},
   "outputs": [],
   "source": [
    "#roles\n",
    "df = pd.read_excel (r'/Users/margaritaberseneva/Desktop/db.xlsx', sheet_name=0)"
   ]
  },
  {
   "cell_type": "code",
   "execution_count": 3,
   "metadata": {},
   "outputs": [
    {
     "name": "stdout",
     "output_type": "stream",
     "text": [
      "RoleID\n",
      "RoleName\n",
      "RoleDesc\n",
      "isSuperVisor\n",
      "isBoss\n",
      "IsActive\n"
     ]
    }
   ],
   "source": [
    "for row in df.head():\n",
    "     print(row)"
   ]
  },
  {
   "cell_type": "code",
   "execution_count": 4,
   "metadata": {},
   "outputs": [],
   "source": [
    "for i, j in df.iterrows(): \n",
    "    req = \"\"\"INSERT INTO `Collection`.`roles` (`ID`, `Name`, `RoleDesc`, `IsBoss`, `IsActive`) VALUES \"\"\"\n",
    "    reqs = \"\"\" ( '{}','{}','{}','{}','{}')\"\"\".format(j.RoleID, j.RoleName, j.RoleDesc, j.isBoss, j.IsActive)\n",
    "    req += reqs\n",
    "    cur.execute(req)\n",
    "    con.commit()"
   ]
  },
  {
   "cell_type": "code",
   "execution_count": 5,
   "metadata": {},
   "outputs": [],
   "source": [
    "#statuses\n",
    "df = pd.read_excel (r'/Users/margaritaberseneva/Desktop/db.xlsx', sheet_name=1)"
   ]
  },
  {
   "cell_type": "code",
   "execution_count": 6,
   "metadata": {},
   "outputs": [
    {
     "name": "stdout",
     "output_type": "stream",
     "text": [
      "ID\n",
      "BPKindID\n",
      "TypeID\n",
      "Name\n",
      "isEnabled\n",
      "isEnding\n",
      "IsHold\n",
      "IsVerification\n"
     ]
    }
   ],
   "source": [
    "for row in df.head():\n",
    "     print(row)"
   ]
  },
  {
   "cell_type": "code",
   "execution_count": 7,
   "metadata": {},
   "outputs": [],
   "source": [
    "for i, j in df.iterrows(): \n",
    "    req = \"\"\"INSERT INTO `Collection`.`statuses` (`ID`, `TypeID`, `Name`, `IsActive`, `IsEnding`, `IsHold`) VALUES \"\"\"\n",
    "    reqs = \"\"\" ( '{}','{}','{}','{}','{}','{}')\"\"\".format(j.ID, j.TypeID, j.Name, j.isEnabled, j.isEnding, j.IsHold)\n",
    "    req += reqs\n",
    "    cur.execute(req)\n",
    "    con.commit()"
   ]
  },
  {
   "cell_type": "code",
   "execution_count": 22,
   "metadata": {},
   "outputs": [],
   "source": [
    "#actions\n",
    "df = pd.read_excel (r'/Users/margaritaberseneva/Desktop/db.xlsx', sheet_name=2)"
   ]
  },
  {
   "cell_type": "code",
   "execution_count": 23,
   "metadata": {},
   "outputs": [
    {
     "name": "stdout",
     "output_type": "stream",
     "text": [
      "ID\n",
      "BPKindID\n",
      "TypeID\n",
      "Name\n",
      "isEnabled\n",
      "FromStatusID\n",
      "ToStatusID\n",
      "ProcessName\n"
     ]
    }
   ],
   "source": [
    "for row in df.head():\n",
    "     print(row)"
   ]
  },
  {
   "cell_type": "code",
   "execution_count": 27,
   "metadata": {},
   "outputs": [],
   "source": [
    "for i, j in df.iterrows(): \n",
    "    req = \"\"\"INSERT INTO `Collection`.`actions` (`ID`, `TypeID`, `Name`, `IsActive`, `FromStatusID`, `ToStatusID`) VALUES \"\"\"\n",
    "    reqs = \"\"\"( '{}', '{}','{}','{}','{}','{}')\"\"\".format(j.ID, j.TypeID, j.Name, j.isEnabled, j.FromStatusID, j.ToStatusID)\n",
    "    req += reqs\n",
    "    cur.execute(req)\n",
    "    con.commit()"
   ]
  },
  {
   "cell_type": "code",
   "execution_count": 11,
   "metadata": {},
   "outputs": [],
   "source": [
    "#confirmparams\n",
    "df = pd.read_excel (r'/Users/margaritaberseneva/Desktop/db.xlsx', sheet_name=3)"
   ]
  },
  {
   "cell_type": "code",
   "execution_count": 12,
   "metadata": {},
   "outputs": [
    {
     "name": "stdout",
     "output_type": "stream",
     "text": [
      "ID\n",
      "RoleID\n",
      "StateID\n",
      "IsKickback\n",
      "IsReconfirm\n",
      "titleText\n",
      "IsActive\n"
     ]
    }
   ],
   "source": [
    "for row in df.head():\n",
    "     print(row)"
   ]
  },
  {
   "cell_type": "code",
   "execution_count": 13,
   "metadata": {
    "scrolled": true
   },
   "outputs": [],
   "source": [
    "for i, j in df.iterrows(): \n",
    "    req = \"\"\"INSERT INTO `Collection`.`confirmparams` (`ID`, `RoleID`, `StateID`, `Name`, `IsActive`) VALUES \"\"\"\n",
    "    reqs = \"\"\" ( '{}','{}','{}','{}','{}')\"\"\".format(j.ID, j.RoleID, j.StateID, j.titleText, j.IsActive)\n",
    "    req += reqs\n",
    "    cur.execute(req)\n",
    "    con.commit()"
   ]
  },
  {
   "cell_type": "code",
   "execution_count": 18,
   "metadata": {},
   "outputs": [],
   "source": [
    "#confirmbuttons\n",
    "df = pd.read_excel (r'/Users/margaritaberseneva/Desktop/db.xlsx', sheet_name=4)"
   ]
  },
  {
   "cell_type": "code",
   "execution_count": 19,
   "metadata": {},
   "outputs": [
    {
     "name": "stdout",
     "output_type": "stream",
     "text": [
      "ID\n",
      "ConfirmParamsID\n",
      "ButtonTypeID\n",
      "ConfirmSelectBPUserID\n",
      "ActionID\n",
      "ToStatusID\n",
      "ButtonText\n",
      "IsActive\n"
     ]
    }
   ],
   "source": [
    "for row in df.head():\n",
    "     print(row)"
   ]
  },
  {
   "cell_type": "code",
   "execution_count": 20,
   "metadata": {},
   "outputs": [],
   "source": [
    "for i, j in df.iterrows(): \n",
    "    req = \"\"\"INSERT INTO `Collection`.`confirmbuttons` (`ID`, `ButtonTypeID`, `ConfirmParamsID`, `ActionID`, `ToStatusID`, `Name`, `IsActive`) VALUES \"\"\"\n",
    "    reqs = \"\"\" ( '{}','{}','{}', '{}','{}','{}','{}')\"\"\".format(j.ID, j.ButtonTypeID, j.ConfirmParamsID, j.ActionID, j.ActionID, j.ButtonText, j.IsActive)\n",
    "    req += reqs\n",
    "    cur.execute(req)\n",
    "    con.commit()"
   ]
  },
  {
   "cell_type": "code",
   "execution_count": 21,
   "metadata": {},
   "outputs": [
    {
     "data": {
      "text/plain": [
       "[{'COUNT(1)': 8040}]"
      ]
     },
     "execution_count": 21,
     "metadata": {},
     "output_type": "execute_result"
    }
   ],
   "source": [
    "cur.execute(\"SELECT COUNT(1) FROM confirmbuttons\")\n",
    "cur.fetchall()"
   ]
  },
  {
   "cell_type": "markdown",
   "metadata": {},
   "source": [
    "### Интерфейс"
   ]
  },
  {
   "cell_type": "code",
   "execution_count": 2,
   "metadata": {},
   "outputs": [],
   "source": [
    "import ipywidgets as widgets"
   ]
  },
  {
   "cell_type": "code",
   "execution_count": 3,
   "metadata": {},
   "outputs": [],
   "source": [
    "def viewing():\n",
    "    view = widgets.Text(placeholder='введите название экшена или 1 для всех', description='', disabled=False)\n",
    "    display(view)\n",
    "    return view"
   ]
  },
  {
   "cell_type": "code",
   "execution_count": 4,
   "metadata": {},
   "outputs": [],
   "source": [
    "def adding():\n",
    "    add_what = widgets.Text(placeholder='введите точное название одной роли здесь', description='', disabled=False)\n",
    "    display(add_what)\n",
    "    add_to = widgets.Text(placeholder='введите точное название одного статуса здесь', description='', disabled=False)\n",
    "    display(add_to)\n",
    "    return add_what, add_to"
   ]
  },
  {
   "cell_type": "code",
   "execution_count": 5,
   "metadata": {},
   "outputs": [],
   "source": [
    "def modifying():\n",
    "    modify_from = widgets.Select(options=[('кнопку', 'confirmbuttons'), ('роль', 'roles')], value='confirmbuttons', description='Изменить ...', disabled=False)\n",
    "    display(modify_from)\n",
    "    modify_where = widgets.Text(placeholder='введите название здесь', description='', disabled=False)\n",
    "    display(modify_where)\n",
    "    return modify_from, modify_where"
   ]
  },
  {
   "cell_type": "code",
   "execution_count": 6,
   "metadata": {},
   "outputs": [],
   "source": [
    "def deleting():\n",
    "    delete_from = widgets.Select(options=[('кнопку', 'confirmbuttons'), ('роль', 'roles')], value='confirmbuttons', description='Удалить ...', disabled=False)\n",
    "    display(delete_from)\n",
    "    delete_where = widgets.Text(placeholder='введите название здесь', description='', disabled=False)\n",
    "    display(delete_where)\n",
    "    return delete_from, delete_where"
   ]
  },
  {
   "cell_type": "markdown",
   "metadata": {},
   "source": [
    "#### Просмотр"
   ]
  },
  {
   "cell_type": "code",
   "execution_count": 7,
   "metadata": {},
   "outputs": [
    {
     "data": {
      "application/vnd.jupyter.widget-view+json": {
       "model_id": "c4ed60e7ead44499bbeddac4959ab6d9",
       "version_major": 2,
       "version_minor": 0
      },
      "text/html": [
       "<p>Failed to display Jupyter Widget of type <code>Text</code>.</p>\n",
       "<p>\n",
       "  If you're reading this message in the Jupyter Notebook or JupyterLab Notebook, it may mean\n",
       "  that the widgets JavaScript is still loading. If this message persists, it\n",
       "  likely means that the widgets JavaScript library is either not installed or\n",
       "  not enabled. See the <a href=\"https://ipywidgets.readthedocs.io/en/stable/user_install.html\">Jupyter\n",
       "  Widgets Documentation</a> for setup instructions.\n",
       "</p>\n",
       "<p>\n",
       "  If you're reading this message in another frontend (for example, a static\n",
       "  rendering on GitHub or <a href=\"https://nbviewer.jupyter.org/\">NBViewer</a>),\n",
       "  it may mean that your frontend doesn't currently support widgets.\n",
       "</p>\n"
      ],
      "text/plain": [
       "Text(value='', placeholder='введите название экшена или 1 для всех')"
      ]
     },
     "metadata": {},
     "output_type": "display_data"
    }
   ],
   "source": [
    "# просмотр свзяки кнопка-экшн-статусы\n",
    "# например для экшена Договор подписан\n",
    "view = viewing()"
   ]
  },
  {
   "cell_type": "code",
   "execution_count": 8,
   "metadata": {},
   "outputs": [
    {
     "data": {
      "text/plain": [
       "[{'action_id': 13737,\n",
       "  'action_name': 'Договор подписан. УС Установлены',\n",
       "  'button_id': 9907,\n",
       "  'button_name': 'Установка УС завершена',\n",
       "  'from_status_id': 5355,\n",
       "  'from_status_name': 'Самоинкассация. Установка УС заввершена',\n",
       "  'to_status_id': 4971,\n",
       "  'to_status_name': 'Договор подписан клиентом'},\n",
       " {'action_id': 13995,\n",
       "  'action_name': 'Договор подписан',\n",
       "  'button_id': 13936,\n",
       "  'button_name': 'Документы подписаны',\n",
       "  'from_status_id': 5307,\n",
       "  'from_status_name': 'Альфа-Касса. Подтверждение договора',\n",
       "  'to_status_id': 5308,\n",
       "  'to_status_name': 'Альфа-Касса. Документы подписаны'},\n",
       " {'action_id': 14984,\n",
       "  'action_name': 'Договор подписан аутсорсом в регионе. Вернуть в УНДОИЛ',\n",
       "  'button_id': 114831,\n",
       "  'button_name': 'Договор подписан. Вернуть в УНДОИЛ',\n",
       "  'from_status_id': 5710,\n",
       "  'from_status_name': 'ОТОР. Обработка московского договора',\n",
       "  'to_status_id': 5711,\n",
       "  'to_status_name': 'Договор подписан в регионе'},\n",
       " {'action_id': 13344,\n",
       "  'action_name': 'Договор подписан банком. Требуется перенос в ЭА',\n",
       "  'button_id': 114878,\n",
       "  'button_name': 'Экстренный перевод в обработку УНДОИЛ',\n",
       "  'from_status_id': 5041,\n",
       "  'from_status_name': 'Договор передан клиенту',\n",
       "  'to_status_id': 5111,\n",
       "  'to_status_name': 'Обработка УНДОИЛ'},\n",
       " {'action_id': 13531,\n",
       "  'action_name': 'Договор подписан клиентом',\n",
       "  'button_id': 115305,\n",
       "  'button_name': 'Приступить к обработке',\n",
       "  'from_status_id': 5169,\n",
       "  'from_status_name': 'Договор на подпись (ТБ)',\n",
       "  'to_status_id': 5041,\n",
       "  'to_status_name': 'Договор передан клиенту'}]"
      ]
     },
     "execution_count": 8,
     "metadata": {},
     "output_type": "execute_result"
    }
   ],
   "source": [
    "if view.value == '1':\n",
    "    select = '''SELECT actions.id action_id, actions.name action_name,\n",
    "                       buttons.id button_id, buttons.name button_name,\n",
    "                       from_s.id from_status_id, from_s.name from_status_name,\n",
    "                       to_s.id to_status_id, to_s.name to_status_name\n",
    "                FROM actions\n",
    "                JOIN statuses as from_s on actions.FromStatusID = from_s.id \n",
    "                JOIN statuses as to_s on actions.ToStatusID = to_s.id\n",
    "                JOIN confirmbuttons as buttons on actions.id = buttons.actionid\n",
    "                WHERE from_s.isactive = 1 and actions.isactive = 1 and buttons.isactive = 1'''\n",
    "else:\n",
    "    select = '''SELECT actions.id action_id, actions.name action_name,\n",
    "                       buttons.id button_id, buttons.name button_name,\n",
    "                       from_s.id from_status_id, from_s.name from_status_name,\n",
    "                       to_s.id to_status_id, to_s.name to_status_name\n",
    "                FROM actions \n",
    "                JOIN statuses as from_s on actions.FromStatusID = from_s.id \n",
    "                JOIN statuses as to_S on actions.ToStatusID = to_S.id\n",
    "                JOIN confirmbuttons as buttons on actions.id = buttons.actionid\n",
    "                WHERE from_s.isactive = 1 and actions.isactive = 1 and buttons.isactive = 1 and actions.name like \"%{}%\"'''.format(view.value)\n",
    "#print(select)\n",
    "cur.execute(select)\n",
    "cur.fetchall()"
   ]
  },
  {
   "cell_type": "markdown",
   "metadata": {},
   "source": [
    "#### Добавление"
   ]
  },
  {
   "cell_type": "code",
   "execution_count": 9,
   "metadata": {},
   "outputs": [
    {
     "data": {
      "application/vnd.jupyter.widget-view+json": {
       "model_id": "ab615458cb4540a28b18c456769b9630",
       "version_major": 2,
       "version_minor": 0
      },
      "text/html": [
       "<p>Failed to display Jupyter Widget of type <code>Text</code>.</p>\n",
       "<p>\n",
       "  If you're reading this message in the Jupyter Notebook or JupyterLab Notebook, it may mean\n",
       "  that the widgets JavaScript is still loading. If this message persists, it\n",
       "  likely means that the widgets JavaScript library is either not installed or\n",
       "  not enabled. See the <a href=\"https://ipywidgets.readthedocs.io/en/stable/user_install.html\">Jupyter\n",
       "  Widgets Documentation</a> for setup instructions.\n",
       "</p>\n",
       "<p>\n",
       "  If you're reading this message in another frontend (for example, a static\n",
       "  rendering on GitHub or <a href=\"https://nbviewer.jupyter.org/\">NBViewer</a>),\n",
       "  it may mean that your frontend doesn't currently support widgets.\n",
       "</p>\n"
      ],
      "text/plain": [
       "Text(value='', placeholder='введите точное название одной роли здесь')"
      ]
     },
     "metadata": {},
     "output_type": "display_data"
    },
    {
     "data": {
      "application/vnd.jupyter.widget-view+json": {
       "model_id": "c6b307095e894fda93f0f3ebbf4c664a",
       "version_major": 2,
       "version_minor": 0
      },
      "text/html": [
       "<p>Failed to display Jupyter Widget of type <code>Text</code>.</p>\n",
       "<p>\n",
       "  If you're reading this message in the Jupyter Notebook or JupyterLab Notebook, it may mean\n",
       "  that the widgets JavaScript is still loading. If this message persists, it\n",
       "  likely means that the widgets JavaScript library is either not installed or\n",
       "  not enabled. See the <a href=\"https://ipywidgets.readthedocs.io/en/stable/user_install.html\">Jupyter\n",
       "  Widgets Documentation</a> for setup instructions.\n",
       "</p>\n",
       "<p>\n",
       "  If you're reading this message in another frontend (for example, a static\n",
       "  rendering on GitHub or <a href=\"https://nbviewer.jupyter.org/\">NBViewer</a>),\n",
       "  it may mean that your frontend doesn't currently support widgets.\n",
       "</p>\n"
      ],
      "text/plain": [
       "Text(value='', placeholder='введите точное название одного статуса здесь')"
      ]
     },
     "metadata": {},
     "output_type": "display_data"
    }
   ],
   "source": [
    "# добавление роли с привязкой к какому-нибудь статусу\n",
    "# например роль Эксперт по согласованию договоров, статус Согласование договора\n",
    "add_what, add_to = adding()"
   ]
  },
  {
   "cell_type": "code",
   "execution_count": 10,
   "metadata": {},
   "outputs": [
    {
     "data": {
      "text/plain": [
       "[{'ID': 8648,\n",
       "  'IsActive': 1,\n",
       "  'Name': 'Действия роли на статусе',\n",
       "  'RoleID': 1478,\n",
       "  'StateID': 5661}]"
      ]
     },
     "execution_count": 10,
     "metadata": {},
     "output_type": "execute_result"
    }
   ],
   "source": [
    "select1 = \"INSERT INTO roles (Name, ROleDesc, IsBoss, IsActive) VALUES ('{}', NULL, 0, 1)\".format(add_what.value)\n",
    "#print(select1)\n",
    "cur.execute(select1)\n",
    "select2 = \"INSERT INTO confirmparams (RoleID, StateID, Name, IsActive) VALUES ((select id from roles where name like '{}'), (select id from statuses where name like '%{}%'), 'Действия роли на статусе', 1)\".format(add_what.value, add_to.value)\n",
    "#print(select2)\n",
    "cur.execute(select2)\n",
    "check = \"select * from confirmparams where roleid in (select id from roles where name like '%{}%')\".format(add_what.value)\n",
    "#print(s)\n",
    "cur.execute(check)\n",
    "cur.fetchall()"
   ]
  },
  {
   "cell_type": "markdown",
   "metadata": {},
   "source": [
    "#### Изменение"
   ]
  },
  {
   "cell_type": "code",
   "execution_count": 11,
   "metadata": {},
   "outputs": [
    {
     "data": {
      "application/vnd.jupyter.widget-view+json": {
       "model_id": "3cea4208876e4523b5fb4026ab38ae22",
       "version_major": 2,
       "version_minor": 0
      },
      "text/html": [
       "<p>Failed to display Jupyter Widget of type <code>Select</code>.</p>\n",
       "<p>\n",
       "  If you're reading this message in the Jupyter Notebook or JupyterLab Notebook, it may mean\n",
       "  that the widgets JavaScript is still loading. If this message persists, it\n",
       "  likely means that the widgets JavaScript library is either not installed or\n",
       "  not enabled. See the <a href=\"https://ipywidgets.readthedocs.io/en/stable/user_install.html\">Jupyter\n",
       "  Widgets Documentation</a> for setup instructions.\n",
       "</p>\n",
       "<p>\n",
       "  If you're reading this message in another frontend (for example, a static\n",
       "  rendering on GitHub or <a href=\"https://nbviewer.jupyter.org/\">NBViewer</a>),\n",
       "  it may mean that your frontend doesn't currently support widgets.\n",
       "</p>\n"
      ],
      "text/plain": [
       "Select(description='Изменить ...', options=(('кнопку', 'confirmbuttons'), ('роль', 'roles')), value='confirmbuttons')"
      ]
     },
     "metadata": {},
     "output_type": "display_data"
    },
    {
     "data": {
      "application/vnd.jupyter.widget-view+json": {
       "model_id": "6fa2bef88f4b40c9add4c437c3b816cc",
       "version_major": 2,
       "version_minor": 0
      },
      "text/html": [
       "<p>Failed to display Jupyter Widget of type <code>Text</code>.</p>\n",
       "<p>\n",
       "  If you're reading this message in the Jupyter Notebook or JupyterLab Notebook, it may mean\n",
       "  that the widgets JavaScript is still loading. If this message persists, it\n",
       "  likely means that the widgets JavaScript library is either not installed or\n",
       "  not enabled. See the <a href=\"https://ipywidgets.readthedocs.io/en/stable/user_install.html\">Jupyter\n",
       "  Widgets Documentation</a> for setup instructions.\n",
       "</p>\n",
       "<p>\n",
       "  If you're reading this message in another frontend (for example, a static\n",
       "  rendering on GitHub or <a href=\"https://nbviewer.jupyter.org/\">NBViewer</a>),\n",
       "  it may mean that your frontend doesn't currently support widgets.\n",
       "</p>\n"
      ],
      "text/plain": [
       "Text(value='', placeholder='введите название здесь')"
      ]
     },
     "metadata": {},
     "output_type": "display_data"
    }
   ],
   "source": [
    "# изменение кнопки или роли, делаем кнопку невидимой или роль неактивной\n",
    "# например для кнопки Вернуть на сверку, для роли Менеджер инкассации\n",
    "modify_from, modify_where = modifying()"
   ]
  },
  {
   "cell_type": "code",
   "execution_count": 12,
   "metadata": {},
   "outputs": [
    {
     "data": {
      "text/plain": [
       "[{'ActionID': 15295,\n",
       "  'ButtonTypeID': 1,\n",
       "  'ConfirmParamsID': 7807,\n",
       "  'ID': 115111,\n",
       "  'IsActive': 0,\n",
       "  'Name': 'Вернуть на сверку',\n",
       "  'ToStatusID': 15295},\n",
       " {'ActionID': 15296,\n",
       "  'ButtonTypeID': 1,\n",
       "  'ConfirmParamsID': 6626,\n",
       "  'ID': 115112,\n",
       "  'IsActive': 0,\n",
       "  'Name': 'Вернуть на сверку',\n",
       "  'ToStatusID': 15296}]"
      ]
     },
     "execution_count": 12,
     "metadata": {},
     "output_type": "execute_result"
    }
   ],
   "source": [
    "if_select = \"select isActive from {} where name like '%{}%'\".format(modify_from.value, modify_where.value)\n",
    "cur.execute(if_select)\n",
    "a = cur.fetchall()\n",
    "for item in a:\n",
    "    for k, v in item.items():\n",
    "        if v == 1:\n",
    "            select = \"UPDATE {} SET IsActive = 0 WHERE {}.id in (SELECT id FROM (SELECT * FROM {}) as A WHERE name like '%{}%')\".format(modify_from.value, modify_from.value, modify_from.value, modify_where.value)\n",
    "        elif v == 0:\n",
    "            select = \"UPDATE {} SET IsActive = 1 WHERE {}.id in (SELECT id FROM (SELECT * FROM {}) as A WHERE name like '%{}%')\".format(modify_from.value, modify_from.value, modify_from.value, modify_where.value)\n",
    "        cur.execute(select)\n",
    "\n",
    "check = \"SELECT * FROM {} where name like '%{}%'\".format(modify_from.value, modify_where.value)\n",
    "cur.execute(check)\n",
    "cur.fetchall()"
   ]
  },
  {
   "cell_type": "markdown",
   "metadata": {},
   "source": [
    "#### Удаление"
   ]
  },
  {
   "cell_type": "code",
   "execution_count": 13,
   "metadata": {
    "scrolled": true
   },
   "outputs": [
    {
     "data": {
      "application/vnd.jupyter.widget-view+json": {
       "model_id": "4ee1049c62e949e08a91210020e5e49e",
       "version_major": 2,
       "version_minor": 0
      },
      "text/html": [
       "<p>Failed to display Jupyter Widget of type <code>Select</code>.</p>\n",
       "<p>\n",
       "  If you're reading this message in the Jupyter Notebook or JupyterLab Notebook, it may mean\n",
       "  that the widgets JavaScript is still loading. If this message persists, it\n",
       "  likely means that the widgets JavaScript library is either not installed or\n",
       "  not enabled. See the <a href=\"https://ipywidgets.readthedocs.io/en/stable/user_install.html\">Jupyter\n",
       "  Widgets Documentation</a> for setup instructions.\n",
       "</p>\n",
       "<p>\n",
       "  If you're reading this message in another frontend (for example, a static\n",
       "  rendering on GitHub or <a href=\"https://nbviewer.jupyter.org/\">NBViewer</a>),\n",
       "  it may mean that your frontend doesn't currently support widgets.\n",
       "</p>\n"
      ],
      "text/plain": [
       "Select(description='Удалить ...', options=(('кнопку', 'confirmbuttons'), ('роль', 'roles')), value='confirmbuttons')"
      ]
     },
     "metadata": {},
     "output_type": "display_data"
    },
    {
     "data": {
      "application/vnd.jupyter.widget-view+json": {
       "model_id": "d36bfb7e7db34c989371fa81aa75ce6b",
       "version_major": 2,
       "version_minor": 0
      },
      "text/html": [
       "<p>Failed to display Jupyter Widget of type <code>Text</code>.</p>\n",
       "<p>\n",
       "  If you're reading this message in the Jupyter Notebook or JupyterLab Notebook, it may mean\n",
       "  that the widgets JavaScript is still loading. If this message persists, it\n",
       "  likely means that the widgets JavaScript library is either not installed or\n",
       "  not enabled. See the <a href=\"https://ipywidgets.readthedocs.io/en/stable/user_install.html\">Jupyter\n",
       "  Widgets Documentation</a> for setup instructions.\n",
       "</p>\n",
       "<p>\n",
       "  If you're reading this message in another frontend (for example, a static\n",
       "  rendering on GitHub or <a href=\"https://nbviewer.jupyter.org/\">NBViewer</a>),\n",
       "  it may mean that your frontend doesn't currently support widgets.\n",
       "</p>\n"
      ],
      "text/plain": [
       "Text(value='', placeholder='введите название здесь')"
      ]
     },
     "metadata": {},
     "output_type": "display_data"
    }
   ],
   "source": [
    "# удаление кнопки или роли из базы \n",
    "# например для кнопки Вернуть на сверку, для роли Менеджер инкассации\n",
    "delete_from, delete_where = deleting()"
   ]
  },
  {
   "cell_type": "code",
   "execution_count": 14,
   "metadata": {},
   "outputs": [
    {
     "data": {
      "text/plain": [
       "[]"
      ]
     },
     "execution_count": 14,
     "metadata": {},
     "output_type": "execute_result"
    }
   ],
   "source": [
    "select = \"DELETE FROM {} WHERE {}.id in (SELECT id FROM (SELECT * FROM {}) as A WHERE name like '%{}%')\".format(delete_from.value, delete_from.value, delete_from.value, delete_where.value)\n",
    "#print(select)\n",
    "cur.execute(select)\n",
    "check = \"SELECT * FROM {} where name like '%{}%'\".format(delete_from.value, delete_where.value)\n",
    "cur.execute(check)\n",
    "cur.fetchall()"
   ]
  },
  {
   "cell_type": "code",
   "execution_count": null,
   "metadata": {},
   "outputs": [],
   "source": []
  }
 ],
 "metadata": {
  "kernelspec": {
   "display_name": "Python 3",
   "language": "python",
   "name": "python3"
  },
  "language_info": {
   "codemirror_mode": {
    "name": "ipython",
    "version": 3
   },
   "file_extension": ".py",
   "mimetype": "text/x-python",
   "name": "python",
   "nbconvert_exporter": "python",
   "pygments_lexer": "ipython3",
   "version": "3.6.4"
  }
 },
 "nbformat": 4,
 "nbformat_minor": 2
}
