{
 "cells": [
  {
   "cell_type": "code",
   "execution_count": 56,
   "metadata": {},
   "outputs": [],
   "source": [
    "from nltk.corpus import conll2000\n",
    "from conllu import parse\n",
    "from collections import Counter, defaultdict"
   ]
  },
  {
   "cell_type": "markdown",
   "metadata": {},
   "source": [
    "## Данные"
   ]
  },
  {
   "cell_type": "code",
   "execution_count": 59,
   "metadata": {},
   "outputs": [],
   "source": [
    "train_s = []\n",
    "with open('./UD_English-EWT/en_ewt-ud-train.conllu') as train_set:\n",
    "    for tokens in parse(train_set.read()):\n",
    "        train_s.append([(token['form'], token['upostag']) for token in tokens])\n",
    "test_s = []\n",
    "with open('./UD_English-EWT/en_ewt-ud-test.conllu') as test_set:\n",
    "    for tokens in parse(test_set.read()):\n",
    "        test_s.append([(token['form'], token['upostag']) for token in tokens])"
   ]
  },
  {
   "cell_type": "code",
   "execution_count": 60,
   "metadata": {},
   "outputs": [],
   "source": [
    "conll2000.ensure_loaded()\n",
    "train_s_conll = conll2000.tagged_sents()[:8000]\n",
    "test_s_conll = conll2000.tagged_sents()[8000:]"
   ]
  },
  {
   "cell_type": "markdown",
   "metadata": {},
   "source": [
    "## Точность теггера"
   ]
  },
  {
   "cell_type": "code",
   "execution_count": 61,
   "metadata": {},
   "outputs": [],
   "source": [
    "def accuracy(test_sents, postagger):\n",
    "    errors = 0\n",
    "    length = 0\n",
    "    for sent in test_sents:\n",
    "        length += len(sent)\n",
    "        sent, real_tags = zip(*sent)\n",
    "        my_tags = postagger.tag(sent)\n",
    "        for i in range(len(my_tags)):\n",
    "            if my_tags[i][1] != real_tags[i]:\n",
    "                errors += 1\n",
    "    return 1 - errors / length"
   ]
  },
  {
   "cell_type": "markdown",
   "metadata": {},
   "source": [
    "## Нормализатор"
   ]
  },
  {
   "cell_type": "code",
   "execution_count": 62,
   "metadata": {},
   "outputs": [],
   "source": [
    "class BaseNormalizer:\n",
    "    def normalize(self, counter):\n",
    "        sum_ = sum(counter.values())\n",
    "        for token in counter:\n",
    "            counter[token] /= sum_"
   ]
  },
  {
   "cell_type": "markdown",
   "metadata": {},
   "source": [
    "## Bigram POS tagger"
   ]
  },
  {
   "cell_type": "code",
   "execution_count": 63,
   "metadata": {},
   "outputs": [],
   "source": [
    "class EmissionModel:\n",
    "    def __init__(self, tagged_sents, normalizer=BaseNormalizer()):\n",
    "        self.normalizer = normalizer\n",
    "        self.model = defaultdict(Counter)\n",
    "        # self.model будет иметь вид \n",
    "        # defaultdict({'tag_1': Counter({'word_1': 0.3, 'word_2': 0.7}), 'tag_2': Counter({'word_1': 0.6, 'word_3': 0.3 ...})})\n",
    "        for sent in tagged_sents:\n",
    "            for word, tag in sent:\n",
    "                self.model[tag][word] += 1\n",
    "        self.add_unk_token()\n",
    "        for tag in self.model:\n",
    "            self.normalizer.normalize(self.model[tag])\n",
    "        \n",
    "    def add_unk_token(self):\n",
    "        # Для каждого тега добавим одинаковую вероятность быть приписанным любому слову, которого нет в модели\n",
    "        for tag in self.model:\n",
    "            self.model[tag][\"UNK\"] = 0.1\n",
    "        \n",
    "    def tags(self):\n",
    "        # Добавим возможность возвращать все теги, которые есть в модели\n",
    "        return self.model.keys()\n",
    "    \n",
    "    def __getitem__(self, tag):\n",
    "        # Все слова для данного тега\n",
    "        return self.model[tag]\n",
    "    \n",
    "    def __call__(self, word, tag):\n",
    "        # Самое интересное - вероятность P(word|tag)\n",
    "        if word not in self[tag]:\n",
    "            return self[tag]['UNK']\n",
    "        return self[tag][word]"
   ]
  },
  {
   "cell_type": "code",
   "execution_count": 64,
   "metadata": {},
   "outputs": [],
   "source": [
    "class TransitionModel:\n",
    "    def __init__(self, tag_seqs, normalizer=BaseNormalizer()):\n",
    "        self.normalizer = normalizer\n",
    "        self.model = defaultdict(Counter)\n",
    "        for sent in tag_seqs:\n",
    "            for i, tag in enumerate(sent):\n",
    "                if i == 0:\n",
    "                    self.model['START'][sent[0]] += 1\n",
    "                    continue\n",
    "                self.model[sent[i - 1]][tag] += 1\n",
    "        for tag in self.model:\n",
    "            self.normalizer.normalize(self.model[tag])\n",
    "\n",
    "    def tags(self):\n",
    "        return self.model.keys()\n",
    "\n",
    "    def __getitem__(self, tag):\n",
    "        return self.model[tag]\n",
    "    \n",
    "    def __call__(self, tag, prev_tag=None):\n",
    "        if not prev_tag:\n",
    "            return self.model['START'][tag]\n",
    "        return self.model[prev_tag][tag]"
   ]
  },
  {
   "cell_type": "code",
   "execution_count": 65,
   "metadata": {},
   "outputs": [],
   "source": [
    "class BigramPOSTagger:\n",
    "    def __init__(self, emission_model, transition_model):\n",
    "        self.em = emission_model\n",
    "        self.tm = transition_model\n",
    "\n",
    "    def tag(self, sent):\n",
    "        tags = []\n",
    "        for i, word in enumerate(sent):\n",
    "            if i == 0:\n",
    "                prev_t = 'START'\n",
    "            else:\n",
    "                prev_t = tags[i - 1]\n",
    "            max_prob = 0\n",
    "            best_tag = 'UNK'\n",
    "            for t in self.tm.tags():\n",
    "                prob = self.em(word, t) * self.tm(t, prev_t)\n",
    "                if prob > max_prob:\n",
    "                    max_prob, best_tag = prob, t\n",
    "            tags.append(best_tag)\n",
    "        return list(zip(sent, tags))"
   ]
  },
  {
   "cell_type": "markdown",
   "metadata": {},
   "source": [
    "## Обучение, проверка, сравнение"
   ]
  },
  {
   "cell_type": "code",
   "execution_count": 67,
   "metadata": {},
   "outputs": [
    {
     "data": {
      "text/plain": [
       "0.8385065944136749"
      ]
     },
     "execution_count": 67,
     "metadata": {},
     "output_type": "execute_result"
    }
   ],
   "source": [
    "em  = EmissionModel(train_s)\n",
    "tm = TransitionModel([[tag for word, tag in sent] for sent in train_s])\n",
    "bigram_postagger = BigramPOSTagger(em, tm)\n",
    "accuracy(test_s, bigram_postagger)"
   ]
  },
  {
   "cell_type": "code",
   "execution_count": 68,
   "metadata": {},
   "outputs": [
    {
     "data": {
      "text/plain": [
       "0.8722227025157776"
      ]
     },
     "execution_count": 68,
     "metadata": {},
     "output_type": "execute_result"
    }
   ],
   "source": [
    "em_conll = EmissionModel(train_s_conll)\n",
    "tm_conll = TransitionModel([[tag for word, tag in sent] for sent in train_s_conll])\n",
    "bigram_postagger_conll = BigramPOSTagger(em_conll, tm_conll)\n",
    "accuracy(test_s_conll, bigram_postagger_conll)"
   ]
  },
  {
   "cell_type": "markdown",
   "metadata": {},
   "source": [
    "Теггер, обученный на корпусе conll200, показывает более высокую точность, чем другой теггер."
   ]
  }
 ],
 "metadata": {
  "kernelspec": {
   "display_name": "Python 3",
   "language": "python",
   "name": "python3"
  },
  "language_info": {
   "codemirror_mode": {
    "name": "ipython",
    "version": 3
   },
   "file_extension": ".py",
   "mimetype": "text/x-python",
   "name": "python",
   "nbconvert_exporter": "python",
   "pygments_lexer": "ipython3",
   "version": "3.6.4"
  }
 },
 "nbformat": 4,
 "nbformat_minor": 2
}
