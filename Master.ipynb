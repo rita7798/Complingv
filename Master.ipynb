{
 "cells": [
  {
   "cell_type": "code",
   "execution_count": 1,
   "metadata": {},
   "outputs": [],
   "source": [
    "import csvtools\n",
    "import datetime\n",
    "from datetime import datetime, timedelta"
   ]
  },
  {
   "cell_type": "code",
   "execution_count": 2,
   "metadata": {},
   "outputs": [],
   "source": [
    "dw = csvtools.DumpWrapper('.')\n",
    "notes = dw.notes()"
   ]
  },
  {
   "cell_type": "code",
   "execution_count": null,
   "metadata": {},
   "outputs": [
    {
     "name": "stdout",
     "output_type": "stream",
     "text": [
      "(1932, 1, 22)\n",
      "(1932, 1, 23)\n",
      "(1932, 1, 24)\n",
      "(1932, 2, 21)\n",
      "(1932, 2, 22)\n",
      "(1932, 2, 23)\n",
      "(1932, 3, 21)\n",
      "(1932, 3, 22)\n",
      "(1932, 3, 23)\n",
      "(1932, 4, 20)\n",
      "(1932, 4, 21)\n",
      "(1932, 4, 22)\n",
      "(1932, 5, 19)\n"
     ]
    }
   ],
   "source": [
    "full_moon = ['1932-1-22', '1932-1-23', '1932-1-24', \n",
    "             '1932-2-21', '1932-2-22', '1932-2-23',\n",
    "             '1932-3-21', '1932-3-22', '1932-3-23',\n",
    "             '1932-4-20', '1932-4-21', '1932-4-22', \n",
    "             '1932-5-19', '1932-5-20', '1932-5-21', \n",
    "             '1932-6-17', '1932-6-18', '1932-6-19',\n",
    "             '1932-7-17', '1932-7-18', '1932-7-19',\n",
    "             '1932-8-15', '1932-8-16', '1932-8-17', \n",
    "             '1932-9-14', '1932-9-15', '1932-9-26', \n",
    "             '1932-10-13', '1932-10-14', '1932-10-15', \n",
    "             '1932-11-12', '1932-11-13', '1942-11-14',\n",
    "             '1932-12-12', '1932-12-13', '1932-12-14']\n",
    "\n",
    "for date in full_moon:\n",
    "    d = tuple(map(int, date.split('-')))\n",
    "    print(d)\n",
    "    l = notes.searchDate(d)\n",
    "    with open ('{}.txt'.format(date), 'w', encoding='utf8') as f:\n",
    "        for i in l:\n",
    "            f.write(i.text)\n",
    "            f.flush()\n",
    "        f.close()"
   ]
  },
  {
   "cell_type": "code",
   "execution_count": null,
   "metadata": {},
   "outputs": [],
   "source": []
  }
 ],
 "metadata": {
  "kernelspec": {
   "display_name": "Python 3",
   "language": "python",
   "name": "python3"
  },
  "language_info": {
   "codemirror_mode": {
    "name": "ipython",
    "version": 3
   },
   "file_extension": ".py",
   "mimetype": "text/x-python",
   "name": "python",
   "nbconvert_exporter": "python",
   "pygments_lexer": "ipython3",
   "version": "3.6.4"
  }
 },
 "nbformat": 4,
 "nbformat_minor": 2
}
