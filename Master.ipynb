{
 "cells": [
  {
   "cell_type": "code",
   "execution_count": 48,
   "metadata": {},
   "outputs": [],
   "source": [
    "#импорт инструментов\n",
    "\n",
    "import csvtools\n",
    "import datetime"
   ]
  },
  {
   "cell_type": "code",
   "execution_count": 49,
   "metadata": {},
   "outputs": [],
   "source": [
    "#использование инструмента по навигации в записях дневников\n",
    "\n",
    "dw = csvtools.DumpWrapper('.')\n",
    "notes = dw.notes()"
   ]
  },
  {
   "cell_type": "code",
   "execution_count": 90,
   "metadata": {},
   "outputs": [],
   "source": [
    "#пример выкачивания записей в дни полнолуний и сохранений их в отдельные документы по дням\n",
    "\n",
    "new_moon = [ '1936-1-17',  '1936-1-18',   '1936-1-19',\n",
    "             '1936-2-16',  '1936-2-17',   '1936-2-18',\n",
    "             '1936-3-18',  '1936-3-19',   '1936-3-20', \n",
    "             '1936-4-17',  '1936-4-18',   '1936-4-19', \n",
    "             '1936-5-16',  '1936-5-17',   '1936-5-18',\n",
    "             '1936-6-15',  '1936-6-16',   '1936-6-17',\n",
    "             '1936-7-14',  '1936-7-15',   '1936-7-16',\n",
    "             '1936-8-13',  '1936-8-14',   '1936-9-15', \n",
    "             '1936-9-12',  '1936-9-13',   '1936-9-14', \n",
    "             '1936-10-10', '1936-10-11',  '1936-10-12', \n",
    "             '1936-11-9',  '1936-11-10',  '1936-11-11',\n",
    "             '1936-12-8',  '1936-12-9',   '1936-12-10']\n",
    "\n",
    "for date in new_moon:\n",
    "    d = tuple(map(int, date.split('-')))\n",
    "    print(d)\n",
    "    l = notes.searchDate(d)\n",
    "    with open ('{}.txt'.format(date), 'w', encoding='utf8') as f:\n",
    "        for i in l:\n",
    "            f.write(i.text)\n",
    "            f.flush()\n",
    "        f.close()"
   ]
  },
  {
   "cell_type": "code",
   "execution_count": 19,
   "metadata": {},
   "outputs": [],
   "source": [
    "import codecs, re, os\n",
    "from pymystem3 import Mystem\n",
    "import gensim\n",
    "from gensim import corpora, models\n",
    "import nltk\n",
    "from nltk import FreqDist\n",
    "from nltk.collocations import *\n",
    "\n",
    "mystem_object = Mystem()\n",
    "mystem_object.start()"
   ]
  },
  {
   "cell_type": "code",
   "execution_count": 20,
   "metadata": {},
   "outputs": [],
   "source": [
    "from stop_words import get_stop_words\n",
    "ru_stop = get_stop_words('ru')"
   ]
  },
  {
   "cell_type": "code",
   "execution_count": 5,
   "metadata": {
    "scrolled": true
   },
   "outputs": [
    {
     "name": "stdout",
     "output_type": "stream",
     "text": [
      "\n",
      "\n",
      "topics\n",
      "\n",
      "\n",
      "0\n",
      "0.003*\"идти\" + 0.002*\"лошадь\" + 0.002*\"станица\" + 0.002*\"час\" + 0.002*\"ехать\" + 0.002*\"полк\" + 0.002*\"начинать\" + 0.002*\"дорога\" + 0.002*\"пойти\" + 0.002*\"обоз\"\n",
      "1\n",
      "0.008*\"з\" + 0.005*\"свой\" + 0.004*\"вечер\" + 0.004*\"говорить\" + 0.003*\"утро\" + 0.003*\"час\" + 0.003*\"як\" + 0.003*\"й\" + 0.003*\"р\" + 0.003*\"це\"\n",
      "2\n",
      "0.005*\"свой\" + 0.004*\"вечер\" + 0.003*\"говорить\" + 0.003*\"утро\" + 0.003*\"час\" + 0.003*\"работа\" + 0.002*\"давать\" + 0.002*\"знать\" + 0.002*\"дело\" + 0.002*\"работать\"\n",
      "3\n",
      "0.005*\"вечер\" + 0.004*\"свой\" + 0.003*\"русский\" + 0.003*\"утро\" + 0.003*\"приходить\" + 0.002*\"р\" + 0.002*\"работа\" + 0.002*\"рубль\" + 0.002*\"работать\" + 0.002*\"ч\"\n",
      "4\n",
      "0.007*\"свой\" + 0.005*\"говорить\" + 0.003*\"вечер\" + 0.003*\"знать\" + 0.003*\"становиться\" + 0.003*\"пойти\" + 0.003*\"идти\" + 0.003*\"час\" + 0.003*\"давать\" + 0.002*\"работа\"\n",
      "5\n",
      "0.005*\"свой\" + 0.004*\"вечер\" + 0.003*\"говорить\" + 0.003*\"час\" + 0.003*\"работа\" + 0.003*\"идти\" + 0.003*\"становиться\" + 0.003*\"утро\" + 0.002*\"пойти\" + 0.002*\"место\"\n",
      "6\n",
      "0.003*\"мес\" + 0.002*\"июнь\" + 0.002*\"елочка\" + 0.002*\"потратить\" + 0.002*\"чудный\" + 0.002*\"октябрь\" + 0.001*\"расход\" + 0.001*\"радек\" + 0.001*\"визит\" + 0.001*\"архипелаг\"\n",
      "7\n",
      "0.005*\"говорить\" + 0.004*\"свой\" + 0.003*\"вечер\" + 0.003*\"работа\" + 0.003*\"знать\" + 0.003*\"становиться\" + 0.003*\"утро\" + 0.002*\"час\" + 0.002*\"пойти\" + 0.002*\"хороший\"\n",
      "8\n",
      "0.004*\"гнездо\" + 0.004*\"тропа\" + 0.003*\"дрозд\" + 0.003*\"слева\" + 0.003*\"справа\" + 0.003*\"сосновый\" + 0.003*\"бор\" + 0.003*\"камень\" + 0.002*\"конек\" + 0.002*\"ручей\"\n",
      "9\n",
      "0.007*\"свой\" + 0.005*\"говорить\" + 0.004*\"вечер\" + 0.003*\"час\" + 0.003*\"работа\" + 0.003*\"утро\" + 0.003*\"идти\" + 0.003*\"становиться\" + 0.003*\"знать\" + 0.003*\"дело\"\n"
     ]
    }
   ],
   "source": [
    "#программа для обработки записей и топик моделинга\n",
    "#первый прогон для обычных дней\n",
    "\n",
    "\n",
    "def processDir(dir):\n",
    "    doc_set = []\n",
    "    dirlist = os.listdir(dir)\n",
    "    for filenum in range(len(dirlist)):\n",
    "        doc_set.append(processFile(dirlist[filenum]))\n",
    "    return doc_set\n",
    "\n",
    "        \n",
    "def topic_modeling(doc_set):\n",
    "    dictionary = corpora.Dictionary(doc_set)\n",
    "    corpus = [dictionary.doc2bow(text) for text in doc_set]\n",
    "    ldamodel = gensim.models.ldamodel.LdaModel(corpus, num_topics=10, id2word = dictionary, passes=20)\n",
    "    ldamodel[corpus]\n",
    "    print (\"\\n\\ntopics\\n\\n\")\n",
    "    for a in ldamodel.show_topics(num_topics=10, num_words=10):\n",
    "        for i in a:\n",
    "            print (i)\n",
    "\n",
    "            \n",
    "def processFile(name): \n",
    "    doc = []\n",
    "    if 'DS_Store' not in name: \n",
    "        f = codecs.open('days/'+name, 'r', 'utf-8').read()\n",
    "        clean_doc = []\n",
    "        words = mystem_object.analyze(f)\n",
    "        for word in words:\n",
    "            if word.get('analysis') != None and word.get('analysis') != [] and word['analysis'][0]['lex'] not in ru_stop:\n",
    "                clean_doc.append(word['analysis'][0]['lex'])\n",
    "    else:\n",
    "        clean_doc = []\n",
    "    return clean_doc\n",
    "    \n",
    "     \n",
    "doc_set = processDir('days')    \n",
    "topic_modeling(doc_set)"
   ]
  },
  {
   "cell_type": "markdown",
   "metadata": {},
   "source": [
    "4 выделившихся конкретных топика\n",
    "\n",
    "\"Дорога\" — \n",
    "0.003*\"идти\" + 0.002*\"лошадь\" + 0.002*\"станица\" + 0.002*\"час\" + 0.002*\"ехать\" + 0.002*\"полк\" + 0.002*\"начинать\" + 0.002*\"дорога\" + 0.002*\"пойти\" + 0.002*\"обоз\"\n",
    "\n",
    "\"Работа\" — \n",
    "0.005*\"свой\" + 0.004*\"вечер\" + 0.003*\"говорить\" + 0.003*\"утро\" + 0.003*\"час\" + 0.003*\"работа\" + 0.002*\"давать\" + 0.002*\"знать\" + 0.002*\"дело\" + 0.002*\"работать\"\n",
    "\n",
    "\"Визит\" — \n",
    "0.003*\"мес\" + 0.002*\"июнь\" + 0.002*\"елочка\" + 0.002*\"потратить\" + 0.002*\"чудный\" + 0.002*\"октябрь\" + 0.001*\"расход\" + 0.001*\"радек\" + 0.001*\"визит\" + 0.001*\"архипелаг\"\n",
    "\n",
    "\"Бор\" — \n",
    "0.004*\"гнездо\" + 0.004*\"тропа\" + 0.003*\"дрозд\" + 0.003*\"слева\" + 0.003*\"справа\" + 0.003*\"сосновый\" + 0.003*\"бор\" + 0.003*\"камень\" + 0.002*\"конек\" + 0.002*\"ручей\""
   ]
  },
  {
   "cell_type": "code",
   "execution_count": 32,
   "metadata": {},
   "outputs": [],
   "source": [
    "#дополним стоп слова\n",
    "\n",
    "extra_stops = [#'идти', 'начинать', 'пойти', 'говорить', 'давать', 'знать', 'работать', 'приходить', \n",
    "               #'становиться', 'пойти','получать', 'видеть', 'писать', 'читать', 'выходить', 'думать',\n",
    "               'р', 'н', 'й', 'з', 'як', 'ч', 'д', 'це', \n",
    "               'свой', 'ничто', 'какой-то']"
   ]
  },
  {
   "cell_type": "code",
   "execution_count": 33,
   "metadata": {
    "scrolled": true
   },
   "outputs": [
    {
     "name": "stdout",
     "output_type": "stream",
     "text": [
      "\n",
      "\n",
      "topics\n",
      "\n",
      "\n",
      "0\n",
      "0.004*\"вечер\" + 0.004*\"говорить\" + 0.003*\"час\" + 0.003*\"дело\" + 0.003*\"новый\" + 0.003*\"утро\" + 0.003*\"давать\" + 0.003*\"идти\" + 0.003*\"приходить\" + 0.003*\"становиться\"\n",
      "1\n",
      "0.004*\"говорить\" + 0.004*\"вечер\" + 0.003*\"работа\" + 0.003*\"утро\" + 0.003*\"знать\" + 0.003*\"становиться\" + 0.003*\"давать\" + 0.003*\"идти\" + 0.002*\"дело\" + 0.002*\"большой\"\n",
      "2\n",
      "0.003*\"работа\" + 0.003*\"вечер\" + 0.003*\"говорить\" + 0.003*\"идти\" + 0.003*\"становиться\" + 0.003*\"давать\" + 0.003*\"знать\" + 0.002*\"утро\" + 0.002*\"большой\" + 0.002*\"новый\"\n",
      "3\n",
      "0.005*\"говорить\" + 0.003*\"вечер\" + 0.003*\"час\" + 0.003*\"становиться\" + 0.003*\"работа\" + 0.003*\"идти\" + 0.003*\"утро\" + 0.003*\"большой\" + 0.003*\"приходить\" + 0.003*\"пойти\"\n",
      "4\n",
      "0.004*\"час\" + 0.004*\"вечер\" + 0.004*\"говорить\" + 0.004*\"утро\" + 0.003*\"работа\" + 0.003*\"хороший\" + 0.003*\"становиться\" + 0.003*\"идти\" + 0.003*\"знать\" + 0.003*\"ночь\"\n",
      "5\n",
      "0.002*\"його\" + 0.002*\"коцюбинський\" + 0.001*\"листування\" + 0.001*\"б\" + 0.001*\"кружок\" + 0.001*\"час\" + 0.001*\"утро\" + 0.001*\"руб\" + 0.001*\"дождь\" + 0.001*\"пойти\"\n",
      "6\n",
      "0.005*\"говорить\" + 0.004*\"вечер\" + 0.004*\"работа\" + 0.003*\"час\" + 0.003*\"знать\" + 0.003*\"дело\" + 0.003*\"идти\" + 0.003*\"утро\" + 0.003*\"становиться\" + 0.003*\"хороший\"\n",
      "7\n",
      "0.007*\"говорить\" + 0.004*\"вечер\" + 0.003*\"знать\" + 0.003*\"час\" + 0.003*\"дело\" + 0.003*\"утро\" + 0.003*\"идти\" + 0.003*\"давать\" + 0.002*\"читать\" + 0.002*\"становиться\"\n",
      "8\n",
      "0.002*\"тропа\" + 0.002*\"конек\" + 0.002*\"слева\" + 0.002*\"церковь\" + 0.002*\"идти\" + 0.002*\"камень\" + 0.002*\"час\" + 0.002*\"справа\" + 0.002*\"бор\" + 0.002*\"вечер\"\n",
      "9\n",
      "0.004*\"вечер\" + 0.004*\"говорить\" + 0.003*\"работа\" + 0.003*\"утро\" + 0.003*\"приходить\" + 0.003*\"час\" + 0.003*\"становиться\" + 0.002*\"идти\" + 0.002*\"знать\" + 0.002*\"дело\"\n"
     ]
    }
   ],
   "source": [
    "#прогоним еще раз с дополнительными стоп словами\n",
    "\n",
    "\n",
    "def processDir(dir):\n",
    "    doc_set = []\n",
    "    dirlist = os.listdir(dir)\n",
    "    for filenum in range(len(dirlist)):\n",
    "        doc_set.append(processFile(dirlist[filenum]))\n",
    "    return doc_set\n",
    "\n",
    "        \n",
    "def topic_modeling(doc_set):\n",
    "    dictionary = corpora.Dictionary(doc_set)\n",
    "    corpus = [dictionary.doc2bow(text) for text in doc_set]\n",
    "    ldamodel = gensim.models.ldamodel.LdaModel(corpus, num_topics=10, id2word = dictionary, passes=20)\n",
    "    ldamodel[corpus]\n",
    "    print (\"\\n\\ntopics\\n\\n\")\n",
    "    for a in ldamodel.show_topics(num_topics=10, num_words=10):\n",
    "        for i in a:\n",
    "            print (i)\n",
    "\n",
    "            \n",
    "def processFile(name): \n",
    "    doc = []\n",
    "    if 'DS_Store' not in name: \n",
    "        f = codecs.open('days/'+name, 'r', 'utf-8').read()\n",
    "        clean_doc = []\n",
    "        words = mystem_object.analyze(f)\n",
    "        for word in words:\n",
    "            if word.get('analysis') != None and word.get('analysis') != [] and word['analysis'][0]['lex'] not in ru_stop and word['analysis'][0]['lex'] not in extra_stops:\n",
    "                clean_doc.append(word['analysis'][0]['lex'])\n",
    "    else:\n",
    "        clean_doc = []\n",
    "    return clean_doc\n",
    "    \n",
    "     \n",
    "doc_set = processDir('days')    \n",
    "topic_modeling(doc_set)"
   ]
  },
  {
   "cell_type": "markdown",
   "metadata": {},
   "source": [
    "\"Работа\" — 0.004*\"говорить\" + 0.004*\"вечер\" + 0.003*\"работа\" + 0.003*\"утро\" + 0.003*\"знать\" + 0.003*\"становиться\" + 0.003*\"давать\" + 0.003*\"идти\" + 0.002*\"дело\" + 0.002*\"большой\"\n",
    "\n",
    "\"Бор\" — 0.002*\"тропа\" + 0.002*\"конек\" + 0.002*\"слева\" + 0.002*\"церковь\" + 0.002*\"идти\" + 0.002*\"камень\" + 0.002*\"час\" + 0.002*\"справа\" + 0.002*\"бор\" + 0.002*\"вечер\"\n",
    "\n",
    "Вечер—утро—ночь"
   ]
  },
  {
   "cell_type": "code",
   "execution_count": 31,
   "metadata": {},
   "outputs": [
    {
     "name": "stdout",
     "output_type": "stream",
     "text": [
      "\n",
      "\n",
      "topics\n",
      "\n",
      "\n",
      "0\n",
      "0.004*\"вечер\" + 0.004*\"говорить\" + 0.003*\"час\" + 0.003*\"становиться\" + 0.003*\"работа\" + 0.003*\"утро\" + 0.003*\"идти\" + 0.003*\"пойти\" + 0.003*\"знать\" + 0.003*\"дело\"\n",
      "1\n",
      "0.004*\"вечер\" + 0.003*\"утро\" + 0.003*\"час\" + 0.003*\"говорить\" + 0.003*\"становиться\" + 0.003*\"идти\" + 0.002*\"работа\" + 0.002*\"дело\" + 0.002*\"сделать\" + 0.002*\"давать\"\n",
      "2\n",
      "0.003*\"говорить\" + 0.003*\"вечер\" + 0.003*\"час\" + 0.002*\"знать\" + 0.002*\"новый\" + 0.002*\"дело\" + 0.002*\"становиться\" + 0.002*\"приходить\" + 0.002*\"видеть\" + 0.002*\"вопрос\"\n",
      "3\n",
      "0.005*\"говорить\" + 0.004*\"вечер\" + 0.003*\"работа\" + 0.003*\"утро\" + 0.003*\"давать\" + 0.003*\"знать\" + 0.003*\"становиться\" + 0.003*\"дело\" + 0.002*\"приходить\" + 0.002*\"хороший\"\n",
      "4\n",
      "0.003*\"час\" + 0.002*\"вечер\" + 0.002*\"вода\" + 0.002*\"руб\" + 0.002*\"цилиндр\" + 0.002*\"туф\" + 0.002*\"пушкин\" + 0.002*\"статья\" + 0.002*\"музей\" + 0.001*\"це\"\n",
      "5\n",
      "0.006*\"говорить\" + 0.004*\"вечер\" + 0.003*\"давать\" + 0.003*\"утро\" + 0.003*\"становиться\" + 0.003*\"дело\" + 0.003*\"час\" + 0.003*\"идти\" + 0.003*\"работа\" + 0.003*\"пойти\"\n",
      "6\n",
      "0.005*\"вечер\" + 0.004*\"говорить\" + 0.004*\"письмо\" + 0.003*\"давать\" + 0.003*\"работа\" + 0.003*\"час\" + 0.003*\"утро\" + 0.003*\"знать\" + 0.003*\"писать\" + 0.003*\"хороший\"\n",
      "7\n",
      "0.005*\"говорить\" + 0.003*\"вечер\" + 0.003*\"становиться\" + 0.003*\"знать\" + 0.003*\"давать\" + 0.003*\"дело\" + 0.003*\"работа\" + 0.002*\"час\" + 0.002*\"идти\" + 0.002*\"хороший\"\n",
      "8\n",
      "0.005*\"говорить\" + 0.005*\"вечер\" + 0.004*\"знать\" + 0.003*\"идти\" + 0.003*\"приходить\" + 0.003*\"писать\" + 0.003*\"работа\" + 0.003*\"становиться\" + 0.003*\"пойти\" + 0.003*\"давать\"\n",
      "9\n",
      "0.005*\"вечер\" + 0.004*\"письмо\" + 0.004*\"говорить\" + 0.003*\"работа\" + 0.003*\"получать\" + 0.003*\"час\" + 0.003*\"вчера\" + 0.002*\"идти\" + 0.002*\"утро\" + 0.002*\"работать\"\n"
     ]
    }
   ],
   "source": [
    "#новолуния без доп стоп слов\n",
    "\n",
    "def processDir(dir):\n",
    "    doc_set = []\n",
    "    dirlist = os.listdir(dir)\n",
    "    for filenum in range(len(dirlist)):\n",
    "        doc_set.append(processFile(dirlist[filenum]))\n",
    "    return doc_set\n",
    "\n",
    "        \n",
    "def topic_modeling(doc_set):\n",
    "    dictionary = corpora.Dictionary(doc_set)\n",
    "    corpus = [dictionary.doc2bow(text) for text in doc_set]\n",
    "    ldamodel = gensim.models.ldamodel.LdaModel(corpus, num_topics=10, id2word = dictionary, passes=20)\n",
    "    ldamodel[corpus]\n",
    "    print (\"\\n\\ntopics\\n\\n\")\n",
    "    for a in ldamodel.show_topics(num_topics=10, num_words=10):\n",
    "        for i in a:\n",
    "            print (i)\n",
    "\n",
    "            \n",
    "def processFile(name): \n",
    "    doc = []\n",
    "    if 'DS_Store' not in name: \n",
    "        f = codecs.open('new/'+name, 'r', 'utf-8').read()\n",
    "        clean_doc = []\n",
    "        words = mystem_object.analyze(f)\n",
    "        for word in words:\n",
    "            if word.get('analysis') != None and word.get('analysis') != [] and word['analysis'][0]['lex'] not in ru_stop and word['analysis'][0]['lex'] not in extra_stops:\n",
    "                clean_doc.append(word['analysis'][0]['lex'])\n",
    "    else:\n",
    "        clean_doc = []\n",
    "    return clean_doc\n",
    "    \n",
    "     \n",
    "doc_set = processDir('new')    \n",
    "topic_modeling(doc_set)"
   ]
  },
  {
   "cell_type": "markdown",
   "metadata": {},
   "source": [
    "\"Работа\" — 0.004*\"вечер\" + 0.004*\"говорить\" + 0.003*\"час\" + 0.003*\"становиться\" + 0.003*\"работа\" + 0.003*\"утро\" + 0.003*\"идти\" + 0.003*\"пойти\" + 0.003*\"знать\" + 0.003*\"дело\"\n",
    "\n",
    "\"Активности\" — 0.003*\"час\" + 0.002*\"вечер\" + 0.002*\"вода\" + 0.002*\"руб\" + 0.002*\"цилиндр\" + 0.002*\"туф\" + 0.002*\"пушкин\" + 0.002*\"статья\" + 0.002*\"музей\" + 0.001*\"це\"\n",
    "\n",
    "Вечер—утро"
   ]
  },
  {
   "cell_type": "code",
   "execution_count": 27,
   "metadata": {},
   "outputs": [
    {
     "name": "stdout",
     "output_type": "stream",
     "text": [
      "\n",
      "\n",
      "topics\n",
      "\n",
      "\n",
      "0\n",
      "0.004*\"вечер\" + 0.004*\"говорить\" + 0.003*\"час\" + 0.003*\"утро\" + 0.003*\"становиться\" + 0.002*\"дело\" + 0.002*\"идти\" + 0.002*\"приходить\" + 0.002*\"давать\" + 0.002*\"пойти\"\n",
      "1\n",
      "0.006*\"говорить\" + 0.004*\"приходить\" + 0.004*\"вечер\" + 0.003*\"утро\" + 0.003*\"пойти\" + 0.003*\"час\" + 0.002*\"идти\" + 0.002*\"становиться\" + 0.002*\"работа\" + 0.002*\"ночь\"\n",
      "2\n",
      "0.005*\"говорить\" + 0.004*\"вечер\" + 0.004*\"работа\" + 0.003*\"утро\" + 0.003*\"час\" + 0.003*\"дело\" + 0.003*\"становиться\" + 0.003*\"давать\" + 0.003*\"письмо\" + 0.003*\"приходить\"\n",
      "3\n",
      "0.002*\"работа\" + 0.002*\"пряжа\" + 0.002*\"скала\" + 0.002*\"лес\" + 0.001*\"камень\" + 0.001*\"нитка\" + 0.001*\"гнездо\" + 0.001*\"машина\" + 0.001*\"корабль\" + 0.001*\"дерево\"\n",
      "4\n",
      "0.006*\"вечер\" + 0.003*\"говорить\" + 0.003*\"час\" + 0.003*\"утро\" + 0.003*\"приходить\" + 0.003*\"работа\" + 0.003*\"новый\" + 0.003*\"идти\" + 0.002*\"давать\" + 0.002*\"становиться\"\n",
      "5\n",
      "0.004*\"говорить\" + 0.004*\"знать\" + 0.003*\"вечер\" + 0.003*\"идти\" + 0.003*\"давать\" + 0.003*\"час\" + 0.003*\"становиться\" + 0.003*\"дело\" + 0.002*\"утро\" + 0.002*\"работа\"\n",
      "6\n",
      "0.003*\"вечер\" + 0.003*\"говорить\" + 0.002*\"дело\" + 0.002*\"давать\" + 0.002*\"получать\" + 0.002*\"работа\" + 0.002*\"утро\" + 0.002*\"советский\" + 0.002*\"москва\" + 0.002*\"письмо\"\n",
      "7\n",
      "0.004*\"вечер\" + 0.003*\"говорить\" + 0.002*\"утро\" + 0.002*\"час\" + 0.002*\"писать\" + 0.002*\"слово\" + 0.002*\"большой\" + 0.002*\"дело\" + 0.002*\"идти\" + 0.002*\"видеть\"\n",
      "8\n",
      "0.003*\"плот\" + 0.002*\"утро\" + 0.002*\"вечер\" + 0.002*\"хороший\" + 0.002*\"погода\" + 0.001*\"давать\" + 0.001*\"ехать\" + 0.001*\"идти\" + 0.001*\"машка\" + 0.001*\"уходить\"\n",
      "9\n",
      "0.004*\"говорить\" + 0.003*\"вечер\" + 0.003*\"приходить\" + 0.003*\"утро\" + 0.003*\"становиться\" + 0.002*\"час\" + 0.002*\"работа\" + 0.002*\"ночь\" + 0.002*\"жить\" + 0.002*\"дело\"\n"
     ]
    }
   ],
   "source": [
    "#полнолуния\n",
    "\n",
    "\n",
    "def processDir(dir):\n",
    "    doc_set = []\n",
    "    dirlist = os.listdir(dir)\n",
    "    for filenum in range(len(dirlist)):\n",
    "        doc_set.append(processFile(dirlist[filenum]))\n",
    "    return doc_set\n",
    "\n",
    "        \n",
    "def topic_modeling(doc_set):\n",
    "    dictionary = corpora.Dictionary(doc_set)\n",
    "    corpus = [dictionary.doc2bow(text) for text in doc_set]\n",
    "    ldamodel = gensim.models.ldamodel.LdaModel(corpus, num_topics=10, id2word = dictionary, passes=20)\n",
    "    ldamodel[corpus]\n",
    "    print (\"\\n\\ntopics\\n\\n\")\n",
    "    for a in ldamodel.show_topics(num_topics=10, num_words=10):\n",
    "        for i in a:\n",
    "            print (i)\n",
    "\n",
    "            \n",
    "def processFile(name): \n",
    "    doc = []\n",
    "    if 'DS_Store' not in name: \n",
    "        f = codecs.open('full/'+name, 'r', 'utf-8').read()\n",
    "        clean_doc = []\n",
    "        words = mystem_object.analyze(f)\n",
    "        for word in words:\n",
    "            if word.get('analysis') != None and word.get('analysis') != [] and word['analysis'][0]['lex'] not in ru_stop and word['analysis'][0]['lex'] not in extra_stops:\n",
    "                clean_doc.append(word['analysis'][0]['lex'])\n",
    "    else:\n",
    "        clean_doc = []\n",
    "    return clean_doc\n",
    "    \n",
    "     \n",
    "doc_set = processDir('full')    \n",
    "topic_modeling(doc_set)"
   ]
  },
  {
   "cell_type": "markdown",
   "metadata": {},
   "source": [
    "\"Работа\" — 0.006*\"говорить\" + 0.004*\"приходить\" + 0.004*\"вечер\" + 0.003*\"утро\" + 0.003*\"пойти\" + 0.003*\"час\" + 0.002*\"идти\" + 0.002*\"становиться\" + 0.002*\"работа\" + 0.002*\"ночь\"\n",
    "\n",
    "\"Активности\" — 0.002*\"работа\" + 0.002*\"пряжа\" + 0.002*\"скала\" + 0.002*\"лес\" + 0.001*\"камень\" + 0.001*\"нитка\" + 0.001*\"гнездо\" + 0.001*\"машина\" + 0.001*\"корабль\" + 0.001*\"дерево\"\n",
    "\n",
    "\"Дорога\" — 0.003*\"плот\" + 0.002*\"утро\" + 0.002*\"вечер\" + 0.002*\"хороший\" + 0.002*\"погода\" + 0.001*\"давать\" + 0.001*\"ехать\" + 0.001*\"идти\" + 0.001*\"машка\" + 0.001*\"уходить\"\n",
    "\n",
    "Вечер—утро—ночь"
   ]
  },
  {
   "cell_type": "markdown",
   "metadata": {},
   "source": [
    "## Итог: \n",
    "*Как видно из выдачи программы, все более-менее похоже. Преобладает тема \"Работа\", топик повторяется везде по много раз. Есть \"Бор\" в обычных днях, \"Активности\" выделяются в полнолуниях и новолуниях, только в полнолуниях есть \"Дорога\". Интересно наличие и порядок слов \"утро\", \"вечер\", \"ночь\". Везде установился один и тот же порядок слов: вечер—утро—ночь, но в новолуниях нет ночи. Это может быть связано с тем, что в новолуние Луны не видно и, следовательно, ночи темные, в них не попишешь в дневник и не погуляешь.*"
   ]
  },
  {
   "cell_type": "markdown",
   "metadata": {},
   "source": [
    "## Дополнительное\n",
    "### Какой знак зодика пишет больше дневников"
   ]
  },
  {
   "cell_type": "code",
   "execution_count": 1,
   "metadata": {},
   "outputs": [],
   "source": [
    "import csv\n",
    "\n",
    "note_to_dob = dict()\n",
    "\n",
    "with open('prozhito_prep_table.csv', 'r', encoding='utf-8') as f:\n",
    "    reader = csv.reader(f, delimiter=\";\")\n",
    "    header = next(reader)\n",
    "    for line in reader:\n",
    "        note_to_dob[line[0]] = line[1] "
   ]
  },
  {
   "cell_type": "markdown",
   "metadata": {},
   "source": [
    "note_to_dob\n",
    "\n",
    "{'185495': '01.01.1900',\n",
    " '185496': '01.01.1900', ..."
   ]
  },
  {
   "cell_type": "code",
   "execution_count": 2,
   "metadata": {},
   "outputs": [
    {
     "data": {
      "text/plain": [
       "273938"
      ]
     },
     "execution_count": 2,
     "metadata": {},
     "output_type": "execute_result"
    }
   ],
   "source": [
    "len(note_to_dob) # -- столько записей в файле prozhito_prep_table.csv"
   ]
  },
  {
   "cell_type": "code",
   "execution_count": 3,
   "metadata": {},
   "outputs": [],
   "source": [
    "note_to_diary = dict()\n",
    "diary_to_note = dict()\n",
    "\n",
    "with open('notes.csv', 'r', encoding='utf-8') as f:\n",
    "    reader = csv.reader(f, delimiter=\"#\")\n",
    "    for line in reader:\n",
    "        note_to_diary[line[0].strip(',')] = line[1].strip(',')\n",
    "        diary_to_note[line[1].strip(',')] = line[0].strip(',')"
   ]
  },
  {
   "cell_type": "markdown",
   "metadata": {},
   "source": [
    "note_to_diary \n",
    "\n",
    "{'39081': '130',\n",
    " '39082': '130', ..."
   ]
  },
  {
   "cell_type": "code",
   "execution_count": 4,
   "metadata": {},
   "outputs": [
    {
     "data": {
      "text/plain": [
       "384587"
      ]
     },
     "execution_count": 4,
     "metadata": {},
     "output_type": "execute_result"
    }
   ],
   "source": [
    "len(note_to_diary) # -- столько записей в файле notes.csv"
   ]
  },
  {
   "cell_type": "markdown",
   "metadata": {},
   "source": [
    "diary_to_note\n",
    "\n",
    "{'130': '38834',\n",
    " '234': '39085', ..."
   ]
  },
  {
   "cell_type": "code",
   "execution_count": 5,
   "metadata": {},
   "outputs": [
    {
     "data": {
      "text/plain": [
       "1517"
      ]
     },
     "execution_count": 5,
     "metadata": {},
     "output_type": "execute_result"
    }
   ],
   "source": [
    "len(diary_to_note) # -- столько дневников в файле notes.csv"
   ]
  },
  {
   "cell_type": "code",
   "execution_count": 6,
   "metadata": {},
   "outputs": [],
   "source": [
    "diary_to_dob = dict()\n",
    "\n",
    "for note, diary in note_to_diary.items():\n",
    "    if note in note_to_dob:\n",
    "        if diary in diary_to_dob:\n",
    "            i = diary_to_dob[diary][1] + 1\n",
    "            diary_to_dob[diary] = [note_to_dob[note], i]\n",
    "        else:\n",
    "            i = 1\n",
    "            diary_to_dob[diary] = [note_to_dob[note], i]\n",
    "    else:\n",
    "        continue"
   ]
  },
  {
   "cell_type": "code",
   "execution_count": 7,
   "metadata": {},
   "outputs": [
    {
     "data": {
      "text/plain": [
       "851"
      ]
     },
     "execution_count": 7,
     "metadata": {},
     "output_type": "execute_result"
    }
   ],
   "source": [
    "len(diary_to_dob)"
   ]
  },
  {
   "cell_type": "markdown",
   "metadata": {},
   "source": [
    "diary_to_dob\n",
    "\n",
    "{'10': ['1880-11-28', 568],\n",
    " '100': ['21.06.1941', 1631],"
   ]
  },
  {
   "cell_type": "code",
   "execution_count": 8,
   "metadata": {},
   "outputs": [],
   "source": [
    "day = []\n",
    "month = []\n",
    "count = []\n",
    "\n",
    "for diary, dob in diary_to_dob.items():\n",
    "    if '.' in dob[0]:\n",
    "        day.append(dob[0].split('.')[0])\n",
    "        month.append(dob[0].split('.')[1])\n",
    "    elif '-' in dob[0]:\n",
    "        day.append(dob[0].split('-')[2])\n",
    "        month.append(dob[0].split('-')[1])\n",
    "    else:\n",
    "        print(dob)\n",
    "    count.append(dob[1])"
   ]
  },
  {
   "cell_type": "code",
   "execution_count": 9,
   "metadata": {},
   "outputs": [
    {
     "data": {
      "text/plain": [
       "(851, 851, 851)"
      ]
     },
     "execution_count": 9,
     "metadata": {},
     "output_type": "execute_result"
    }
   ],
   "source": [
    "len(day), len(month), len(count)"
   ]
  },
  {
   "cell_type": "code",
   "execution_count": 25,
   "metadata": {},
   "outputs": [],
   "source": [
    "signs_to_people = {'Aries':0, 'Taurus':0, 'Gemini':0, 'Cancer':0, 'Leo':0, 'Virgo':0, \n",
    "         'Libra':0, 'Scorpio':0, 'Sagittarius':0, 'Capricorn':0, 'Aquarius':0, 'Pisces':0}"
   ]
  },
  {
   "cell_type": "code",
   "execution_count": 26,
   "metadata": {},
   "outputs": [],
   "source": [
    "for d, m in zip (day, month):\n",
    "    if m == '01':\n",
    "        if d >= '21':\n",
    "            signs_to_people['Aquarius'] += 1\n",
    "        else:\n",
    "            if d != '01':\n",
    "                signs_to_people['Capricorn'] += 1\n",
    "    elif m == '02':\n",
    "        if d >= '20':\n",
    "            signs_to_people['Pisces'] += 1\n",
    "        else:\n",
    "            signs_to_people['Aquarius'] += 1\n",
    "    elif m == '03':\n",
    "        if d >= '21':\n",
    "            signs_to_people['Aries'] += 1\n",
    "        else:\n",
    "            signs_to_people['Pisces'] += 1\n",
    "    elif m == '04':\n",
    "        if d >= '21':\n",
    "            signs_to_people['Taurus'] += 1\n",
    "        else:\n",
    "            signs_to_people['Aries'] += 1\n",
    "    elif m == '05':\n",
    "        if d >= '22':\n",
    "            signs_to_people['Gemini'] += 1\n",
    "        else:\n",
    "            signs_to_people['Taurus'] += 1\n",
    "    elif m == '06':\n",
    "        if d >= '22':\n",
    "            signs_to_people['Cancer'] += 1\n",
    "        else:\n",
    "            signs_to_people['Gemini'] += 1\n",
    "    elif m == '07':\n",
    "        if d >= '23':\n",
    "            signs_to_people['Leo'] += 1\n",
    "        else:\n",
    "            signs_to_people['Cancer'] += 1\n",
    "    elif m == '08':\n",
    "        if d >= '22':\n",
    "            signs_to_people['Virgo'] += 1\n",
    "        else:\n",
    "            signs_to_people['Leo'] += 1\n",
    "    elif m == '09':\n",
    "        if d >= '24':\n",
    "            signs_to_people['Libra'] += 1\n",
    "        else:\n",
    "            signs_to_people['Virgo'] += 1\n",
    "    elif m == '10':\n",
    "        if d >= '24':\n",
    "            signs_to_people['Scorpio'] += 1\n",
    "        else:\n",
    "            signs_to_people['Libra'] += 1\n",
    "    elif m == '11':\n",
    "        if d >= '23':\n",
    "            signs_to_people['Sagittarius'] += 1\n",
    "        else:\n",
    "            signs_to_people['Scorpio'] += 1\n",
    "    elif m == '12':\n",
    "        if d >= '23':\n",
    "            signs_to_people['Capricorn'] += 1\n",
    "        else:\n",
    "            signs_to_people['Sagittarius'] += 1"
   ]
  },
  {
   "cell_type": "code",
   "execution_count": 40,
   "metadata": {},
   "outputs": [
    {
     "name": "stdout",
     "output_type": "stream",
     "text": [
      "Aries 65\n",
      "Taurus 43\n",
      "Gemini 41\n",
      "Cancer 32\n",
      "Leo 46\n",
      "Virgo 51\n",
      "Libra 50\n",
      "Scorpio 46\n",
      "Sagittarius 48\n",
      "Capricorn 57\n",
      "Aquarius 46\n",
      "Pisces 49\n",
      "574\n"
     ]
    }
   ],
   "source": [
    "s = 0\n",
    "for k,v in signs_to_people.items():\n",
    "    print(k,v)\n",
    "    s += v\n",
    "print(s)"
   ]
  },
  {
   "cell_type": "code",
   "execution_count": 44,
   "metadata": {},
   "outputs": [
    {
     "data": {
      "image/png": "[encoded data removed]",
      "text/plain": [
       "<matplotlib.figure.Figure at 0x120633978>"
      ]
     },
     "metadata": {},
     "output_type": "display_data"
    },
    {
     "data": {
      "text/plain": [
       "<matplotlib.figure.Figure at 0x11fe5f320>"
      ]
     },
     "metadata": {},
     "output_type": "display_data"
    }
   ],
   "source": [
    "import matplotlib.pyplot as plt\n",
    "plt.style.use('seaborn')\n",
    "\n",
    "labels = []\n",
    "numbers = []\n",
    "\n",
    "for k,v in signs_to_people.items():\n",
    "    labels.append(k)\n",
    "    numbers.append(v)\n",
    "explode = (0.2, 0, 0, 0, 0, 0.2, 0, 0, 0, 0.2, 0, 0)\n",
    "\n",
    "plt.pie(numbers, explode=explode, labels=labels, autopct='%1.1f%%',\n",
    "        shadow=True, startangle=90)\n",
    "\n",
    "plt.axis('normal')\n",
    "plt.show()\n",
    "plt.savefig('1.png')"
   ]
  },
  {
   "cell_type": "markdown",
   "metadata": {},
   "source": [
    "### Круговая диаграмма показывает процент людей каждого знака зодиака от общего количества людей"
   ]
  },
  {
   "cell_type": "markdown",
   "metadata": {},
   "source": [
    "## Итог:\n",
    "*С отрывом побеждают Овны. Далее с опережением остальных знаков расположились Козероги, затем Девы с Весами. Потом все знаки распределились примерно одинаково. Явный минимум наблюдается у Раков. *"
   ]
  },
  {
   "cell_type": "code",
   "execution_count": 36,
   "metadata": {},
   "outputs": [],
   "source": [
    "signs_to_notes = {'Aries':0, 'Taurus':0, 'Gemini':0, 'Cancer':0, 'Leo':0, 'Virgo':0, \n",
    "         'Libra':0, 'Scorpio':0, 'Sagittarius':0, 'Capricorn':0, 'Aquarius':0, 'Pisces':0}"
   ]
  },
  {
   "cell_type": "code",
   "execution_count": 37,
   "metadata": {},
   "outputs": [],
   "source": [
    "for d, m, c in zip (day, month, count):\n",
    "    if m == '01':\n",
    "        if d >= '21':\n",
    "            signs_to_notes['Aquarius'] += c\n",
    "        else:\n",
    "            if d != '01':\n",
    "                signs_to_notes['Capricorn'] += c\n",
    "    elif m == '02':\n",
    "        if d >= '20':\n",
    "            signs_to_notes['Pisces'] += c\n",
    "        else:\n",
    "            signs_to_notes['Aquarius'] += c\n",
    "    elif m == '03':\n",
    "        if d >= '21':\n",
    "            signs_to_notes['Aries'] += c\n",
    "        else:\n",
    "            signs_to_notes['Pisces'] += c\n",
    "    elif m == '04':\n",
    "        if d >= '21':\n",
    "            signs_to_notes['Taurus'] += c\n",
    "        else:\n",
    "            signs_to_notes['Aries'] += c\n",
    "    elif m == '05':\n",
    "        if d >= '22':\n",
    "            signs_to_notes['Gemini'] += c\n",
    "        else:\n",
    "            signs_to_notes['Taurus'] += c\n",
    "    elif m == '06':\n",
    "        if d >= '22':\n",
    "            signs_to_notes['Cancer'] += c\n",
    "        else:\n",
    "            signs_to_notes['Gemini'] += c\n",
    "    elif m == '07':\n",
    "        if d >= '23':\n",
    "            signs_to_notes['Leo'] += c\n",
    "        else:\n",
    "            signs_to_notes['Cancer'] += c\n",
    "    elif m == '08':\n",
    "        if d >= '22':\n",
    "            signs_to_notes['Virgo'] += c\n",
    "        else:\n",
    "            signs_to_notes['Leo'] += c\n",
    "    elif m == '09':\n",
    "        if d >= '24':\n",
    "            signs_to_notes['Libra'] += c\n",
    "        else:\n",
    "            signs_to_notes['Virgo'] += c\n",
    "    elif m == '10':\n",
    "        if d >= '24':\n",
    "            signs_to_notes['Scorpio'] += c\n",
    "        else:\n",
    "            signs_to_notes['Libra'] += c\n",
    "    elif m == '11':\n",
    "        if d >= '23':\n",
    "            signs_to_notes['Sagittarius'] += c\n",
    "        else:\n",
    "            signs_to_notes['Scorpio'] += c\n",
    "    elif m == '12':\n",
    "        if d >= '23':\n",
    "            signs_to_notes['Capricorn'] += c\n",
    "        else:\n",
    "            signs_to_notes['Sagittarius'] += c"
   ]
  },
  {
   "cell_type": "code",
   "execution_count": 46,
   "metadata": {},
   "outputs": [
    {
     "name": "stdout",
     "output_type": "stream",
     "text": [
      "Aries 27666\n",
      "Taurus 12431\n",
      "Gemini 12863\n",
      "Cancer 8555\n",
      "Leo 20230\n",
      "Virgo 25779\n",
      "Libra 12474\n",
      "Scorpio 14173\n",
      "Sagittarius 12681\n",
      "Capricorn 24692\n",
      "Aquarius 18870\n",
      "Pisces 18946\n",
      "209360\n"
     ]
    }
   ],
   "source": [
    "s = 0\n",
    "for k,v in signs_to_notes.items():\n",
    "    print(k,v)\n",
    "    s += v\n",
    "print(s)"
   ]
  },
  {
   "cell_type": "code",
   "execution_count": 39,
   "metadata": {
    "scrolled": true
   },
   "outputs": [
    {
     "data": {
      "image/png": "[encoded data removed]",
      "text/plain": [
       "<matplotlib.figure.Figure at 0x1203fb6a0>"
      ]
     },
     "metadata": {},
     "output_type": "display_data"
    },
    {
     "data": {
      "text/plain": [
       "<matplotlib.figure.Figure at 0x1205e4f60>"
      ]
     },
     "metadata": {},
     "output_type": "display_data"
    }
   ],
   "source": [
    "import matplotlib.pyplot as plt\n",
    "import numpy as np\n",
    "plt.style.use('seaborn')\n",
    "\n",
    "\n",
    "signs = ['Aries', 'Taurus', 'Gemini', 'Cancer', 'Leo', 'Virgo', \n",
    "         'Libra', 'Scorpio', 'Sagittarius', 'Capricorn', 'Aquarius', 'Pisces']\n",
    "x_axis = np.arange(len(signs))\n",
    "y_axis = [v for k,v in signs_to_notes.items()]\n",
    "plt.xticks(x_axis, signs, rotation=45)\n",
    "plt.bar(x_axis, y_axis, align='center', alpha=0.5)\n",
    "plt.show()\n",
    "plt.savefig('2.png')"
   ]
  },
  {
   "cell_type": "markdown",
   "metadata": {},
   "source": [
    "### График показывает количество дневниковых записей каждого знака зодиака от общего количества записей"
   ]
  },
  {
   "cell_type": "markdown",
   "metadata": {},
   "source": [
    "## Итог:\n",
    "*Все также с большим отрывом лидируют Овны. За ними Девы, очень близко Козероги. Далее есть кластер из трех знаков Львы-Рыбы-Водолеи. Потом все идет более-менее одинаково. Как и в предыдущем графике Раки на ярко выраженном последнем месте. Из интересного здесь немного другое распределение лидеров, чем в предыдущем графике. Козероги и Девы поменялись местами, хотя в предыдущем графике разница составляла 1%, здесь же около 1000 записей (25779 vs 24692). И еще, в предыдущем графике Весы дышали в спину Девам, а здесь мы можем наблюдать, что Весы конкретно отстают (25779 vs 12474). Например, получается, по количеству представителей знаков зодиака Дев меньше, но записей они сделали больше.*"
   ]
  },
  {
   "cell_type": "code",
   "execution_count": null,
   "metadata": {},
   "outputs": [],
   "source": []
  }
 ],
 "metadata": {
  "kernelspec": {
   "display_name": "Python 3",
   "language": "python",
   "name": "python3"
  },
  "language_info": {
   "codemirror_mode": {
    "name": "ipython",
    "version": 3
   },
   "file_extension": ".py",
   "mimetype": "text/x-python",
   "name": "python",
   "nbconvert_exporter": "python",
   "pygments_lexer": "ipython3",
   "version": "3.6.4"
  }
 },
 "nbformat": 4,
 "nbformat_minor": 2
}
