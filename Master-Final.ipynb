{
 "cells": [
  {
   "cell_type": "code",
   "execution_count": 48,
   "metadata": {},
   "outputs": [],
   "source": [
    "#импорт инструментов\n",
    "\n",
    "import csvtools\n",
    "import datetime"
   ]
  },
  {
   "cell_type": "code",
   "execution_count": 49,
   "metadata": {},
   "outputs": [],
   "source": [
    "#использование инструмента по навигации в записях дневников\n",
    "\n",
    "dw = csvtools.DumpWrapper('.')\n",
    "notes = dw.notes()"
   ]
  },
  {
   "cell_type": "code",
   "execution_count": 90,
   "metadata": {},
   "outputs": [],
   "source": [
    "#пример выкачивания записей в дни полнолуний и сохранений их в отдельные документы по дням\n",
    "\n",
    "new_moon = ['1936-1-17',   '1936-1-18',   '1936-1-19',\n",
    "             '1936-2-16',   '1936-2-17',   '1936-2-18',\n",
    "             '1936-3-18',   '1936-3-19',   '1936-3-20', \n",
    "             '1936-4-17',   '1936-4-18',   '1936-4-19', \n",
    "             '1936-5-16',   '1936-5-17',   '1936-5-18',\n",
    "             '1936-6-15',   '1936-6-16',   '1936-6-17',\n",
    "             '1936-7-14',  '1936-7-15',   '1936-7-16',\n",
    "             '1936-8-13',  '1936-8-14',  '1936-9-15', \n",
    "             '1936-9-12',  '1936-9-13',  '1936-9-14', \n",
    "             '1936-10-10', '1936-10-11', '1936-10-12', \n",
    "             '1936-11-9', '1936-11-10', '1936-11-11',\n",
    "             '1936-12-8', '1936-12-9', '1936-12-10']\n",
    "\n",
    "for date in new_moon:\n",
    "    d = tuple(map(int, date.split('-')))\n",
    "    print(d)\n",
    "    l = notes.searchDate(d)\n",
    "    with open ('{}.txt'.format(date), 'w', encoding='utf8') as f:\n",
    "        for i in l:\n",
    "            f.write(i.text)\n",
    "            f.flush()\n",
    "        f.close()"
   ]
  },
  {
   "cell_type": "code",
   "execution_count": 1,
   "metadata": {},
   "outputs": [
    {
     "name": "stdout",
     "output_type": "stream",
     "text": [
      "\n",
      "\n",
      "topics\n",
      "\n",
      "\n",
      "0\n",
      "0.005*\"вечер\" + 0.003*\"дело\" + 0.003*\"работа\" + 0.003*\"утро\" + 0.003*\"письмо\" + 0.003*\"писать\" + 0.002*\"новый\"\n",
      "1\n",
      "0.004*\"вечер\" + 0.003*\"работа\" + 0.003*\"утро\" + 0.002*\"хороший\" + 0.002*\"работать\" + 0.002*\"большой\" + 0.002*\"новый\"\n",
      "2\n",
      "0.004*\"вечер\" + 0.003*\"утро\" + 0.003*\"работа\" + 0.003*\"хороший\" + 0.003*\"дело\" + 0.002*\"ночь\" + 0.002*\"писать\"\n",
      "3\n",
      "0.004*\"вечер\" + 0.003*\"работа\" + 0.002*\"хороший\" + 0.002*\"утро\" + 0.002*\"новый\" + 0.002*\"получать\" + 0.002*\"дело\"\n"
     ]
    }
   ],
   "source": [
    "import codecs,re,os\n",
    "from pymystem3 import Mystem\n",
    "import codecs, os, sys, pickle\n",
    "import gensim\n",
    "from gensim import corpora, models\n",
    "import nltk\n",
    "from nltk import FreqDist\n",
    "from nltk.collocations import *\n",
    "\n",
    "mystem_object = Mystem()\n",
    "mystem_object.start()\n",
    "\n",
    "from stop_words import get_stop_words\n",
    "ru_stop = get_stop_words('ru')\n",
    "extra_stops = ['свой', 'говорить', 'идти', 'приходить', 'знать', 'пойти', 'становиться', 'давать', 'час', \n",
    "               'какой-то', 'видеть', 'думать', 'р', 'н', 'й', 'з', 'оставаться', 'начинать', 'взять', 'стоять', 'выходить']\n",
    "\n",
    "\n",
    "def processDir(dir):\n",
    "    doc_set = []\n",
    "    dirlist = os.listdir(dir)\n",
    "    for filenum in range(len(dirlist)):\n",
    "        doc_set.append(processFile(dirlist[filenum]))\n",
    "    return doc_set\n",
    "\n",
    "        \n",
    "def topic_modeling(doc_set):\n",
    "    dictionary = corpora.Dictionary(doc_set)\n",
    "    corpus = [dictionary.doc2bow(text) for text in doc_set]\n",
    "    ldamodel = gensim.models.ldamodel.LdaModel(corpus, num_topics=4, id2word = dictionary, passes=20)\n",
    "    ldamodel[corpus]\n",
    "    print (\"\\n\\ntopics\\n\\n\")\n",
    "    for a in ldamodel.show_topics(num_topics=4, num_words=7):\n",
    "        for i in a:\n",
    "            print (i)\n",
    "\n",
    "            \n",
    "def processFile(name): \n",
    "    doc = []\n",
    "    f = codecs.open('new/'+name, 'r', 'utf-8').read()\n",
    "    clean_doc = []\n",
    "    words = mystem_object.analyze(f)\n",
    "    for word in words:\n",
    "        if word.get('analysis') != None and word.get('analysis') != [] and word['analysis'][0]['lex'] not in ru_stop and word['analysis'][0]['lex'] not in extra_stops:\n",
    "            clean_doc.append(word['analysis'][0]['lex'])\n",
    "    return clean_doc\n",
    "    \n",
    "     \n",
    "doc_set = processDir('new')    \n",
    "topic_modeling(doc_set)"
   ]
  },
  {
   "cell_type": "code",
   "execution_count": 13,
   "metadata": {},
   "outputs": [
    {
     "name": "stdout",
     "output_type": "stream",
     "text": [
      "\n",
      "\n",
      "topics\n",
      "\n",
      "\n",
      "0\n",
      "0.004*\"вечер\" + 0.003*\"утро\" + 0.003*\"работа\" + 0.003*\"дело\" + 0.002*\"новый\" + 0.002*\"ночь\" + 0.002*\"письмо\"\n",
      "1\n",
      "0.004*\"вечер\" + 0.003*\"утро\" + 0.002*\"большой\" + 0.002*\"дело\" + 0.002*\"хороший\" + 0.002*\"работа\" + 0.002*\"получать\"\n",
      "2\n",
      "0.005*\"вечер\" + 0.003*\"утро\" + 0.003*\"работа\" + 0.003*\"дело\" + 0.003*\"хороший\" + 0.002*\"ночь\" + 0.002*\"жить\"\n",
      "3\n",
      "0.004*\"вечер\" + 0.003*\"работа\" + 0.003*\"дело\" + 0.003*\"утро\" + 0.003*\"хороший\" + 0.003*\"получать\" + 0.002*\"ничто\"\n"
     ]
    }
   ],
   "source": [
    "import codecs,re,os\n",
    "from pymystem3 import Mystem\n",
    "import codecs, os, sys, pickle\n",
    "import gensim\n",
    "from gensim import corpora, models\n",
    "import nltk\n",
    "from nltk import FreqDist\n",
    "from nltk.collocations import *\n",
    "\n",
    "mystem_object = Mystem()\n",
    "mystem_object.start()\n",
    "\n",
    "from stop_words import get_stop_words\n",
    "ru_stop = get_stop_words('ru')\n",
    "extra_stops = ['свой', 'говорить', 'идти', 'приходить', 'знать', 'пойти', 'становиться', 'давать', 'час', \n",
    "               'какой-то', 'видеть', 'думать', 'р', 'н', 'й', 'з', 'оставаться', 'начинать', 'взять', 'стоять', 'выходить']\n",
    "\n",
    "\n",
    "def processDir(dir):\n",
    "    doc_set = []\n",
    "    dirlist = os.listdir(dir)\n",
    "    for filenum in range(len(dirlist)):\n",
    "        doc_set.append(processFile(dirlist[filenum]))\n",
    "    return doc_set\n",
    "\n",
    "\n",
    "def topic_modeling(doc_set):\n",
    "    dictionary = corpora.Dictionary(doc_set)\n",
    "    corpus = [dictionary.doc2bow(text) for text in doc_set]\n",
    "    ldamodel = gensim.models.ldamodel.LdaModel(corpus, num_topics=4, id2word = dictionary, passes=20)\n",
    "    ldamodel[corpus]\n",
    "    print (\"\\n\\ntopics\\n\\n\")\n",
    "    for a in ldamodel.show_topics(num_topics=4, num_words=7):\n",
    "        for i in a:\n",
    "            print (i)\n",
    "     \n",
    "    \n",
    "def processFile(name): \n",
    "    doc = []\n",
    "    if 'DS_Store' not in name: \n",
    "        f = codecs.open('full/'+name, 'r', 'utf-8').read()\n",
    "        clean_doc = []\n",
    "        words = mystem_object.analyze(f)\n",
    "        for word in words:\n",
    "            if word.get('analysis') != None and word.get('analysis') != [] and word['analysis'][0]['lex'] not in ru_stop and word['analysis'][0]['lex'] not in extra_stops:\n",
    "                clean_doc.append(word['analysis'][0]['lex'])\n",
    "    else:\n",
    "        clean_doc = []\n",
    "    return clean_doc\n",
    "    \n",
    "     \n",
    "doc_set = processDir('full')    \n",
    "topic_modeling(doc_set)"
   ]
  },
  {
   "cell_type": "code",
   "execution_count": 15,
   "metadata": {},
   "outputs": [
    {
     "name": "stdout",
     "output_type": "stream",
     "text": [
      "\n",
      "\n",
      "topics\n",
      "\n",
      "\n",
      "0\n",
      "0.004*\"вечер\" + 0.004*\"работа\" + 0.003*\"утро\" + 0.002*\"новый\" + 0.002*\"ночь\" + 0.002*\"большой\" + 0.002*\"дело\"\n",
      "1\n",
      "0.005*\"вечер\" + 0.003*\"утро\" + 0.003*\"хороший\" + 0.003*\"работа\" + 0.002*\"ночь\" + 0.002*\"получать\" + 0.002*\"письмо\"\n",
      "2\n",
      "0.004*\"вечер\" + 0.003*\"работа\" + 0.003*\"утро\" + 0.003*\"новый\" + 0.002*\"дело\" + 0.002*\"самый\" + 0.002*\"большой\"\n",
      "3\n",
      "0.003*\"вечер\" + 0.003*\"дело\" + 0.003*\"утро\" + 0.002*\"работа\" + 0.002*\"большой\" + 0.002*\"ничто\" + 0.002*\"писать\"\n"
     ]
    }
   ],
   "source": [
    "import codecs,re,os\n",
    "from pymystem3 import Mystem\n",
    "import codecs, os, sys, pickle\n",
    "import gensim\n",
    "from gensim import corpora, models\n",
    "import nltk\n",
    "from nltk import FreqDist\n",
    "from nltk.collocations import *\n",
    "\n",
    "mystem_object = Mystem()\n",
    "mystem_object.start()\n",
    "\n",
    "from stop_words import get_stop_words\n",
    "ru_stop = get_stop_words('ru')\n",
    "extra_stops = ['свой', 'говорить', 'идти', 'приходить', 'знать', 'пойти', 'становиться', 'давать', 'час', \n",
    "               'какой-то', 'видеть', 'думать', 'р', 'н', 'й', 'з', 'оставаться', 'начинать', 'взять', 'стоять', 'выходить']\n",
    "\n",
    "\n",
    "def processDir(dir):\n",
    "    doc_set = []\n",
    "    dirlist = os.listdir(dir)\n",
    "    for filenum in range(len(dirlist)):\n",
    "        doc_set.append(processFile(dirlist[filenum]))\n",
    "    return doc_set\n",
    "\n",
    "        \n",
    "def topic_modeling(doc_set):\n",
    "    dictionary = corpora.Dictionary(doc_set)\n",
    "    corpus = [dictionary.doc2bow(text) for text in doc_set]\n",
    "    ldamodel = gensim.models.ldamodel.LdaModel(corpus, num_topics=4, id2word = dictionary, passes=20)\n",
    "    ldamodel[corpus]\n",
    "    print (\"\\n\\ntopics\\n\\n\")\n",
    "    for a in ldamodel.show_topics(num_topics=4, num_words=7):\n",
    "        for i in a:\n",
    "            print (i)\n",
    "            \n",
    "            \n",
    "def processFile(name): \n",
    "    doc = []\n",
    "    if 'DS_Store' not in name: \n",
    "        f = codecs.open('days/'+name, 'r', 'utf-8').read()\n",
    "        clean_doc = []\n",
    "        words = mystem_object.analyze(f)\n",
    "        for word in words:\n",
    "            if word.get('analysis') != None and word.get('analysis') != [] and word['analysis'][0]['lex'] not in ru_stop and word['analysis'][0]['lex'] not in extra_stops:\n",
    "                clean_doc.append(word['analysis'][0]['lex'])\n",
    "    else:\n",
    "        clean_doc = []\n",
    "    return clean_doc\n",
    "    \n",
    "     \n",
    "doc_set = processDir('days')    \n",
    "topic_modeling(doc_set)"
   ]
  },
  {
   "cell_type": "markdown",
   "metadata": {},
   "source": [
    "### Как видно из выдачи программы, темы для записей, сделанных в дни новолуний, полнолуний и остальных дней, особо ничем не отличаются. Ярко выделяются слова \"вечер\", \"дело\", \"утро\", \"работа\", \"ночь\", характерные для всех рассмотренных периодов. "
   ]
  },
  {
   "cell_type": "markdown",
   "metadata": {},
   "source": [
    "## Дополнительное"
   ]
  },
  {
   "cell_type": "code",
   "execution_count": 80,
   "metadata": {},
   "outputs": [],
   "source": [
    "import csv\n",
    "\n",
    "note_to_dob = dict()\n",
    "\n",
    "with open('prozhito_prep_table.csv', 'r', encoding='utf-8') as f:\n",
    "    reader = csv.reader(f, delimiter=\";\")\n",
    "    header = next(reader)\n",
    "    for line in reader:\n",
    "        note_to_dob[line[0]] = line[1] "
   ]
  },
  {
   "cell_type": "markdown",
   "metadata": {},
   "source": [
    "note_to_dob\n",
    "\n",
    "{'185495': '01.01.1900',\n",
    " '185496': '01.01.1900', ..."
   ]
  },
  {
   "cell_type": "code",
   "execution_count": 81,
   "metadata": {},
   "outputs": [
    {
     "data": {
      "text/plain": [
       "273938"
      ]
     },
     "execution_count": 81,
     "metadata": {},
     "output_type": "execute_result"
    }
   ],
   "source": [
    "len(note_to_dob) # -- столько записей в файле prozhito_prep_table.csv"
   ]
  },
  {
   "cell_type": "code",
   "execution_count": 82,
   "metadata": {},
   "outputs": [],
   "source": [
    "note_to_diary = dict()\n",
    "diary_to_note = dict()\n",
    "\n",
    "with open('notes.csv', 'r', encoding='utf-8') as f:\n",
    "    reader = csv.reader(f, delimiter=\"#\")\n",
    "    for line in reader:\n",
    "        note_to_diary[line[0].strip(',')] = line[1].strip(',')\n",
    "        diary_to_note[line[1].strip(',')] = line[0].strip(',')"
   ]
  },
  {
   "cell_type": "markdown",
   "metadata": {},
   "source": [
    "note_to_diary \n",
    "\n",
    "{'39081': '130',\n",
    " '39082': '130', ..."
   ]
  },
  {
   "cell_type": "code",
   "execution_count": 83,
   "metadata": {},
   "outputs": [
    {
     "data": {
      "text/plain": [
       "384587"
      ]
     },
     "execution_count": 83,
     "metadata": {},
     "output_type": "execute_result"
    }
   ],
   "source": [
    "len(note_to_diary) # -- столько записей в файле notes.csv"
   ]
  },
  {
   "cell_type": "code",
   "execution_count": 84,
   "metadata": {},
   "outputs": [
    {
     "name": "stdout",
     "output_type": "stream",
     "text": [
      "-110649\n"
     ]
    }
   ],
   "source": [
    "print(len(note_to_dob) - len(note_to_diary)) # -- разница в записях в файлах prozhito_prep_table.csv и notes.csv"
   ]
  },
  {
   "cell_type": "markdown",
   "metadata": {},
   "source": [
    "diary_to_note\n",
    "\n",
    "{'130': '38834',\n",
    " '234': '39085', ..."
   ]
  },
  {
   "cell_type": "code",
   "execution_count": 85,
   "metadata": {},
   "outputs": [
    {
     "data": {
      "text/plain": [
       "1517"
      ]
     },
     "execution_count": 85,
     "metadata": {},
     "output_type": "execute_result"
    }
   ],
   "source": [
    "len(diary_to_note) # -- столько дневников в файле notes.csv"
   ]
  },
  {
   "cell_type": "code",
   "execution_count": 86,
   "metadata": {},
   "outputs": [],
   "source": [
    "diary_to_dob = dict()\n",
    "\n",
    "for note, diary in note_to_diary.items():\n",
    "    if note in note_to_dob:\n",
    "        if diary in diary_to_dob:\n",
    "            i = diary_to_dob[diary][1] + 1\n",
    "            diary_to_dob[diary] = [note_to_dob[note], i]\n",
    "        else:\n",
    "            i = 1\n",
    "            diary_to_dob[diary] = [note_to_dob[note], i]\n",
    "    else:\n",
    "        continue"
   ]
  },
  {
   "cell_type": "code",
   "execution_count": 87,
   "metadata": {},
   "outputs": [
    {
     "data": {
      "text/plain": [
       "851"
      ]
     },
     "execution_count": 87,
     "metadata": {},
     "output_type": "execute_result"
    }
   ],
   "source": [
    "len(diary_to_dob)"
   ]
  },
  {
   "cell_type": "markdown",
   "metadata": {},
   "source": [
    "diary_to_dob\n",
    "\n",
    "{'10': ['1880-11-28', 568],\n",
    " '100': ['21.06.1941', 1631],"
   ]
  },
  {
   "cell_type": "code",
   "execution_count": 96,
   "metadata": {},
   "outputs": [],
   "source": [
    "day = []\n",
    "month = []\n",
    "count = []\n",
    "\n",
    "for diary, dob in diary_to_dob.items():\n",
    "    if '.' in dob[0]:\n",
    "        day.append(dob[0].split('.')[0])\n",
    "        month.append(dob[0].split('.')[1])\n",
    "    elif '-' in dob[0]:\n",
    "        day.append(dob[0].split('-')[2])\n",
    "        month.append(dob[0].split('-')[1])\n",
    "    else:\n",
    "        print(dob)\n",
    "    count.append(dob[1])"
   ]
  },
  {
   "cell_type": "code",
   "execution_count": 97,
   "metadata": {},
   "outputs": [
    {
     "data": {
      "text/plain": [
       "(851, 851, 851)"
      ]
     },
     "execution_count": 97,
     "metadata": {},
     "output_type": "execute_result"
    }
   ],
   "source": [
    "len(day), len(month), len(count)"
   ]
  },
  {
   "cell_type": "code",
   "execution_count": 98,
   "metadata": {},
   "outputs": [],
   "source": [
    "signs_to_people = {'Aries':0, 'Taurus':0, 'Gemini':0, 'Cancer':0, 'Leo':0, 'Virgo':0, \n",
    "         'Libra':0, 'Scorpio':0, 'Sagittarius':0, 'Capricorn':0, 'Aquarius':0, 'Pisces':0}"
   ]
  },
  {
   "cell_type": "code",
   "execution_count": 99,
   "metadata": {},
   "outputs": [],
   "source": [
    "for d, m in zip (day, month):\n",
    "    if m == '01':\n",
    "        if d >= '21':\n",
    "            signs_to_people['Aquarius'] += 1\n",
    "        else:\n",
    "            signs_to_people['Capricorn'] += 1\n",
    "    elif m == '02':\n",
    "        if d >= '20':\n",
    "            signs_to_people['Pisces'] += 1\n",
    "        else:\n",
    "            signs_to_people['Aquarius'] += 1\n",
    "    elif m == '03':\n",
    "        if d >= '21':\n",
    "            signs_to_people['Aries'] += 1\n",
    "        else:\n",
    "            signs_to_people['Pisces'] += 1\n",
    "    elif m == '04':\n",
    "        if d >= '21':\n",
    "            signs_to_people['Taurus'] += 1\n",
    "        else:\n",
    "            signs_to_people['Aries'] += 1\n",
    "    elif m == '05':\n",
    "        if d >= '22':\n",
    "            signs_to_people['Gemini'] += 1\n",
    "        else:\n",
    "            signs_to_people['Taurus'] += 1\n",
    "    elif m == '06':\n",
    "        if d >= '22':\n",
    "            signs_to_people['Cancer'] += 1\n",
    "        else:\n",
    "            signs_to_people['Gemini'] += 1\n",
    "    elif m == '07':\n",
    "        if d >= '23':\n",
    "            signs_to_people['Leo'] += 1\n",
    "        else:\n",
    "            signs_to_people['Cancer'] += 1\n",
    "    elif m == '08':\n",
    "        if d >= '22':\n",
    "            signs_to_people['Virgo'] += 1\n",
    "        else:\n",
    "            signs_to_people['Leo'] += 1\n",
    "    elif m == '09':\n",
    "        if d >= '24':\n",
    "            signs_to_people['Libra'] += 1\n",
    "        else:\n",
    "            signs_to_people['Virgo'] += 1\n",
    "    elif m == '10':\n",
    "        if d >= '24':\n",
    "            signs_to_people['Scorpio'] += 1\n",
    "        else:\n",
    "            signs_to_people['Libra'] += 1\n",
    "    elif m == '11':\n",
    "        if d >= '23':\n",
    "            signs_to_people['Sagittarius'] += 1\n",
    "        else:\n",
    "            signs_to_people['Scorpio'] += 1\n",
    "    elif m == '12':\n",
    "        if d >= '23':\n",
    "            signs_to_people['Capricorn'] += 1\n",
    "        else:\n",
    "            signs_to_people['Sagittarius'] += 1"
   ]
  },
  {
   "cell_type": "code",
   "execution_count": 100,
   "metadata": {},
   "outputs": [
    {
     "name": "stdout",
     "output_type": "stream",
     "text": [
      "Aries 65\n",
      "Taurus 43\n",
      "Gemini 41\n",
      "Cancer 32\n",
      "Leo 46\n",
      "Virgo 51\n",
      "Libra 50\n",
      "Scorpio 46\n",
      "Sagittarius 48\n",
      "Capricorn 333\n",
      "Aquarius 46\n",
      "Pisces 49\n"
     ]
    }
   ],
   "source": [
    "for k,v in signs_to_people.items():\n",
    "    print(k,v)"
   ]
  },
  {
   "cell_type": "code",
   "execution_count": 101,
   "metadata": {},
   "outputs": [
    {
     "data": {
      "image/png": "[encoded data removed]",
      "text/plain": [
       "<matplotlib.figure.Figure at 0x124325588>"
      ]
     },
     "metadata": {},
     "output_type": "display_data"
    },
    {
     "data": {
      "text/plain": [
       "<matplotlib.figure.Figure at 0x1245b0908>"
      ]
     },
     "metadata": {},
     "output_type": "display_data"
    }
   ],
   "source": [
    "import matplotlib.pyplot as plt\n",
    "plt.style.use('seaborn')\n",
    "\n",
    "labels = []\n",
    "numbers = []\n",
    "\n",
    "for k,v in signs_to_people.items():\n",
    "    labels.append(k)\n",
    "    numbers.append(v)\n",
    "explode = (0.1, 0, 0, 0, 0, 0, 0, 0, 0, 0.1, 0, 0)\n",
    "\n",
    "plt.pie(numbers, explode=explode, labels=labels, autopct='%1.1f%%',\n",
    "        shadow=True, startangle=90)\n",
    " \n",
    "plt.axis('normal')\n",
    "plt.show()\n",
    "plt.savefig('1.png')"
   ]
  },
  {
   "cell_type": "markdown",
   "metadata": {},
   "source": [
    "### С большим отрывом побеждают Козероги. Далее с небольшим опережением остальных знаков расположились Овны. Потом все знаки распределились примерно одинаково. Минимум наблюдается у Раков."
   ]
  },
  {
   "cell_type": "code",
   "execution_count": 102,
   "metadata": {},
   "outputs": [],
   "source": [
    "signs_to_notes = {'Aries':0, 'Taurus':0, 'Gemini':0, 'Cancer':0, 'Leo':0, 'Virgo':0, \n",
    "         'Libra':0, 'Scorpio':0, 'Sagittarius':0, 'Capricorn':0, 'Aquarius':0, 'Pisces':0}"
   ]
  },
  {
   "cell_type": "code",
   "execution_count": 103,
   "metadata": {},
   "outputs": [],
   "source": [
    "for d, m, c in zip (day, month, count):\n",
    "    if m == '01':\n",
    "        if d >= '21':\n",
    "            signs_to_notes['Aquarius'] += c\n",
    "        else:\n",
    "            signs_to_notes['Capricorn'] += c\n",
    "    elif m == '02':\n",
    "        if d >= '20':\n",
    "            signs_to_notes['Pisces'] += c\n",
    "        else:\n",
    "            signs_to_notes['Aquarius'] += c\n",
    "    elif m == '03':\n",
    "        if d >= '21':\n",
    "            signs_to_notes['Aries'] += c\n",
    "        else:\n",
    "            signs_to_notes['Pisces'] += c\n",
    "    elif m == '04':\n",
    "        if d >= '21':\n",
    "            signs_to_notes['Taurus'] += c\n",
    "        else:\n",
    "            signs_to_notes['Aries'] += c\n",
    "    elif m == '05':\n",
    "        if d >= '22':\n",
    "            signs_to_notes['Gemini'] += c\n",
    "        else:\n",
    "            signs_to_notes['Taurus'] += c\n",
    "    elif m == '06':\n",
    "        if d >= '22':\n",
    "            signs_to_notes['Cancer'] += c\n",
    "        else:\n",
    "            signs_to_notes['Gemini'] += c\n",
    "    elif m == '07':\n",
    "        if d >= '23':\n",
    "            signs_to_notes['Leo'] += c\n",
    "        else:\n",
    "            signs_to_notes['Cancer'] += c\n",
    "    elif m == '08':\n",
    "        if d >= '22':\n",
    "            signs_to_notes['Virgo'] += c\n",
    "        else:\n",
    "            signs_to_notes['Leo'] += c\n",
    "    elif m == '09':\n",
    "        if d >= '24':\n",
    "            signs_to_notes['Libra'] += c\n",
    "        else:\n",
    "            signs_to_notes['Virgo'] += c\n",
    "    elif m == '10':\n",
    "        if d >= '24':\n",
    "            signs_to_notes['Scorpio'] += c\n",
    "        else:\n",
    "            signs_to_notes['Libra'] += c\n",
    "    elif m == '11':\n",
    "        if d >= '23':\n",
    "            signs_to_notes['Sagittarius'] += c\n",
    "        else:\n",
    "            signs_to_notes['Scorpio'] += c\n",
    "    elif m == '12':\n",
    "        if d >= '23':\n",
    "            signs_to_notes['Capricorn'] += c\n",
    "        else:\n",
    "            signs_to_notes['Sagittarius'] += c"
   ]
  },
  {
   "cell_type": "code",
   "execution_count": 104,
   "metadata": {},
   "outputs": [
    {
     "name": "stdout",
     "output_type": "stream",
     "text": [
      "Aries 27666\n",
      "Taurus 12431\n",
      "Gemini 12863\n",
      "Cancer 8555\n",
      "Leo 20230\n",
      "Virgo 25779\n",
      "Libra 12474\n",
      "Scorpio 14173\n",
      "Sagittarius 12681\n",
      "Capricorn 78854\n",
      "Aquarius 18870\n",
      "Pisces 18946\n"
     ]
    }
   ],
   "source": [
    "for k,v in signs_to_notes.items():\n",
    "    print(k,v)"
   ]
  },
  {
   "cell_type": "code",
   "execution_count": 107,
   "metadata": {
    "scrolled": true
   },
   "outputs": [
    {
     "data": {
      "image/png": "[encoded data removed]",
      "text/plain": [
       "<matplotlib.figure.Figure at 0x12c7e1780>"
      ]
     },
     "metadata": {},
     "output_type": "display_data"
    },
    {
     "data": {
      "text/plain": [
       "<matplotlib.figure.Figure at 0x12c9f5c88>"
      ]
     },
     "metadata": {},
     "output_type": "display_data"
    }
   ],
   "source": [
    "import matplotlib.pyplot as plt\n",
    "import numpy as np\n",
    "plt.style.use('seaborn')\n",
    "\n",
    "\n",
    "signs = ['Aries', 'Taurus', 'Gemini', 'Cancer', 'Leo', 'Virgo', \n",
    "         'Libra', 'Scorpio', 'Sagittarius', 'Capricorn', 'Aquarius', 'Pisces']\n",
    "x_axis = np.arange(len(signs))\n",
    "y_axis = [v for k,v in signs_to_notes.items()]\n",
    "plt.xticks(x_axis, signs, rotation=45)\n",
    "plt.bar(x_axis, y_axis, align='center', alpha=0.5)\n",
    "plt.show()\n",
    "plt.savefig('2.png')"
   ]
  },
  {
   "cell_type": "markdown",
   "metadata": {},
   "source": [
    "### Все также с большим отрывом лидируют Козероги. За ними Овны, очень близко Дева. Далее все идет более-менее одинаково. Как и в предыдущем графике Раки на последнем месте. Из интересного здесь только случай с Девой, потому что из предыдущего графика Девы на 1.6% уступали Овнам, а здесь идут почти вровень. То есть людей Дев меньше, но записей они сделали на уровне количества людей Овнов."
   ]
  },
  {
   "cell_type": "code",
   "execution_count": null,
   "metadata": {},
   "outputs": [],
   "source": []
  }
 ],
 "metadata": {
  "kernelspec": {
   "display_name": "Python 3",
   "language": "python",
   "name": "python3"
  },
  "language_info": {
   "codemirror_mode": {
    "name": "ipython",
    "version": 3
   },
   "file_extension": ".py",
   "mimetype": "text/x-python",
   "name": "python",
   "nbconvert_exporter": "python",
   "pygments_lexer": "ipython3",
   "version": "3.6.4"
  }
 },
 "nbformat": 4,
 "nbformat_minor": 2
}
