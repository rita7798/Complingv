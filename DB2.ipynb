{
 "cells": [
  {
   "cell_type": "code",
   "execution_count": 185,
   "metadata": {},
   "outputs": [],
   "source": [
    "import datetime\n",
    "import ipywidgets as widgets\n",
    "import pymongo\n",
    "from bson import ObjectId"
   ]
  },
  {
   "cell_type": "markdown",
   "metadata": {},
   "source": [
    "## Connecting"
   ]
  },
  {
   "cell_type": "code",
   "execution_count": 186,
   "metadata": {},
   "outputs": [
    {
     "data": {
      "text/plain": [
       "Database(MongoClient(host=['collection-shard-00-00-xq2pi.gcp.mongodb.net:27017', 'collection-shard-00-02-xq2pi.gcp.mongodb.net:27017', 'collection-shard-00-01-xq2pi.gcp.mongodb.net:27017'], document_class=dict, tz_aware=False, connect=True, retrywrites=True, w='majority', authsource='admin', replicaset='Collection-shard-0', ssl=True), 'Collection')"
      ]
     },
     "execution_count": 186,
     "metadata": {},
     "output_type": "execute_result"
    }
   ],
   "source": [
    "client = pymongo.MongoClient('mongodb+srv://rita7798:<password>@collection-xq2pi.gcp.mongodb.net/test?retryWrites=true&w=majority')\n",
    "db = client.Collection\n",
    "persons=db.Collecion\n",
    "db"
   ]
  },
  {
   "cell_type": "markdown",
   "metadata": {},
   "source": [
    "# Create"
   ]
  },
  {
   "cell_type": "code",
   "execution_count": 247,
   "metadata": {},
   "outputs": [],
   "source": [
    "def viewing():\n",
    "    view1 = widgets.Text(placeholder='введите фамилию', description='', disabled=False)\n",
    "    display(view1)\n",
    "    view2 = widgets.Text(placeholder='введите имя', description='', disabled=False)\n",
    "    display(view2)\n",
    "    view3 = widgets.Text(placeholder='введите отчество', description='', disabled=False)\n",
    "    display(view3)\n",
    "    view4 = widgets.Text(placeholder='введите должность', description='', disabled=False)\n",
    "    display(view4)\n",
    "    view5 = widgets.Text(placeholder='введите телефон', description='', disabled=False)\n",
    "    display(view5)\n",
    "    view6 = widgets.Select(options=[('да', 1), ('нет', 0)], description='Aкты?', disabled=False)\n",
    "    display(view6)\n",
    "    view7 = widgets.Text(placeholder='комментарий', description='', disabled=False)\n",
    "    display(view7)\n",
    "    return view1, view2, view3, view4, view5, view6, view7"
   ]
  },
  {
   "cell_type": "code",
   "execution_count": 248,
   "metadata": {},
   "outputs": [],
   "source": [
    "def insertPerson(surname, name, patronymic, position, phone, act, comment, date):\n",
    "    person = {\n",
    "        \"sSurname\": surname,\n",
    "        \"sFirstName\": name,\n",
    "        \"sPatronymic\": patronymic,\n",
    "        \"sPosition\": position,\n",
    "        'sPhone' : phone,\n",
    "        \"isAct\": act,\n",
    "        \"isActive\": 1,\n",
    "        \"sComment\" : comment,\n",
    "        'dDate' : date\n",
    "    }\n",
    "    return str(persons.insert_one(person).inserted_id)"
   ]
  },
  {
   "cell_type": "code",
   "execution_count": 249,
   "metadata": {
    "scrolled": true
   },
   "outputs": [
    {
     "data": {
      "application/vnd.jupyter.widget-view+json": {
       "model_id": "7ea72ea35eb24fbcbb8d0dbb6fc1f5d0",
       "version_major": 2,
       "version_minor": 0
      },
      "text/html": [
       "<p>Failed to display Jupyter Widget of type <code>Text</code>.</p>\n",
       "<p>\n",
       "  If you're reading this message in the Jupyter Notebook or JupyterLab Notebook, it may mean\n",
       "  that the widgets JavaScript is still loading. If this message persists, it\n",
       "  likely means that the widgets JavaScript library is either not installed or\n",
       "  not enabled. See the <a href=\"https://ipywidgets.readthedocs.io/en/stable/user_install.html\">Jupyter\n",
       "  Widgets Documentation</a> for setup instructions.\n",
       "</p>\n",
       "<p>\n",
       "  If you're reading this message in another frontend (for example, a static\n",
       "  rendering on GitHub or <a href=\"https://nbviewer.jupyter.org/\">NBViewer</a>),\n",
       "  it may mean that your frontend doesn't currently support widgets.\n",
       "</p>\n"
      ],
      "text/plain": [
       "Text(value='', placeholder='введите фамилию')"
      ]
     },
     "metadata": {},
     "output_type": "display_data"
    },
    {
     "data": {
      "application/vnd.jupyter.widget-view+json": {
       "model_id": "e55bf0ec37c6403c87b3bb87fe746a35",
       "version_major": 2,
       "version_minor": 0
      },
      "text/html": [
       "<p>Failed to display Jupyter Widget of type <code>Text</code>.</p>\n",
       "<p>\n",
       "  If you're reading this message in the Jupyter Notebook or JupyterLab Notebook, it may mean\n",
       "  that the widgets JavaScript is still loading. If this message persists, it\n",
       "  likely means that the widgets JavaScript library is either not installed or\n",
       "  not enabled. See the <a href=\"https://ipywidgets.readthedocs.io/en/stable/user_install.html\">Jupyter\n",
       "  Widgets Documentation</a> for setup instructions.\n",
       "</p>\n",
       "<p>\n",
       "  If you're reading this message in another frontend (for example, a static\n",
       "  rendering on GitHub or <a href=\"https://nbviewer.jupyter.org/\">NBViewer</a>),\n",
       "  it may mean that your frontend doesn't currently support widgets.\n",
       "</p>\n"
      ],
      "text/plain": [
       "Text(value='', placeholder='введите имя')"
      ]
     },
     "metadata": {},
     "output_type": "display_data"
    },
    {
     "data": {
      "application/vnd.jupyter.widget-view+json": {
       "model_id": "22f81de13f9c4e4284383ccf1c83cb7a",
       "version_major": 2,
       "version_minor": 0
      },
      "text/html": [
       "<p>Failed to display Jupyter Widget of type <code>Text</code>.</p>\n",
       "<p>\n",
       "  If you're reading this message in the Jupyter Notebook or JupyterLab Notebook, it may mean\n",
       "  that the widgets JavaScript is still loading. If this message persists, it\n",
       "  likely means that the widgets JavaScript library is either not installed or\n",
       "  not enabled. See the <a href=\"https://ipywidgets.readthedocs.io/en/stable/user_install.html\">Jupyter\n",
       "  Widgets Documentation</a> for setup instructions.\n",
       "</p>\n",
       "<p>\n",
       "  If you're reading this message in another frontend (for example, a static\n",
       "  rendering on GitHub or <a href=\"https://nbviewer.jupyter.org/\">NBViewer</a>),\n",
       "  it may mean that your frontend doesn't currently support widgets.\n",
       "</p>\n"
      ],
      "text/plain": [
       "Text(value='', placeholder='введите отчество')"
      ]
     },
     "metadata": {},
     "output_type": "display_data"
    },
    {
     "data": {
      "application/vnd.jupyter.widget-view+json": {
       "model_id": "dd7525dd9c96461bbc08d1c46e7d4bd2",
       "version_major": 2,
       "version_minor": 0
      },
      "text/html": [
       "<p>Failed to display Jupyter Widget of type <code>Text</code>.</p>\n",
       "<p>\n",
       "  If you're reading this message in the Jupyter Notebook or JupyterLab Notebook, it may mean\n",
       "  that the widgets JavaScript is still loading. If this message persists, it\n",
       "  likely means that the widgets JavaScript library is either not installed or\n",
       "  not enabled. See the <a href=\"https://ipywidgets.readthedocs.io/en/stable/user_install.html\">Jupyter\n",
       "  Widgets Documentation</a> for setup instructions.\n",
       "</p>\n",
       "<p>\n",
       "  If you're reading this message in another frontend (for example, a static\n",
       "  rendering on GitHub or <a href=\"https://nbviewer.jupyter.org/\">NBViewer</a>),\n",
       "  it may mean that your frontend doesn't currently support widgets.\n",
       "</p>\n"
      ],
      "text/plain": [
       "Text(value='', placeholder='введите должность')"
      ]
     },
     "metadata": {},
     "output_type": "display_data"
    },
    {
     "data": {
      "application/vnd.jupyter.widget-view+json": {
       "model_id": "5536ad8a4eb24f25a1c1cdb14da62ec4",
       "version_major": 2,
       "version_minor": 0
      },
      "text/html": [
       "<p>Failed to display Jupyter Widget of type <code>Text</code>.</p>\n",
       "<p>\n",
       "  If you're reading this message in the Jupyter Notebook or JupyterLab Notebook, it may mean\n",
       "  that the widgets JavaScript is still loading. If this message persists, it\n",
       "  likely means that the widgets JavaScript library is either not installed or\n",
       "  not enabled. See the <a href=\"https://ipywidgets.readthedocs.io/en/stable/user_install.html\">Jupyter\n",
       "  Widgets Documentation</a> for setup instructions.\n",
       "</p>\n",
       "<p>\n",
       "  If you're reading this message in another frontend (for example, a static\n",
       "  rendering on GitHub or <a href=\"https://nbviewer.jupyter.org/\">NBViewer</a>),\n",
       "  it may mean that your frontend doesn't currently support widgets.\n",
       "</p>\n"
      ],
      "text/plain": [
       "Text(value='', placeholder='введите телефон')"
      ]
     },
     "metadata": {},
     "output_type": "display_data"
    },
    {
     "data": {
      "application/vnd.jupyter.widget-view+json": {
       "model_id": "5b3129e9006848f58bf39acf63afa21e",
       "version_major": 2,
       "version_minor": 0
      },
      "text/html": [
       "<p>Failed to display Jupyter Widget of type <code>Select</code>.</p>\n",
       "<p>\n",
       "  If you're reading this message in the Jupyter Notebook or JupyterLab Notebook, it may mean\n",
       "  that the widgets JavaScript is still loading. If this message persists, it\n",
       "  likely means that the widgets JavaScript library is either not installed or\n",
       "  not enabled. See the <a href=\"https://ipywidgets.readthedocs.io/en/stable/user_install.html\">Jupyter\n",
       "  Widgets Documentation</a> for setup instructions.\n",
       "</p>\n",
       "<p>\n",
       "  If you're reading this message in another frontend (for example, a static\n",
       "  rendering on GitHub or <a href=\"https://nbviewer.jupyter.org/\">NBViewer</a>),\n",
       "  it may mean that your frontend doesn't currently support widgets.\n",
       "</p>\n"
      ],
      "text/plain": [
       "Select(description='Aкты?', options=(('да', 1), ('нет', 0)), value=1)"
      ]
     },
     "metadata": {},
     "output_type": "display_data"
    },
    {
     "data": {
      "application/vnd.jupyter.widget-view+json": {
       "model_id": "5497fa2cff13442eaa53d35891fb3256",
       "version_major": 2,
       "version_minor": 0
      },
      "text/html": [
       "<p>Failed to display Jupyter Widget of type <code>Text</code>.</p>\n",
       "<p>\n",
       "  If you're reading this message in the Jupyter Notebook or JupyterLab Notebook, it may mean\n",
       "  that the widgets JavaScript is still loading. If this message persists, it\n",
       "  likely means that the widgets JavaScript library is either not installed or\n",
       "  not enabled. See the <a href=\"https://ipywidgets.readthedocs.io/en/stable/user_install.html\">Jupyter\n",
       "  Widgets Documentation</a> for setup instructions.\n",
       "</p>\n",
       "<p>\n",
       "  If you're reading this message in another frontend (for example, a static\n",
       "  rendering on GitHub or <a href=\"https://nbviewer.jupyter.org/\">NBViewer</a>),\n",
       "  it may mean that your frontend doesn't currently support widgets.\n",
       "</p>\n"
      ],
      "text/plain": [
       "Text(value='', placeholder='комментарий')"
      ]
     },
     "metadata": {},
     "output_type": "display_data"
    }
   ],
   "source": [
    "view1, view2, view3, view4, view5, view6, view7 = viewing()"
   ]
  },
  {
   "cell_type": "code",
   "execution_count": 250,
   "metadata": {},
   "outputs": [
    {
     "name": "stdout",
     "output_type": "stream",
     "text": [
      "Новый подписант успешно добавлен в базу данных\n"
     ]
    }
   ],
   "source": [
    "now = datetime.datetime.now()\n",
    "insertPerson(view1.value, view2.value, view3.value, view4.value, view5.value, view6.value, view7.value, \"%d-%d-%d %d:%d:%d\" % (now.year, now.month, now.day, now.hour, now.minute, now.second))\n",
    "    \n",
    "print('Новый подписант успешно добавлен в базу данных')"
   ]
  },
  {
   "cell_type": "markdown",
   "metadata": {},
   "source": [
    "# Import contacts"
   ]
  },
  {
   "cell_type": "code",
   "execution_count": 251,
   "metadata": {},
   "outputs": [],
   "source": [
    "def viewing():\n",
    "    view1 = widgets.Text(placeholder='импортировать из файла', description='', disabled=False)\n",
    "    display(view1)\n",
    "    return view1"
   ]
  },
  {
   "cell_type": "code",
   "execution_count": 252,
   "metadata": {
    "scrolled": true
   },
   "outputs": [
    {
     "data": {
      "application/vnd.jupyter.widget-view+json": {
       "model_id": "c50071a851984b4d9b489cf07d3b1ed9",
       "version_major": 2,
       "version_minor": 0
      },
      "text/html": [
       "<p>Failed to display Jupyter Widget of type <code>Text</code>.</p>\n",
       "<p>\n",
       "  If you're reading this message in the Jupyter Notebook or JupyterLab Notebook, it may mean\n",
       "  that the widgets JavaScript is still loading. If this message persists, it\n",
       "  likely means that the widgets JavaScript library is either not installed or\n",
       "  not enabled. See the <a href=\"https://ipywidgets.readthedocs.io/en/stable/user_install.html\">Jupyter\n",
       "  Widgets Documentation</a> for setup instructions.\n",
       "</p>\n",
       "<p>\n",
       "  If you're reading this message in another frontend (for example, a static\n",
       "  rendering on GitHub or <a href=\"https://nbviewer.jupyter.org/\">NBViewer</a>),\n",
       "  it may mean that your frontend doesn't currently support widgets.\n",
       "</p>\n"
      ],
      "text/plain": [
       "Text(value='', placeholder='импортировать из файла')"
      ]
     },
     "metadata": {},
     "output_type": "display_data"
    }
   ],
   "source": [
    "view1 = viewing()"
   ]
  },
  {
   "cell_type": "code",
   "execution_count": 253,
   "metadata": {},
   "outputs": [
    {
     "name": "stdout",
     "output_type": "stream",
     "text": [
      "Новые подписанты (5 штук) успешно импортированы в базу данных\n"
     ]
    }
   ],
   "source": [
    "arr = []\n",
    "\n",
    "with open (view1.value, 'r', encoding='utf-8') as f:\n",
    "    t = f.readlines()\n",
    "    for i in t:\n",
    "        try:\n",
    "            option = i.split()[1]\n",
    "            if option == 'да':\n",
    "                arr.append(1)\n",
    "            elif option == 'нет':\n",
    "                arr.append(0)\n",
    "            else:\n",
    "                arr.append(option)\n",
    "        except:\n",
    "            arr.append('')\n",
    "\n",
    "for i in range(0, len(arr), 7):\n",
    "    now = datetime.datetime.now()\n",
    "    insertPerson(arr[i], arr[i+1], arr[i+2], arr[i+3], arr[i+4], arr[i+5], arr[i+6], \"%d-%d-%d %d:%d:%d\" % (now.year, now.month, now.day, now.hour, now.minute, now.second))\n",
    "    i+=7\n",
    "    \n",
    "print('Новые подписанты (%d штук) успешно импортированы в базу данных' % int(i/7))"
   ]
  },
  {
   "cell_type": "markdown",
   "metadata": {},
   "source": [
    "# Read"
   ]
  },
  {
   "cell_type": "code",
   "execution_count": 254,
   "metadata": {},
   "outputs": [],
   "source": [
    "def viewing():\n",
    "    view = widgets.Select(options=[('показать подписантов', 1), ('отмена', 0)], description='', disabled=False)\n",
    "    display(view)\n",
    "    return view"
   ]
  },
  {
   "cell_type": "code",
   "execution_count": 255,
   "metadata": {
    "scrolled": true
   },
   "outputs": [
    {
     "data": {
      "application/vnd.jupyter.widget-view+json": {
       "model_id": "b6bcf8f52e4b48af9048b9d3dc9e8c6f",
       "version_major": 2,
       "version_minor": 0
      },
      "text/html": [
       "<p>Failed to display Jupyter Widget of type <code>Select</code>.</p>\n",
       "<p>\n",
       "  If you're reading this message in the Jupyter Notebook or JupyterLab Notebook, it may mean\n",
       "  that the widgets JavaScript is still loading. If this message persists, it\n",
       "  likely means that the widgets JavaScript library is either not installed or\n",
       "  not enabled. See the <a href=\"https://ipywidgets.readthedocs.io/en/stable/user_install.html\">Jupyter\n",
       "  Widgets Documentation</a> for setup instructions.\n",
       "</p>\n",
       "<p>\n",
       "  If you're reading this message in another frontend (for example, a static\n",
       "  rendering on GitHub or <a href=\"https://nbviewer.jupyter.org/\">NBViewer</a>),\n",
       "  it may mean that your frontend doesn't currently support widgets.\n",
       "</p>\n"
      ],
      "text/plain": [
       "Select(options=(('показать подписантов', 1), ('отмена', 0)), value=1)"
      ]
     },
     "metadata": {},
     "output_type": "display_data"
    }
   ],
   "source": [
    "view = viewing()"
   ]
  },
  {
   "cell_type": "code",
   "execution_count": 256,
   "metadata": {},
   "outputs": [
    {
     "name": "stdout",
     "output_type": "stream",
     "text": [
      "_id 5e8a027791d8aa82e00ef2db\n",
      "sSurname Суворов\n",
      "sFirstName Александр\n",
      "sPatronymic Васильевич\n",
      "sPosition директор\n",
      "sPhone \n",
      "isAct 1\n",
      "isActive 1\n",
      "sComment тот еще полководец\n",
      "dDate 2020-4-5 19:8:23\n",
      "----\n",
      "_id 5e8a028191d8aa82e00ef2dc\n",
      "sSurname Тестов\n",
      "sFirstName Модест\n",
      "sPatronymic Поликарпович\n",
      "sPosition начальник\n",
      "sPhone 89763678421\n",
      "isAct 1\n",
      "isActive 1\n",
      "sComment \n",
      "dDate 2020-4-5 19:8:33\n",
      "----\n",
      "_id 5e8a028191d8aa82e00ef2dd\n",
      "sSurname \n",
      "sFirstName Игорь\n",
      "sPatronymic Анатольевич\n",
      "sPosition менеджер\n",
      "sPhone \n",
      "isAct 1\n",
      "isActive 1\n",
      "sComment зайчик\n",
      "dDate 2020-4-5 19:8:33\n",
      "----\n",
      "_id 5e8a028291d8aa82e00ef2de\n",
      "sSurname Петрова\n",
      "sFirstName Анжела\n",
      "sPatronymic Сергеевна\n",
      "sPosition секретарь\n",
      "sPhone 89104782284\n",
      "isAct 0\n",
      "isActive 1\n",
      "sComment ведьма\n",
      "dDate 2020-4-5 19:8:34\n",
      "----\n",
      "_id 5e8a028291d8aa82e00ef2df\n",
      "sSurname Яшина\n",
      "sFirstName Мария\n",
      "sPatronymic Михайловна\n",
      "sPosition секретарь\n",
      "sPhone 89990541542\n",
      "isAct 1\n",
      "isActive 1\n",
      "sComment лучшая\n",
      "dDate 2020-4-5 19:8:34\n",
      "----\n",
      "_id 5e8a028291d8aa82e00ef2e0\n",
      "sSurname Джонсон\n",
      "sFirstName Анна\n",
      "sPatronymic \n",
      "sPosition зам.директора\n",
      "sPhone 89264437676\n",
      "isAct 1\n",
      "isActive 1\n",
      "sComment \n",
      "dDate 2020-4-5 19:8:34\n",
      "----\n"
     ]
    }
   ],
   "source": [
    "if view.value == 1:\n",
    "    for p in persons.find():\n",
    "        for i,l in p.items():\n",
    "            print(i,l)\n",
    "        print('----')\n",
    "else:\n",
    "    print('Передумали и ладно')"
   ]
  },
  {
   "cell_type": "markdown",
   "metadata": {},
   "source": [
    "# Update"
   ]
  },
  {
   "cell_type": "markdown",
   "metadata": {},
   "source": [
    "### Value changed"
   ]
  },
  {
   "cell_type": "code",
   "execution_count": 257,
   "metadata": {},
   "outputs": [],
   "source": [
    "def viewing():\n",
    "    view1 = widgets.Text(placeholder='введите фамилию', description='', disabled=False)\n",
    "    display(view1)\n",
    "    view2 = widgets.Select(options=[('телефон', 'sPhone'), ('должность', 'sPosition'), ('комментарий', 'sComment')], description='Изменить', disabled=False)\n",
    "    display(view2)\n",
    "    view3 = widgets.Text(placeholder='введите новое значение', description='', disabled=False)\n",
    "    display(view3)\n",
    "    return view1, view2, view3"
   ]
  },
  {
   "cell_type": "code",
   "execution_count": 258,
   "metadata": {
    "scrolled": true
   },
   "outputs": [
    {
     "data": {
      "application/vnd.jupyter.widget-view+json": {
       "model_id": "4376ab65af754d9289326c57b1a3f919",
       "version_major": 2,
       "version_minor": 0
      },
      "text/html": [
       "<p>Failed to display Jupyter Widget of type <code>Text</code>.</p>\n",
       "<p>\n",
       "  If you're reading this message in the Jupyter Notebook or JupyterLab Notebook, it may mean\n",
       "  that the widgets JavaScript is still loading. If this message persists, it\n",
       "  likely means that the widgets JavaScript library is either not installed or\n",
       "  not enabled. See the <a href=\"https://ipywidgets.readthedocs.io/en/stable/user_install.html\">Jupyter\n",
       "  Widgets Documentation</a> for setup instructions.\n",
       "</p>\n",
       "<p>\n",
       "  If you're reading this message in another frontend (for example, a static\n",
       "  rendering on GitHub or <a href=\"https://nbviewer.jupyter.org/\">NBViewer</a>),\n",
       "  it may mean that your frontend doesn't currently support widgets.\n",
       "</p>\n"
      ],
      "text/plain": [
       "Text(value='', placeholder='введите фамилию')"
      ]
     },
     "metadata": {},
     "output_type": "display_data"
    },
    {
     "data": {
      "application/vnd.jupyter.widget-view+json": {
       "model_id": "5aa3dcb9558e4f53aafcee5518e82fe5",
       "version_major": 2,
       "version_minor": 0
      },
      "text/html": [
       "<p>Failed to display Jupyter Widget of type <code>Select</code>.</p>\n",
       "<p>\n",
       "  If you're reading this message in the Jupyter Notebook or JupyterLab Notebook, it may mean\n",
       "  that the widgets JavaScript is still loading. If this message persists, it\n",
       "  likely means that the widgets JavaScript library is either not installed or\n",
       "  not enabled. See the <a href=\"https://ipywidgets.readthedocs.io/en/stable/user_install.html\">Jupyter\n",
       "  Widgets Documentation</a> for setup instructions.\n",
       "</p>\n",
       "<p>\n",
       "  If you're reading this message in another frontend (for example, a static\n",
       "  rendering on GitHub or <a href=\"https://nbviewer.jupyter.org/\">NBViewer</a>),\n",
       "  it may mean that your frontend doesn't currently support widgets.\n",
       "</p>\n"
      ],
      "text/plain": [
       "Select(description='Изменить', options=(('телефон', 'sPhone'), ('должность', 'sPosition'), ('комментарий', 'sComment')), value='sPhone')"
      ]
     },
     "metadata": {},
     "output_type": "display_data"
    },
    {
     "data": {
      "application/vnd.jupyter.widget-view+json": {
       "model_id": "09e87a42e2f94970928c0670df395d1f",
       "version_major": 2,
       "version_minor": 0
      },
      "text/html": [
       "<p>Failed to display Jupyter Widget of type <code>Text</code>.</p>\n",
       "<p>\n",
       "  If you're reading this message in the Jupyter Notebook or JupyterLab Notebook, it may mean\n",
       "  that the widgets JavaScript is still loading. If this message persists, it\n",
       "  likely means that the widgets JavaScript library is either not installed or\n",
       "  not enabled. See the <a href=\"https://ipywidgets.readthedocs.io/en/stable/user_install.html\">Jupyter\n",
       "  Widgets Documentation</a> for setup instructions.\n",
       "</p>\n",
       "<p>\n",
       "  If you're reading this message in another frontend (for example, a static\n",
       "  rendering on GitHub or <a href=\"https://nbviewer.jupyter.org/\">NBViewer</a>),\n",
       "  it may mean that your frontend doesn't currently support widgets.\n",
       "</p>\n"
      ],
      "text/plain": [
       "Text(value='', placeholder='введите новое значение')"
      ]
     },
     "metadata": {},
     "output_type": "display_data"
    }
   ],
   "source": [
    "view1, view2, view3 = viewing()"
   ]
  },
  {
   "cell_type": "code",
   "execution_count": 259,
   "metadata": {},
   "outputs": [
    {
     "name": "stdout",
     "output_type": "stream",
     "text": [
      "Запись с подписантом успешно обновлена \n",
      "\n",
      "_id 5e8a028191d8aa82e00ef2dc\n",
      "sSurname Тестов\n",
      "sFirstName Модест\n",
      "sPatronymic Поликарпович\n",
      "sPosition начальник\n",
      "sPhone 03\n",
      "isAct 1\n",
      "isActive 1\n",
      "sComment \n",
      "dDate 2020-4-5 19:9:6\n"
     ]
    }
   ],
   "source": [
    "now = datetime.datetime.now()\n",
    "\n",
    "persons.update_one(\n",
    "    {'sSurname': view1.value}, \n",
    "    {'$set': \n",
    "      {view2.value: view3.value, \n",
    "       'dDate' : \"%d-%d-%d %d:%d:%d\" % (now.year, now.month, now.day, now.hour, now.minute, now.second)\n",
    "      }\n",
    "    }\n",
    ")\n",
    "    \n",
    "print('Запись с подписантом успешно обновлена \\n')\n",
    "\n",
    "for p in persons.find({'sSurname': view1.value}):\n",
    "    for i,l in p.items():\n",
    "        print(i,l)"
   ]
  },
  {
   "cell_type": "markdown",
   "metadata": {},
   "source": [
    "### New field"
   ]
  },
  {
   "cell_type": "code",
   "execution_count": 260,
   "metadata": {},
   "outputs": [],
   "source": [
    "def viewing():\n",
    "    view1 = widgets.Text(placeholder='введите фамилию', description='', disabled=False)\n",
    "    display(view1)\n",
    "    view2 = widgets.Select(options=[('факс', 'sFax'), ('адрес', 'sAddress')], description='Добавить', disabled=False)\n",
    "    display(view2)\n",
    "    view3 = widgets.Text(placeholder='введите новое значение', description='', disabled=False)\n",
    "    display(view3)\n",
    "    return view1, view2, view3"
   ]
  },
  {
   "cell_type": "code",
   "execution_count": 261,
   "metadata": {
    "scrolled": true
   },
   "outputs": [
    {
     "data": {
      "application/vnd.jupyter.widget-view+json": {
       "model_id": "9775ea9899414036807b5c44c9b672e9",
       "version_major": 2,
       "version_minor": 0
      },
      "text/html": [
       "<p>Failed to display Jupyter Widget of type <code>Text</code>.</p>\n",
       "<p>\n",
       "  If you're reading this message in the Jupyter Notebook or JupyterLab Notebook, it may mean\n",
       "  that the widgets JavaScript is still loading. If this message persists, it\n",
       "  likely means that the widgets JavaScript library is either not installed or\n",
       "  not enabled. See the <a href=\"https://ipywidgets.readthedocs.io/en/stable/user_install.html\">Jupyter\n",
       "  Widgets Documentation</a> for setup instructions.\n",
       "</p>\n",
       "<p>\n",
       "  If you're reading this message in another frontend (for example, a static\n",
       "  rendering on GitHub or <a href=\"https://nbviewer.jupyter.org/\">NBViewer</a>),\n",
       "  it may mean that your frontend doesn't currently support widgets.\n",
       "</p>\n"
      ],
      "text/plain": [
       "Text(value='', placeholder='введите фамилию')"
      ]
     },
     "metadata": {},
     "output_type": "display_data"
    },
    {
     "data": {
      "application/vnd.jupyter.widget-view+json": {
       "model_id": "f772476f137e4af3b8c0ac3721c0b1a2",
       "version_major": 2,
       "version_minor": 0
      },
      "text/html": [
       "<p>Failed to display Jupyter Widget of type <code>Select</code>.</p>\n",
       "<p>\n",
       "  If you're reading this message in the Jupyter Notebook or JupyterLab Notebook, it may mean\n",
       "  that the widgets JavaScript is still loading. If this message persists, it\n",
       "  likely means that the widgets JavaScript library is either not installed or\n",
       "  not enabled. See the <a href=\"https://ipywidgets.readthedocs.io/en/stable/user_install.html\">Jupyter\n",
       "  Widgets Documentation</a> for setup instructions.\n",
       "</p>\n",
       "<p>\n",
       "  If you're reading this message in another frontend (for example, a static\n",
       "  rendering on GitHub or <a href=\"https://nbviewer.jupyter.org/\">NBViewer</a>),\n",
       "  it may mean that your frontend doesn't currently support widgets.\n",
       "</p>\n"
      ],
      "text/plain": [
       "Select(description='Добавить', options=(('факс', 'sFax'), ('адрес', 'sAddress')), value='sFax')"
      ]
     },
     "metadata": {},
     "output_type": "display_data"
    },
    {
     "data": {
      "application/vnd.jupyter.widget-view+json": {
       "model_id": "92d371441ae0438db448bb46a9391037",
       "version_major": 2,
       "version_minor": 0
      },
      "text/html": [
       "<p>Failed to display Jupyter Widget of type <code>Text</code>.</p>\n",
       "<p>\n",
       "  If you're reading this message in the Jupyter Notebook or JupyterLab Notebook, it may mean\n",
       "  that the widgets JavaScript is still loading. If this message persists, it\n",
       "  likely means that the widgets JavaScript library is either not installed or\n",
       "  not enabled. See the <a href=\"https://ipywidgets.readthedocs.io/en/stable/user_install.html\">Jupyter\n",
       "  Widgets Documentation</a> for setup instructions.\n",
       "</p>\n",
       "<p>\n",
       "  If you're reading this message in another frontend (for example, a static\n",
       "  rendering on GitHub or <a href=\"https://nbviewer.jupyter.org/\">NBViewer</a>),\n",
       "  it may mean that your frontend doesn't currently support widgets.\n",
       "</p>\n"
      ],
      "text/plain": [
       "Text(value='', placeholder='введите новое значение')"
      ]
     },
     "metadata": {},
     "output_type": "display_data"
    }
   ],
   "source": [
    "view1, view2, view3 = viewing()"
   ]
  },
  {
   "cell_type": "code",
   "execution_count": 262,
   "metadata": {},
   "outputs": [
    {
     "name": "stdout",
     "output_type": "stream",
     "text": [
      "Запись с подписантом успешно обновлена \n",
      "\n",
      "_id 5e8a028291d8aa82e00ef2df\n",
      "sSurname Яшина\n",
      "sFirstName Мария\n",
      "sPatronymic Михайловна\n",
      "sPosition секретарь\n",
      "sPhone 89990541542\n",
      "isAct 1\n",
      "isActive 1\n",
      "sComment лучшая\n",
      "dDate 2020-4-5 19:9:21\n",
      "sAddress Москва\n"
     ]
    }
   ],
   "source": [
    "now = datetime.datetime.now()\n",
    "\n",
    "persons.update_one(\n",
    "    {'sSurname': view1.value}, \n",
    "    {'$set': \n",
    "      {view2.value: view3.value, \n",
    "       'dDate' : \"%d-%d-%d %d:%d:%d\" % (now.year, now.month, now.day, now.hour, now.minute, now.second)\n",
    "      }\n",
    "    }\n",
    ")\n",
    "    \n",
    "print('Запись с подписантом успешно обновлена \\n')\n",
    "\n",
    "for p in persons.find({'sSurname': view1.value}):\n",
    "    for i,l in p.items():\n",
    "        print(i,l)"
   ]
  },
  {
   "cell_type": "markdown",
   "metadata": {},
   "source": [
    "### Not active"
   ]
  },
  {
   "cell_type": "code",
   "execution_count": 263,
   "metadata": {},
   "outputs": [],
   "source": [
    "def viewing():\n",
    "    view1 = widgets.Text(placeholder='введите фамилию', description='', disabled=False)\n",
    "    display(view1)\n",
    "    view2 = widgets.Select(options=[('не может подписывать акты', 'isAct'), ('неактивен', 'isActive')], description='Теперь', disabled=False)\n",
    "    display(view2)\n",
    "    return view1, view2"
   ]
  },
  {
   "cell_type": "code",
   "execution_count": 264,
   "metadata": {},
   "outputs": [
    {
     "data": {
      "application/vnd.jupyter.widget-view+json": {
       "model_id": "ed1bad83109d4775b05cf60477375b17",
       "version_major": 2,
       "version_minor": 0
      },
      "text/html": [
       "<p>Failed to display Jupyter Widget of type <code>Text</code>.</p>\n",
       "<p>\n",
       "  If you're reading this message in the Jupyter Notebook or JupyterLab Notebook, it may mean\n",
       "  that the widgets JavaScript is still loading. If this message persists, it\n",
       "  likely means that the widgets JavaScript library is either not installed or\n",
       "  not enabled. See the <a href=\"https://ipywidgets.readthedocs.io/en/stable/user_install.html\">Jupyter\n",
       "  Widgets Documentation</a> for setup instructions.\n",
       "</p>\n",
       "<p>\n",
       "  If you're reading this message in another frontend (for example, a static\n",
       "  rendering on GitHub or <a href=\"https://nbviewer.jupyter.org/\">NBViewer</a>),\n",
       "  it may mean that your frontend doesn't currently support widgets.\n",
       "</p>\n"
      ],
      "text/plain": [
       "Text(value='', placeholder='введите фамилию')"
      ]
     },
     "metadata": {},
     "output_type": "display_data"
    },
    {
     "data": {
      "application/vnd.jupyter.widget-view+json": {
       "model_id": "c129d6a7c8bc45dbbf5a0165c1217ba3",
       "version_major": 2,
       "version_minor": 0
      },
      "text/html": [
       "<p>Failed to display Jupyter Widget of type <code>Select</code>.</p>\n",
       "<p>\n",
       "  If you're reading this message in the Jupyter Notebook or JupyterLab Notebook, it may mean\n",
       "  that the widgets JavaScript is still loading. If this message persists, it\n",
       "  likely means that the widgets JavaScript library is either not installed or\n",
       "  not enabled. See the <a href=\"https://ipywidgets.readthedocs.io/en/stable/user_install.html\">Jupyter\n",
       "  Widgets Documentation</a> for setup instructions.\n",
       "</p>\n",
       "<p>\n",
       "  If you're reading this message in another frontend (for example, a static\n",
       "  rendering on GitHub or <a href=\"https://nbviewer.jupyter.org/\">NBViewer</a>),\n",
       "  it may mean that your frontend doesn't currently support widgets.\n",
       "</p>\n"
      ],
      "text/plain": [
       "Select(description='Теперь', options=(('не может подписывать акты', 'isAct'), ('неактивен', 'isActive')), value='isAct')"
      ]
     },
     "metadata": {},
     "output_type": "display_data"
    }
   ],
   "source": [
    "view1, view2 = viewing()"
   ]
  },
  {
   "cell_type": "code",
   "execution_count": 268,
   "metadata": {},
   "outputs": [
    {
     "name": "stdout",
     "output_type": "stream",
     "text": [
      "Запись с подписантом успешно обновлена \n",
      "\n",
      "_id 5e8a028291d8aa82e00ef2e0\n",
      "sSurname Джонсон\n",
      "sFirstName Анна\n",
      "sPatronymic \n",
      "sPosition зам.директора\n",
      "sPhone 89264437676\n",
      "isAct 0\n",
      "isActive 1\n",
      "sComment \n",
      "dDate 2020-4-5 19:10:15\n"
     ]
    }
   ],
   "source": [
    "now = datetime.datetime.now()\n",
    "\n",
    "persons.update_one(\n",
    "    {'sSurname': view1.value}, \n",
    "    {'$set': \n",
    "      {view2.value: 0, \n",
    "       'dDate' : \"%d-%d-%d %d:%d:%d\" % (now.year, now.month, now.day, now.hour, now.minute, now.second)\n",
    "      }\n",
    "    }\n",
    ")\n",
    "    \n",
    "print('Запись с подписантом успешно обновлена \\n')\n",
    "\n",
    "for p in persons.find({'sSurname': view1.value}):\n",
    "    for i,l in p.items():\n",
    "        print(i,l)"
   ]
  },
  {
   "cell_type": "markdown",
   "metadata": {},
   "source": [
    "# Delete"
   ]
  },
  {
   "cell_type": "code",
   "execution_count": 271,
   "metadata": {},
   "outputs": [],
   "source": [
    "def viewing():\n",
    "    view = widgets.Select(options=[('неактивных', {'isActive': 0})], description='Удалить', disabled=False)\n",
    "    display(view)\n",
    "    return view"
   ]
  },
  {
   "cell_type": "code",
   "execution_count": 272,
   "metadata": {},
   "outputs": [
    {
     "data": {
      "application/vnd.jupyter.widget-view+json": {
       "model_id": "ce2b676bacb541abb299c9a001547b05",
       "version_major": 2,
       "version_minor": 0
      },
      "text/html": [
       "<p>Failed to display Jupyter Widget of type <code>Select</code>.</p>\n",
       "<p>\n",
       "  If you're reading this message in the Jupyter Notebook or JupyterLab Notebook, it may mean\n",
       "  that the widgets JavaScript is still loading. If this message persists, it\n",
       "  likely means that the widgets JavaScript library is either not installed or\n",
       "  not enabled. See the <a href=\"https://ipywidgets.readthedocs.io/en/stable/user_install.html\">Jupyter\n",
       "  Widgets Documentation</a> for setup instructions.\n",
       "</p>\n",
       "<p>\n",
       "  If you're reading this message in another frontend (for example, a static\n",
       "  rendering on GitHub or <a href=\"https://nbviewer.jupyter.org/\">NBViewer</a>),\n",
       "  it may mean that your frontend doesn't currently support widgets.\n",
       "</p>\n"
      ],
      "text/plain": [
       "Select(description='Удалить', options=(('неактивных', {'isActive': 0}),), value={'isActive': 0})"
      ]
     },
     "metadata": {},
     "output_type": "display_data"
    }
   ],
   "source": [
    "view = viewing()"
   ]
  },
  {
   "cell_type": "code",
   "execution_count": 273,
   "metadata": {},
   "outputs": [
    {
     "name": "stdout",
     "output_type": "stream",
     "text": [
      "Операция успешно выполнена\n"
     ]
    }
   ],
   "source": [
    "persons.delete_many(view.value)\n",
    "    \n",
    "print('Операция успешно выполнена')"
   ]
  },
  {
   "cell_type": "code",
   "execution_count": 246,
   "metadata": {},
   "outputs": [
    {
     "data": {
      "text/plain": [
       "<pymongo.results.DeleteResult at 0x113c93d08>"
      ]
     },
     "execution_count": 246,
     "metadata": {},
     "output_type": "execute_result"
    }
   ],
   "source": [
    "#persons.delete_many({})"
   ]
  },
  {
   "cell_type": "markdown",
   "metadata": {},
   "source": [
    "# Aggregate"
   ]
  },
  {
   "cell_type": "code",
   "execution_count": 274,
   "metadata": {},
   "outputs": [],
   "source": [
    "def viewing():\n",
    "    view = widgets.Select(options=[('подписывающих акты', { 'isAct': 1 }), ('активных', { 'isActive': 1 })], description='Собрать', disabled=False)\n",
    "    display(view)\n",
    "    return view"
   ]
  },
  {
   "cell_type": "code",
   "execution_count": 275,
   "metadata": {},
   "outputs": [
    {
     "data": {
      "application/vnd.jupyter.widget-view+json": {
       "model_id": "5b7c9b8e3a9b4bdcaa038bc8576d2604",
       "version_major": 2,
       "version_minor": 0
      },
      "text/html": [
       "<p>Failed to display Jupyter Widget of type <code>Select</code>.</p>\n",
       "<p>\n",
       "  If you're reading this message in the Jupyter Notebook or JupyterLab Notebook, it may mean\n",
       "  that the widgets JavaScript is still loading. If this message persists, it\n",
       "  likely means that the widgets JavaScript library is either not installed or\n",
       "  not enabled. See the <a href=\"https://ipywidgets.readthedocs.io/en/stable/user_install.html\">Jupyter\n",
       "  Widgets Documentation</a> for setup instructions.\n",
       "</p>\n",
       "<p>\n",
       "  If you're reading this message in another frontend (for example, a static\n",
       "  rendering on GitHub or <a href=\"https://nbviewer.jupyter.org/\">NBViewer</a>),\n",
       "  it may mean that your frontend doesn't currently support widgets.\n",
       "</p>\n"
      ],
      "text/plain": [
       "Select(description='Собрать', options=(('подписывающих акты', {'isAct': 1}), ('активных', {'isActive': 1})), value={'isAct': 1})"
      ]
     },
     "metadata": {},
     "output_type": "display_data"
    }
   ],
   "source": [
    "view = viewing()"
   ]
  },
  {
   "cell_type": "code",
   "execution_count": 277,
   "metadata": {},
   "outputs": [
    {
     "name": "stdout",
     "output_type": "stream",
     "text": [
      "_id 5e8a028191d8aa82e00ef2dc\n",
      "sSurname Тестов\n",
      "sFirstName Модест\n",
      "sPatronymic Поликарпович\n",
      "sPosition начальник\n",
      "sPhone 03\n",
      "isAct 1\n",
      "isActive 1\n",
      "sComment \n",
      "dDate 2020-4-5 19:9:6\n",
      "----\n",
      "_id 5e8a028191d8aa82e00ef2dd\n",
      "sSurname \n",
      "sFirstName Игорь\n",
      "sPatronymic Анатольевич\n",
      "sPosition менеджер\n",
      "sPhone \n",
      "isAct 1\n",
      "isActive 1\n",
      "sComment зайчик\n",
      "dDate 2020-4-5 19:8:33\n",
      "----\n",
      "_id 5e8a028291d8aa82e00ef2df\n",
      "sSurname Яшина\n",
      "sFirstName Мария\n",
      "sPatronymic Михайловна\n",
      "sPosition секретарь\n",
      "sPhone 89990541542\n",
      "isAct 1\n",
      "isActive 1\n",
      "sComment лучшая\n",
      "dDate 2020-4-5 19:9:21\n",
      "sAddress Москва\n",
      "----\n",
      "_id 5e8a028291d8aa82e00ef2e0\n",
      "sSurname Джонсон\n",
      "sFirstName Анна\n",
      "sPatronymic \n",
      "sPosition зам.директора\n",
      "sPhone 89264437676\n",
      "isAct 0\n",
      "isActive 1\n",
      "sComment \n",
      "dDate 2020-4-5 19:10:15\n",
      "----\n",
      "\n",
      " Действие в базе данных успешно выполнено\n"
     ]
    }
   ],
   "source": [
    "d = list(persons.aggregate([{'$match': view.value}]))\n",
    "for k in d:\n",
    "    for i,l in k.items():\n",
    "        print(i,l)\n",
    "    print('----')\n",
    "\n",
    "print('\\n Действие в базе данных успешно выполнено')"
   ]
  },
  {
   "cell_type": "markdown",
   "metadata": {},
   "source": [
    "# Sort"
   ]
  },
  {
   "cell_type": "code",
   "execution_count": 278,
   "metadata": {},
   "outputs": [],
   "source": [
    "def viewing():\n",
    "    view = widgets.Select(options=[('по фамилии', [('sSurname', 1)]), ('по имени', [('sFirstName', 1)]), ('по отчеству', [('sPatronymic', 1)])], description='Сортировка', disabled=False)\n",
    "    display(view)\n",
    "    view2 = widgets.Select(options=[('да', {'isActive':1}), ('нет', {'isActive':0}), ('все', {})], description='Активные?', disabled=False)\n",
    "    display(view2)\n",
    "    return view, view2"
   ]
  },
  {
   "cell_type": "code",
   "execution_count": 279,
   "metadata": {},
   "outputs": [
    {
     "data": {
      "application/vnd.jupyter.widget-view+json": {
       "model_id": "208e420a29324c52a0ba3c493d4718c6",
       "version_major": 2,
       "version_minor": 0
      },
      "text/html": [
       "<p>Failed to display Jupyter Widget of type <code>Select</code>.</p>\n",
       "<p>\n",
       "  If you're reading this message in the Jupyter Notebook or JupyterLab Notebook, it may mean\n",
       "  that the widgets JavaScript is still loading. If this message persists, it\n",
       "  likely means that the widgets JavaScript library is either not installed or\n",
       "  not enabled. See the <a href=\"https://ipywidgets.readthedocs.io/en/stable/user_install.html\">Jupyter\n",
       "  Widgets Documentation</a> for setup instructions.\n",
       "</p>\n",
       "<p>\n",
       "  If you're reading this message in another frontend (for example, a static\n",
       "  rendering on GitHub or <a href=\"https://nbviewer.jupyter.org/\">NBViewer</a>),\n",
       "  it may mean that your frontend doesn't currently support widgets.\n",
       "</p>\n"
      ],
      "text/plain": [
       "Select(description='Сортировка', options=(('по фамилии', [('sSurname', 1)]), ('по имени', [('sFirstName', 1)]), ('по отчеству', [('sPatronymic', 1)])), value=[('sSurname', 1)])"
      ]
     },
     "metadata": {},
     "output_type": "display_data"
    },
    {
     "data": {
      "application/vnd.jupyter.widget-view+json": {
       "model_id": "1d7c1dc650b045ec9351d87a8e5d082c",
       "version_major": 2,
       "version_minor": 0
      },
      "text/html": [
       "<p>Failed to display Jupyter Widget of type <code>Select</code>.</p>\n",
       "<p>\n",
       "  If you're reading this message in the Jupyter Notebook or JupyterLab Notebook, it may mean\n",
       "  that the widgets JavaScript is still loading. If this message persists, it\n",
       "  likely means that the widgets JavaScript library is either not installed or\n",
       "  not enabled. See the <a href=\"https://ipywidgets.readthedocs.io/en/stable/user_install.html\">Jupyter\n",
       "  Widgets Documentation</a> for setup instructions.\n",
       "</p>\n",
       "<p>\n",
       "  If you're reading this message in another frontend (for example, a static\n",
       "  rendering on GitHub or <a href=\"https://nbviewer.jupyter.org/\">NBViewer</a>),\n",
       "  it may mean that your frontend doesn't currently support widgets.\n",
       "</p>\n"
      ],
      "text/plain": [
       "Select(description='Активные?', options=(('да', {'isActive': 1}), ('нет', {'isActive': 0}), ('все', {})), value={'isActive': 1})"
      ]
     },
     "metadata": {},
     "output_type": "display_data"
    }
   ],
   "source": [
    "view, view2 = viewing()"
   ]
  },
  {
   "cell_type": "code",
   "execution_count": 282,
   "metadata": {},
   "outputs": [
    {
     "name": "stdout",
     "output_type": "stream",
     "text": [
      "_id 5e8a028191d8aa82e00ef2dd\n",
      "sSurname \n",
      "sFirstName Игорь\n",
      "sPatronymic Анатольевич\n",
      "sPosition менеджер\n",
      "sPhone \n",
      "isAct 1\n",
      "isActive 1\n",
      "sComment зайчик\n",
      "dDate 2020-4-5 19:8:33\n",
      "----\n",
      "_id 5e8a028291d8aa82e00ef2e0\n",
      "sSurname Джонсон\n",
      "sFirstName Анна\n",
      "sPatronymic \n",
      "sPosition зам.директора\n",
      "sPhone 89264437676\n",
      "isAct 0\n",
      "isActive 1\n",
      "sComment \n",
      "dDate 2020-4-5 19:10:15\n",
      "----\n",
      "_id 5e8a028191d8aa82e00ef2dc\n",
      "sSurname Тестов\n",
      "sFirstName Модест\n",
      "sPatronymic Поликарпович\n",
      "sPosition начальник\n",
      "sPhone 03\n",
      "isAct 1\n",
      "isActive 1\n",
      "sComment \n",
      "dDate 2020-4-5 19:9:6\n",
      "----\n",
      "_id 5e8a028291d8aa82e00ef2df\n",
      "sSurname Яшина\n",
      "sFirstName Мария\n",
      "sPatronymic Михайловна\n",
      "sPosition секретарь\n",
      "sPhone 89990541542\n",
      "isAct 1\n",
      "isActive 1\n",
      "sComment лучшая\n",
      "dDate 2020-4-5 19:9:21\n",
      "sAddress Москва\n",
      "----\n",
      "\n",
      " Действие в базе данных успешно выполнено\n"
     ]
    }
   ],
   "source": [
    "for p in persons.find(view2.value).sort(view.value):\n",
    "    for i,l in p.items():\n",
    "        print(i,l)\n",
    "    print('----')\n",
    "    \n",
    "    \n",
    "print('\\n Действие в базе данных успешно выполнено')"
   ]
  },
  {
   "cell_type": "code",
   "execution_count": null,
   "metadata": {},
   "outputs": [],
   "source": []
  }
 ],
 "metadata": {
  "kernelspec": {
   "display_name": "Python 3",
   "language": "python",
   "name": "python3"
  },
  "language_info": {
   "codemirror_mode": {
    "name": "ipython",
    "version": 3
   },
   "file_extension": ".py",
   "mimetype": "text/x-python",
   "name": "python",
   "nbconvert_exporter": "python",
   "pygments_lexer": "ipython3",
   "version": "3.6.4"
  }
 },
 "nbformat": 4,
 "nbformat_minor": 4
}
