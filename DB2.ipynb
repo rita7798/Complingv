{
 "cells": [
  {
   "cell_type": "code",
   "execution_count": 44,
   "metadata": {},
   "outputs": [],
   "source": [
    "import datetime\n",
    "import ipywidgets as widgets\n",
    "import pymongo\n",
    "from bson import ObjectId"
   ]
  },
  {
   "cell_type": "markdown",
   "metadata": {},
   "source": [
    "## Connecting"
   ]
  },
  {
   "cell_type": "code",
   "execution_count": 45,
   "metadata": {},
   "outputs": [
    {
     "data": {
      "text/plain": [
       "Database(MongoClient(host=['collection-shard-00-00-xq2pi.gcp.mongodb.net:27017', 'collection-shard-00-02-xq2pi.gcp.mongodb.net:27017', 'collection-shard-00-01-xq2pi.gcp.mongodb.net:27017'], document_class=dict, tz_aware=False, connect=True, retrywrites=True, w='majority', authsource='admin', replicaset='Collection-shard-0', ssl=True), 'Collection')"
      ]
     },
     "execution_count": 45,
     "metadata": {},
     "output_type": "execute_result"
    }
   ],
   "source": [
    "client = pymongo.MongoClient('mongodb+srv://rita7798:<password>@collection-xq2pi.gcp.mongodb.net/test?retryWrites=true&w=majority')\n",
    "db = client.Collection\n",
    "persons=db.Collecion\n",
    "db"
   ]
  },
  {
   "cell_type": "markdown",
   "metadata": {},
   "source": [
    "# Create"
   ]
  },
  {
   "cell_type": "code",
   "execution_count": 46,
   "metadata": {},
   "outputs": [],
   "source": [
    "def viewing():\n",
    "    view1 = widgets.Text(placeholder='введите фамилию', description='', disabled=False)\n",
    "    display(view1)\n",
    "    view2 = widgets.Text(placeholder='введите имя', description='', disabled=False)\n",
    "    display(view2)\n",
    "    view3 = widgets.Text(placeholder='введите отчество', description='', disabled=False)\n",
    "    display(view3)\n",
    "    view4 = widgets.Text(placeholder='введите должность', description='', disabled=False)\n",
    "    display(view4)\n",
    "    view5 = widgets.Text(placeholder='введите телефон', description='', disabled=False)\n",
    "    display(view5)\n",
    "    view6 = widgets.Select(options=[('да', 1), ('нет', 0)], description='Aкты?', disabled=False)\n",
    "    display(view6)\n",
    "    view7 = widgets.Text(placeholder='комментарий', description='', disabled=False)\n",
    "    display(view7)\n",
    "    return view1, view2, view3, view4, view5, view6, view7"
   ]
  },
  {
   "cell_type": "code",
   "execution_count": 47,
   "metadata": {},
   "outputs": [],
   "source": [
    "def insertPerson(surname, name, patronymic, position, phone, act, comment, date):\n",
    "    person = {\n",
    "        \"sSurname\": surname,\n",
    "        \"sFirstName\": name,\n",
    "        \"sPatronymic\": patronymic,\n",
    "        \"sPosition\": position,\n",
    "        'sPhone' : phone,\n",
    "        \"isAct\": act,\n",
    "        \"isActive\": 1,\n",
    "        \"sComment\" : comment,\n",
    "        'dDate' : date\n",
    "    }\n",
    "    return str(persons.insert_one(person).inserted_id)"
   ]
  },
  {
   "cell_type": "code",
   "execution_count": 36,
   "metadata": {
    "scrolled": true
   },
   "outputs": [
    {
     "data": {
      "application/vnd.jupyter.widget-view+json": {
       "model_id": "a6094f199efd448b8af61de060ffe682",
       "version_major": 2,
       "version_minor": 0
      },
      "text/html": [
       "<p>Failed to display Jupyter Widget of type <code>Text</code>.</p>\n",
       "<p>\n",
       "  If you're reading this message in the Jupyter Notebook or JupyterLab Notebook, it may mean\n",
       "  that the widgets JavaScript is still loading. If this message persists, it\n",
       "  likely means that the widgets JavaScript library is either not installed or\n",
       "  not enabled. See the <a href=\"https://ipywidgets.readthedocs.io/en/stable/user_install.html\">Jupyter\n",
       "  Widgets Documentation</a> for setup instructions.\n",
       "</p>\n",
       "<p>\n",
       "  If you're reading this message in another frontend (for example, a static\n",
       "  rendering on GitHub or <a href=\"https://nbviewer.jupyter.org/\">NBViewer</a>),\n",
       "  it may mean that your frontend doesn't currently support widgets.\n",
       "</p>\n"
      ],
      "text/plain": [
       "Text(value='', placeholder='введите фамилию')"
      ]
     },
     "metadata": {},
     "output_type": "display_data"
    },
    {
     "data": {
      "application/vnd.jupyter.widget-view+json": {
       "model_id": "90c62591058d4dffa4a9eada8d42071e",
       "version_major": 2,
       "version_minor": 0
      },
      "text/html": [
       "<p>Failed to display Jupyter Widget of type <code>Text</code>.</p>\n",
       "<p>\n",
       "  If you're reading this message in the Jupyter Notebook or JupyterLab Notebook, it may mean\n",
       "  that the widgets JavaScript is still loading. If this message persists, it\n",
       "  likely means that the widgets JavaScript library is either not installed or\n",
       "  not enabled. See the <a href=\"https://ipywidgets.readthedocs.io/en/stable/user_install.html\">Jupyter\n",
       "  Widgets Documentation</a> for setup instructions.\n",
       "</p>\n",
       "<p>\n",
       "  If you're reading this message in another frontend (for example, a static\n",
       "  rendering on GitHub or <a href=\"https://nbviewer.jupyter.org/\">NBViewer</a>),\n",
       "  it may mean that your frontend doesn't currently support widgets.\n",
       "</p>\n"
      ],
      "text/plain": [
       "Text(value='', placeholder='введите имя')"
      ]
     },
     "metadata": {},
     "output_type": "display_data"
    },
    {
     "data": {
      "application/vnd.jupyter.widget-view+json": {
       "model_id": "9811782020834eaebf69323e746a9679",
       "version_major": 2,
       "version_minor": 0
      },
      "text/html": [
       "<p>Failed to display Jupyter Widget of type <code>Text</code>.</p>\n",
       "<p>\n",
       "  If you're reading this message in the Jupyter Notebook or JupyterLab Notebook, it may mean\n",
       "  that the widgets JavaScript is still loading. If this message persists, it\n",
       "  likely means that the widgets JavaScript library is either not installed or\n",
       "  not enabled. See the <a href=\"https://ipywidgets.readthedocs.io/en/stable/user_install.html\">Jupyter\n",
       "  Widgets Documentation</a> for setup instructions.\n",
       "</p>\n",
       "<p>\n",
       "  If you're reading this message in another frontend (for example, a static\n",
       "  rendering on GitHub or <a href=\"https://nbviewer.jupyter.org/\">NBViewer</a>),\n",
       "  it may mean that your frontend doesn't currently support widgets.\n",
       "</p>\n"
      ],
      "text/plain": [
       "Text(value='', placeholder='введите отчество')"
      ]
     },
     "metadata": {},
     "output_type": "display_data"
    },
    {
     "data": {
      "application/vnd.jupyter.widget-view+json": {
       "model_id": "a441b646c02e42bfa8e03925cb39d961",
       "version_major": 2,
       "version_minor": 0
      },
      "text/html": [
       "<p>Failed to display Jupyter Widget of type <code>Text</code>.</p>\n",
       "<p>\n",
       "  If you're reading this message in the Jupyter Notebook or JupyterLab Notebook, it may mean\n",
       "  that the widgets JavaScript is still loading. If this message persists, it\n",
       "  likely means that the widgets JavaScript library is either not installed or\n",
       "  not enabled. See the <a href=\"https://ipywidgets.readthedocs.io/en/stable/user_install.html\">Jupyter\n",
       "  Widgets Documentation</a> for setup instructions.\n",
       "</p>\n",
       "<p>\n",
       "  If you're reading this message in another frontend (for example, a static\n",
       "  rendering on GitHub or <a href=\"https://nbviewer.jupyter.org/\">NBViewer</a>),\n",
       "  it may mean that your frontend doesn't currently support widgets.\n",
       "</p>\n"
      ],
      "text/plain": [
       "Text(value='', placeholder='введите должность')"
      ]
     },
     "metadata": {},
     "output_type": "display_data"
    },
    {
     "data": {
      "application/vnd.jupyter.widget-view+json": {
       "model_id": "d217f60d82b7418eb68c75db78d34a12",
       "version_major": 2,
       "version_minor": 0
      },
      "text/html": [
       "<p>Failed to display Jupyter Widget of type <code>Text</code>.</p>\n",
       "<p>\n",
       "  If you're reading this message in the Jupyter Notebook or JupyterLab Notebook, it may mean\n",
       "  that the widgets JavaScript is still loading. If this message persists, it\n",
       "  likely means that the widgets JavaScript library is either not installed or\n",
       "  not enabled. See the <a href=\"https://ipywidgets.readthedocs.io/en/stable/user_install.html\">Jupyter\n",
       "  Widgets Documentation</a> for setup instructions.\n",
       "</p>\n",
       "<p>\n",
       "  If you're reading this message in another frontend (for example, a static\n",
       "  rendering on GitHub or <a href=\"https://nbviewer.jupyter.org/\">NBViewer</a>),\n",
       "  it may mean that your frontend doesn't currently support widgets.\n",
       "</p>\n"
      ],
      "text/plain": [
       "Text(value='', placeholder='введите телефон')"
      ]
     },
     "metadata": {},
     "output_type": "display_data"
    },
    {
     "data": {
      "application/vnd.jupyter.widget-view+json": {
       "model_id": "20dba6622b9e446cac2b07a3193c6bea",
       "version_major": 2,
       "version_minor": 0
      },
      "text/html": [
       "<p>Failed to display Jupyter Widget of type <code>Select</code>.</p>\n",
       "<p>\n",
       "  If you're reading this message in the Jupyter Notebook or JupyterLab Notebook, it may mean\n",
       "  that the widgets JavaScript is still loading. If this message persists, it\n",
       "  likely means that the widgets JavaScript library is either not installed or\n",
       "  not enabled. See the <a href=\"https://ipywidgets.readthedocs.io/en/stable/user_install.html\">Jupyter\n",
       "  Widgets Documentation</a> for setup instructions.\n",
       "</p>\n",
       "<p>\n",
       "  If you're reading this message in another frontend (for example, a static\n",
       "  rendering on GitHub or <a href=\"https://nbviewer.jupyter.org/\">NBViewer</a>),\n",
       "  it may mean that your frontend doesn't currently support widgets.\n",
       "</p>\n"
      ],
      "text/plain": [
       "Select(description='Aкты?', options=(('да', 1), ('нет', 0)), value=1)"
      ]
     },
     "metadata": {},
     "output_type": "display_data"
    },
    {
     "data": {
      "application/vnd.jupyter.widget-view+json": {
       "model_id": "95f5dda884224fe8a22accbb32126e49",
       "version_major": 2,
       "version_minor": 0
      },
      "text/html": [
       "<p>Failed to display Jupyter Widget of type <code>Text</code>.</p>\n",
       "<p>\n",
       "  If you're reading this message in the Jupyter Notebook or JupyterLab Notebook, it may mean\n",
       "  that the widgets JavaScript is still loading. If this message persists, it\n",
       "  likely means that the widgets JavaScript library is either not installed or\n",
       "  not enabled. See the <a href=\"https://ipywidgets.readthedocs.io/en/stable/user_install.html\">Jupyter\n",
       "  Widgets Documentation</a> for setup instructions.\n",
       "</p>\n",
       "<p>\n",
       "  If you're reading this message in another frontend (for example, a static\n",
       "  rendering on GitHub or <a href=\"https://nbviewer.jupyter.org/\">NBViewer</a>),\n",
       "  it may mean that your frontend doesn't currently support widgets.\n",
       "</p>\n"
      ],
      "text/plain": [
       "Text(value='', placeholder='комментарий')"
      ]
     },
     "metadata": {},
     "output_type": "display_data"
    }
   ],
   "source": [
    "view1, view2, view3, view4, view5, view6, view7 = viewing()"
   ]
  },
  {
   "cell_type": "code",
   "execution_count": 48,
   "metadata": {},
   "outputs": [
    {
     "name": "stdout",
     "output_type": "stream",
     "text": [
      "Новый подписант успешно добавлен в базу данных\n"
     ]
    }
   ],
   "source": [
    "now = datetime.datetime.now()\n",
    "insertPerson(view1.value, view2.value, view3.value, view4.value, view5.value, view6.value, view7.value, \"%d-%d-%d %d:%d:%d\" % (now.year, now.month, now.day, now.hour, now.minute, now.second))\n",
    "    \n",
    "print('Новый подписант успешно добавлен в базу данных')"
   ]
  },
  {
   "cell_type": "markdown",
   "metadata": {},
   "source": [
    "# Import contact"
   ]
  },
  {
   "cell_type": "code",
   "execution_count": 49,
   "metadata": {},
   "outputs": [
    {
     "name": "stdout",
     "output_type": "stream",
     "text": [
      "Новые подписанты (5 штук) успешно импортированы в базу данных\n"
     ]
    }
   ],
   "source": [
    "arr = []\n",
    "\n",
    "with open ('test.txt', 'r', encoding='utf-8') as f:\n",
    "    t = f.readlines()\n",
    "    for i in t:\n",
    "        try:\n",
    "            option = i.split()[1]\n",
    "            if option == 'да':\n",
    "                arr.append(1)\n",
    "            elif option == 'нет':\n",
    "                arr.append(0)\n",
    "            else:\n",
    "                arr.append(option)\n",
    "        except:\n",
    "            arr.append('')\n",
    "\n",
    "for i in range(0, len(arr), 7):\n",
    "    now = datetime.datetime.now()\n",
    "    insertPerson(arr[i], arr[i+1], arr[i+2], arr[i+3], arr[i+4], arr[i+5], arr[i+6], \"%d-%d-%d %d:%d:%d\" % (now.year, now.month, now.day, now.hour, now.minute, now.second))\n",
    "    i+=7\n",
    "    \n",
    "print('Новые подписанты (%d штук) успешно импортированы в базу данных' % int(i/7))"
   ]
  },
  {
   "cell_type": "markdown",
   "metadata": {},
   "source": [
    "# Read"
   ]
  },
  {
   "cell_type": "code",
   "execution_count": 58,
   "metadata": {},
   "outputs": [
    {
     "name": "stdout",
     "output_type": "stream",
     "text": [
      "_id 5e89f00a91d8aa82e00ef2b6\n",
      "sSurname Иванов\n",
      "sFirstName Кирилл\n",
      "sPatronymic Федорович\n",
      "sPosition директор\n",
      "sPhone 89851012332\n",
      "isAct 1\n",
      "isActive 1\n",
      "sComment \n",
      "dDate 2020-4-5 17:50:4\n",
      "sFax 7556342\n",
      "----\n",
      "_id 5e89f00d91d8aa82e00ef2b7\n",
      "sSurname Тестов\n",
      "sFirstName Модест\n",
      "sPatronymic Поликарпович\n",
      "sPosition начальник\n",
      "sPhone 89851004243\n",
      "isAct 1\n",
      "isActive 1\n",
      "sComment \n",
      "dDate 2020-4-5 17:50:2\n",
      "----\n",
      "_id 5e89f00d91d8aa82e00ef2b9\n",
      "sSurname Петрова\n",
      "sFirstName Анжела\n",
      "sPatronymic Сергеевна\n",
      "sPosition секретарь\n",
      "sPhone 89104782284\n",
      "isAct 0\n",
      "isActive 1\n",
      "sComment ведьма\n",
      "dDate 2020-4-5 17:49:49\n",
      "----\n",
      "_id 5e89f00d91d8aa82e00ef2ba\n",
      "sSurname Яшина\n",
      "sFirstName Мария\n",
      "sPatronymic Михайловна\n",
      "sPosition секретарь\n",
      "sPhone 89990541542\n",
      "isAct 0\n",
      "isActive 1\n",
      "sComment лучшая\n",
      "dDate 2020-4-5 17:49:49\n",
      "----\n",
      "_id 5e89f00d91d8aa82e00ef2bb\n",
      "sSurname Джонсон\n",
      "sFirstName Анна\n",
      "sPatronymic \n",
      "sPosition зам.директора\n",
      "sPhone 89264437676\n",
      "isAct 1\n",
      "isActive 1\n",
      "sComment \n",
      "dDate 2020-4-5 17:49:49\n",
      "----\n"
     ]
    }
   ],
   "source": [
    "for p in persons.find():\n",
    "    for i,l in p.items():\n",
    "        print(i,l)\n",
    "    print('----')"
   ]
  },
  {
   "cell_type": "markdown",
   "metadata": {},
   "source": [
    "# Update"
   ]
  },
  {
   "cell_type": "markdown",
   "metadata": {},
   "source": [
    "### Value changed"
   ]
  },
  {
   "cell_type": "code",
   "execution_count": 63,
   "metadata": {},
   "outputs": [
    {
     "name": "stdout",
     "output_type": "stream",
     "text": [
      "Запись с подписантом успешно обновлена \n",
      "\n",
      "_id 5e89f00d91d8aa82e00ef2b7\n",
      "sSurname Тестов\n",
      "sFirstName Модест\n",
      "sPatronymic Поликарпович\n",
      "sPosition начальник\n",
      "sPhone 89851004243\n",
      "isAct 1\n",
      "isActive 1\n",
      "sComment \n",
      "dDate 2020-4-5 17:58:46\n"
     ]
    }
   ],
   "source": [
    "now = datetime.datetime.now()\n",
    "\n",
    "persons.update_one(\n",
    "    {'sSurname': 'Тестов'}, \n",
    "    {'$set': \n",
    "      {'sPhone': '89851004243', \n",
    "       'dDate' : \"%d-%d-%d %d:%d:%d\" % (now.year, now.month, now.day, now.hour, now.minute, now.second)\n",
    "      }\n",
    "    }\n",
    ")\n",
    "    \n",
    "print('Запись с подписантом успешно обновлена \\n')\n",
    "\n",
    "for p in persons.find({'sSurname': 'Тестов'}):\n",
    "    for i,l in p.items():\n",
    "        print(i,l)"
   ]
  },
  {
   "cell_type": "markdown",
   "metadata": {},
   "source": [
    "### New field"
   ]
  },
  {
   "cell_type": "code",
   "execution_count": 62,
   "metadata": {},
   "outputs": [
    {
     "name": "stdout",
     "output_type": "stream",
     "text": [
      "Запись с подписантом успешно обновлена \n",
      "\n",
      "_id 5e89f00a91d8aa82e00ef2b6\n",
      "sSurname Иванов\n",
      "sFirstName Кирилл\n",
      "sPatronymic Федорович\n",
      "sPosition директор\n",
      "sPhone 89851012332\n",
      "isAct 1\n",
      "isActive 1\n",
      "sComment \n",
      "dDate 2020-4-5 17:58:42\n",
      "sFax 7556342\n"
     ]
    }
   ],
   "source": [
    "now = datetime.datetime.now()\n",
    "\n",
    "persons.update_one(\n",
    "    {'sSurname': 'Иванов'}, \n",
    "    {'$set': \n",
    "      {'sFax': '7556342', \n",
    "       'dDate' : \"%d-%d-%d %d:%d:%d\" % (now.year, now.month, now.day, now.hour, now.minute, now.second)\n",
    "      }\n",
    "    }\n",
    ")\n",
    "    \n",
    "print('Запись с подписантом успешно обновлена \\n')\n",
    "\n",
    "for p in persons.find({'sSurname': 'Иванов'}):\n",
    "    for i,l in p.items():\n",
    "        print(i,l)"
   ]
  },
  {
   "cell_type": "markdown",
   "metadata": {},
   "source": [
    "### Not active"
   ]
  },
  {
   "cell_type": "code",
   "execution_count": 65,
   "metadata": {},
   "outputs": [
    {
     "name": "stdout",
     "output_type": "stream",
     "text": [
      "Запись с подписантом успешно обновлена \n",
      "\n",
      "_id 5e89f00d91d8aa82e00ef2b9\n",
      "sSurname Петрова\n",
      "sFirstName Анжела\n",
      "sPatronymic Сергеевна\n",
      "sPosition секретарь\n",
      "sPhone 89104782284\n",
      "isAct 0\n",
      "isActive 1\n",
      "sComment ведьма\n",
      "dDate 2020-4-5 17:49:49\n"
     ]
    }
   ],
   "source": [
    "now = datetime.datetime.now()\n",
    "\n",
    "persons.update_many(\n",
    "    {'sSurname': 'Меркулов'}, \n",
    "    {'$set': \n",
    "      {'isActive': 0, \n",
    "       'dDate' : \"%d-%d-%d %d:%d:%d\" % (now.year, now.month, now.day, now.hour, now.minute, now.second)\n",
    "      }\n",
    "    }\n",
    ")\n",
    "    \n",
    "print('Запись с подписантом успешно обновлена \\n')\n",
    "\n",
    "for p in persons.find({'sSurname': 'Петрова'}):\n",
    "    for i,l in p.items():\n",
    "        print(i,l)"
   ]
  },
  {
   "cell_type": "markdown",
   "metadata": {},
   "source": [
    "# Delete"
   ]
  },
  {
   "cell_type": "code",
   "execution_count": 67,
   "metadata": {},
   "outputs": [
    {
     "name": "stdout",
     "output_type": "stream",
     "text": [
      "Запись с подписантом успешно удалена\n"
     ]
    }
   ],
   "source": [
    "persons.delete_many({'isActive' : 0})\n",
    "    \n",
    "print('Запись с подписантом успешно удалена')"
   ]
  },
  {
   "cell_type": "markdown",
   "metadata": {},
   "source": [
    "# Aggregate"
   ]
  },
  {
   "cell_type": "code",
   "execution_count": 56,
   "metadata": {},
   "outputs": [
    {
     "name": "stdout",
     "output_type": "stream",
     "text": [
      "_id 5e89f00a91d8aa82e00ef2b6\n",
      "sSurname Иванов\n",
      "sFirstName Кирилл\n",
      "sPatronymic Федорович\n",
      "sPosition директор\n",
      "sPhone 89851012332\n",
      "isAct 1\n",
      "isActive 1\n",
      "sComment \n",
      "dDate 2020-4-5 17:50:4\n",
      "sFax 7556342\n",
      "----\n",
      "_id 5e89f00d91d8aa82e00ef2b7\n",
      "sSurname Тестов\n",
      "sFirstName Модест\n",
      "sPatronymic Поликарпович\n",
      "sPosition начальник\n",
      "sPhone 89851004243\n",
      "isAct 1\n",
      "isActive 1\n",
      "sComment \n",
      "dDate 2020-4-5 17:50:2\n",
      "----\n",
      "_id 5e89f00d91d8aa82e00ef2bb\n",
      "sSurname Джонсон\n",
      "sFirstName Анна\n",
      "sPatronymic \n",
      "sPosition зам.директора\n",
      "sPhone 89264437676\n",
      "isAct 1\n",
      "isActive 1\n",
      "sComment \n",
      "dDate 2020-4-5 17:49:49\n",
      "----\n",
      "\n",
      " Действие в базе данных успешно выполнено\n"
     ]
    }
   ],
   "source": [
    "d = list(persons.aggregate([{ '$match': { 'isAct': 1 } }]))\n",
    "for k in d:\n",
    "    for i,l in k.items():\n",
    "        print(i,l)\n",
    "    print('----')\n",
    "\n",
    "print('\\n Действие в базе данных успешно выполнено')"
   ]
  },
  {
   "cell_type": "markdown",
   "metadata": {},
   "source": [
    "# Sort"
   ]
  },
  {
   "cell_type": "code",
   "execution_count": 57,
   "metadata": {},
   "outputs": [
    {
     "name": "stdout",
     "output_type": "stream",
     "text": [
      "_id 5e89f00d91d8aa82e00ef2bb\n",
      "sSurname Джонсон\n",
      "sFirstName Анна\n",
      "sPatronymic \n",
      "sPosition зам.директора\n",
      "sPhone 89264437676\n",
      "isAct 1\n",
      "isActive 1\n",
      "sComment \n",
      "dDate 2020-4-5 17:49:49\n",
      "----\n",
      "_id 5e89f00a91d8aa82e00ef2b6\n",
      "sSurname Иванов\n",
      "sFirstName Кирилл\n",
      "sPatronymic Федорович\n",
      "sPosition директор\n",
      "sPhone 89851012332\n",
      "isAct 1\n",
      "isActive 1\n",
      "sComment \n",
      "dDate 2020-4-5 17:50:4\n",
      "sFax 7556342\n",
      "----\n",
      "_id 5e89f00d91d8aa82e00ef2b9\n",
      "sSurname Петрова\n",
      "sFirstName Анжела\n",
      "sPatronymic Сергеевна\n",
      "sPosition секретарь\n",
      "sPhone 89104782284\n",
      "isAct 0\n",
      "isActive 1\n",
      "sComment ведьма\n",
      "dDate 2020-4-5 17:49:49\n",
      "----\n",
      "_id 5e89f00d91d8aa82e00ef2b7\n",
      "sSurname Тестов\n",
      "sFirstName Модест\n",
      "sPatronymic Поликарпович\n",
      "sPosition начальник\n",
      "sPhone 89851004243\n",
      "isAct 1\n",
      "isActive 1\n",
      "sComment \n",
      "dDate 2020-4-5 17:50:2\n",
      "----\n",
      "_id 5e89f00d91d8aa82e00ef2ba\n",
      "sSurname Яшина\n",
      "sFirstName Мария\n",
      "sPatronymic Михайловна\n",
      "sPosition секретарь\n",
      "sPhone 89990541542\n",
      "isAct 0\n",
      "isActive 1\n",
      "sComment лучшая\n",
      "dDate 2020-4-5 17:49:49\n",
      "----\n",
      "\n",
      " Действие в базе данных успешно выполнено\n"
     ]
    }
   ],
   "source": [
    "for p in persons.find({'isActive':1}).sort([('sSurname', 1)]):\n",
    "    for i,l in p.items():\n",
    "        print(i,l)\n",
    "    print('----')\n",
    "    \n",
    "    \n",
    "print('\\n Действие в базе данных успешно выполнено')"
   ]
  },
  {
   "cell_type": "code",
   "execution_count": null,
   "metadata": {},
   "outputs": [],
   "source": []
  }
 ],
 "metadata": {
  "kernelspec": {
   "display_name": "Python 3",
   "language": "python",
   "name": "python3"
  },
  "language_info": {
   "codemirror_mode": {
    "name": "ipython",
    "version": 3
   },
   "file_extension": ".py",
   "mimetype": "text/x-python",
   "name": "python",
   "nbconvert_exporter": "python",
   "pygments_lexer": "ipython3",
   "version": "3.6.4"
  }
 },
 "nbformat": 4,
 "nbformat_minor": 4
}
