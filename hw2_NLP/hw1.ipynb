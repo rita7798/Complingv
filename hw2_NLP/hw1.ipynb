{
 "cells": [
  {
   "cell_type": "code",
   "execution_count": 14,
   "metadata": {},
   "outputs": [],
   "source": [
    "import os, re\n",
    "from string import punctuation\n",
    "import numpy as np\n",
    "import json\n",
    "from collections import Counter\n",
    "from pprint import pprint\n",
    "punct = set(punctuation)\n",
    "from sklearn.metrics import classification_report\n",
    "from sklearn.feature_extraction.text import CountVectorizer, TfidfVectorizer\n",
    "from sklearn.metrics.pairwise import cosine_similarity, cosine_distances\n",
    "import textdistance"
   ]
  },
  {
   "cell_type": "code",
   "execution_count": 2,
   "metadata": {},
   "outputs": [],
   "source": [
    "bad = open('sents_with_mistakes.txt', encoding='utf8').read().splitlines()\n",
    "true = open('correct_sents.txt', encoding='utf8').read().splitlines()"
   ]
  },
  {
   "cell_type": "code",
   "execution_count": 3,
   "metadata": {},
   "outputs": [],
   "source": [
    "def align_words(sent_1, sent_2):\n",
    "    tokens_1 = sent_1.lower().split()\n",
    "    tokens_2 = sent_2.lower().split()\n",
    "    \n",
    "    tokens_1 = [re.sub('(^\\W+|\\W+$)', '', token) for token in tokens_1 if (set(token)-punct)]\n",
    "    tokens_2 = [re.sub('(^\\W+|\\W+$)', '', token) for token in tokens_2 if (set(token)-punct)]\n",
    "    \n",
    "    return list(zip(tokens_1, tokens_2))"
   ]
  },
  {
   "cell_type": "code",
   "execution_count": 4,
   "metadata": {},
   "outputs": [],
   "source": [
    "corpus = [sent.split() for sent in open('corpus_ng.txt', encoding='utf8').read().splitlines()]\n",
    "WORDS = Counter()\n",
    "for sent in corpus:\n",
    "    WORDS.update(sent)"
   ]
  },
  {
   "cell_type": "code",
   "execution_count": 5,
   "metadata": {},
   "outputs": [],
   "source": [
    "vocab = list(WORDS.keys())\n",
    "id2word = {i:word for i, word in enumerate(vocab)}\n",
    "\n",
    "vec = TfidfVectorizer(analyzer='char', ngram_range=(1,1))\n",
    "X = vec.fit_transform(vocab)"
   ]
  },
  {
   "cell_type": "code",
   "execution_count": 6,
   "metadata": {},
   "outputs": [],
   "source": [
    "def get_closest_match_vec(text, X, vec, TOPN=3):\n",
    "    v = vec.transform([text])\n",
    "    similarities = cosine_distances(v, X)\n",
    "    topn = similarities.argsort()[0][:TOPN]\n",
    "    \n",
    "    return [id2word[top] for top in topn]"
   ]
  },
  {
   "cell_type": "code",
   "execution_count": 7,
   "metadata": {},
   "outputs": [],
   "source": [
    "def get_closest_hybrid_match(text, X, vec, metric=textdistance.levenshtein):\n",
    "    candidates = get_closest_match_vec(text, X, vec, 7)\n",
    "    similarities = Counter()\n",
    "    for word in candidates:\n",
    "        similarities[word] = metric.normalized_similarity(text, word) \n",
    "    return similarities.most_common(1)[0][0]"
   ]
  },
  {
   "cell_type": "code",
   "execution_count": 8,
   "metadata": {},
   "outputs": [
    {
     "data": {
      "text/plain": [
       "'алкоголь'"
      ]
     },
     "execution_count": 8,
     "metadata": {},
     "output_type": "execute_result"
    }
   ],
   "source": [
    "get_closest_hybrid_match('алкогнль', X, vec)"
   ]
  },
  {
   "cell_type": "code",
   "execution_count": 9,
   "metadata": {},
   "outputs": [
    {
     "name": "stdout",
     "output_type": "stream",
     "text": [
      "0\n",
      "0.5333333333333333\n",
      "10\n",
      "0.8076923076923077\n",
      "20\n",
      "0.8095238095238095\n",
      "30\n",
      "0.8106060606060606\n",
      "40\n",
      "0.8128654970760234\n",
      "50\n",
      "0.8180354267310789\n",
      "60\n",
      "0.8097222222222222\n",
      "70\n",
      "0.8131188118811881\n",
      "80\n",
      "0.8172157279489904\n",
      "90\n",
      "0.8182711198428291\n",
      "100\n",
      "0.8145161290322581\n",
      "110\n",
      "0.8178001679261125\n",
      "120\n",
      "0.8205723124516628\n",
      "130\n",
      "0.819047619047619\n",
      "140\n",
      "0.8154477101845523\n",
      "150\n",
      "0.8238276299112801\n",
      "160\n",
      "0.8225235849056604\n",
      "170\n",
      "0.8231330713082537\n",
      "180\n",
      "0.8205128205128205\n",
      "190\n",
      "0.8221442885771543\n",
      "200\n",
      "0.8249158249158249\n",
      "210\n",
      "0.8271324863883848\n",
      "220\n",
      "0.8277634961439588\n",
      "230\n",
      "0.8287474332648871\n",
      "240\n",
      "0.8333977580208736\n",
      "250\n",
      "0.8303341902313625\n",
      "260\n",
      "0.8308125219838199\n",
      "270\n",
      "0.8289384719405003\n",
      "280\n",
      "0.8305905130687319\n",
      "290\n",
      "0.8283048211508554\n",
      "300\n",
      "0.8299278846153846\n",
      "310\n",
      "0.8302052785923754\n",
      "320\n",
      "0.8296002268216615\n",
      "330\n",
      "0.8287765810549572\n",
      "340\n",
      "0.8278556034482759\n",
      "350\n",
      "0.8272703480764197\n",
      "360\n",
      "0.8274201723264065\n",
      "370\n",
      "0.8285785164971471\n",
      "380\n",
      "0.8291917973462002\n",
      "390\n",
      "0.8297015632401705\n",
      "400\n",
      "0.8306657388077012\n",
      "410\n",
      "0.8311541929666366\n",
      "420\n",
      "0.8313039628071729\n",
      "430\n",
      "0.8314679294016358\n",
      "440\n",
      "0.8318883484880525\n",
      "450\n",
      "0.83125\n",
      "460\n",
      "0.8322868138545676\n",
      "470\n",
      "0.8302334784329244\n",
      "480\n",
      "0.8305873231246366\n",
      "490\n",
      "0.8315968933510135\n",
      "500\n",
      "0.8317236255572066\n",
      "510\n",
      "0.8309476354412031\n",
      "520\n",
      "0.8308928571428571\n",
      "530\n",
      "0.8310454065469906\n",
      "540\n",
      "0.8298605131737559\n",
      "550\n",
      "0.8297691785471826\n",
      "560\n",
      "0.8300533689126084\n",
      "570\n",
      "0.8326810176125244\n",
      "580\n",
      "0.8330673475901692\n",
      "590\n",
      "0.8326025681177576\n",
      "600\n",
      "0.8322282189668466\n",
      "610\n",
      "0.8330820265379976\n",
      "620\n",
      "0.833431865208395\n",
      "630\n",
      "0.8328484143148094\n",
      "640\n",
      "0.832854681217691\n",
      "650\n",
      "0.8334983731786674\n",
      "660\n",
      "0.8329612056935529\n",
      "670\n",
      "0.8314761315174026\n",
      "680\n",
      "0.8316188413643747\n",
      "690\n",
      "0.832534611288605\n",
      "700\n",
      "0.8324146981627296\n",
      "710\n",
      "0.832231297808894\n",
      "720\n",
      "0.8307692307692308\n",
      "730\n",
      "0.83\n",
      "740\n",
      "0.8304217619166459\n",
      "750\n",
      "0.8302628346843527\n",
      "760\n",
      "0.8303766707168895\n",
      "770\n",
      "0.8304921968787515\n",
      "780\n",
      "0.8286290322580645\n",
      "790\n",
      "0.8286582515194015\n",
      "800\n",
      "0.8288153189525896\n",
      "810\n",
      "0.8293628177362362\n",
      "820\n",
      "0.8295697112683968\n",
      "830\n",
      "0.8294117647058824\n",
      "840\n",
      "0.8291187739463601\n",
      "850\n",
      "0.827931517174545\n",
      "860\n",
      "0.8277328796256912\n",
      "870\n",
      "0.8283221194280909\n",
      "880\n",
      "0.8287022582995108\n",
      "890\n",
      "0.8294135770771285\n",
      "900\n",
      "0.829813160032494\n",
      "910\n",
      "0.8302152484409575\n"
     ]
    }
   ],
   "source": [
    "correct = 0\n",
    "total = 0\n",
    "mistake_word_pairs = []\n",
    "for i in range(len(true)):\n",
    "    word_pairs = align_words(true[i], bad[i])\n",
    "    for pair in word_pairs:\n",
    "        predicted = get_closest_hybrid_match(pair[1], X, vec)\n",
    "        if predicted == pair[0]:\n",
    "            correct += 1\n",
    "        else:\n",
    "            mistake_word_pairs.append(pair)\n",
    "        total += 1\n",
    "    if not i % 10:\n",
    "        print(i)\n",
    "        print(correct/total)"
   ]
  },
  {
   "cell_type": "code",
   "execution_count": 21,
   "metadata": {},
   "outputs": [
    {
     "data": {
      "text/plain": [
       "[('симпатичнейшее', 'симпатичнейшое'),\n",
       " ('шпионское', 'шпионское'),\n",
       " ('гламурный', 'гламурный'),\n",
       " ('бонда', 'бонда'),\n",
       " ('superheadz', 'superheadz'),\n",
       " ('clap', 'clap'),\n",
       " ('camera', 'camera'),\n",
       " ('получатся', 'полчатся'),\n",
       " ('язычки', 'язычки'),\n",
       " ('очень', 'оччччень'),\n",
       " ('милые', 'милые'),\n",
       " ('насчет', 'нащщот'),\n",
       " ('чавеса', 'чавеса'),\n",
       " ('попавшим', 'попавшим'),\n",
       " ('аварийно-спасательных', 'аварийно-спасательных'),\n",
       " ('в', 'вобщем'),\n",
       " ('общем', 'как'),\n",
       " ('как', 'вы'),\n",
       " ('вы', 'знаете'),\n",
       " ('знаете', 'из'),\n",
       " ('из', 'моего'),\n",
       " ('моего', 'не'),\n",
       " ('недавнего', 'давнего'),\n",
       " ('пропажу', 'пропажу'),\n",
       " ('почте.ру', 'почте.ру')]"
      ]
     },
     "execution_count": 21,
     "metadata": {},
     "output_type": "execute_result"
    }
   ],
   "source": [
    "mistake_word_pairs[:25]"
   ]
  },
  {
   "cell_type": "code",
   "execution_count": 22,
   "metadata": {},
   "outputs": [
    {
     "data": {
      "text/plain": [
       "0.16959648421893728"
      ]
     },
     "execution_count": 22,
     "metadata": {},
     "output_type": "execute_result"
    }
   ],
   "source": [
    "len(mistake_word_pairs)/total"
   ]
  },
  {
   "cell_type": "code",
   "execution_count": 23,
   "metadata": {},
   "outputs": [
    {
     "data": {
      "text/plain": [
       "0.8304035157810628"
      ]
     },
     "execution_count": 23,
     "metadata": {},
     "output_type": "execute_result"
    }
   ],
   "source": [
    "1-len(mistake_word_pairs)/total"
   ]
  },
  {
   "cell_type": "code",
   "execution_count": null,
   "metadata": {},
   "outputs": [],
   "source": []
  }
 ],
 "metadata": {
  "kernelspec": {
   "display_name": "Python 3",
   "language": "python",
   "name": "python3"
  },
  "language_info": {
   "codemirror_mode": {
    "name": "ipython",
    "version": 3
   },
   "file_extension": ".py",
   "mimetype": "text/x-python",
   "name": "python",
   "nbconvert_exporter": "python",
   "pygments_lexer": "ipython3",
   "version": "3.6.4"
  }
 },
 "nbformat": 4,
 "nbformat_minor": 2
}
