{
 "cells": [
  {
   "cell_type": "code",
   "execution_count": 38,
   "metadata": {},
   "outputs": [],
   "source": [
    "import nltk"
   ]
  },
  {
   "cell_type": "code",
   "execution_count": 39,
   "metadata": {},
   "outputs": [],
   "source": [
    "sents = ['Вася читает мою книгу', 'Напиши какое-нибудь письмо',\n",
    "         'Этот веселый мальчик идет', 'Он любит читать всякие книги']"
   ]
  },
  {
   "cell_type": "code",
   "execution_count": 40,
   "metadata": {},
   "outputs": [],
   "source": [
    "rules = \"\"\"\n",
    "    S -> NP VP | NP V | VP\n",
    "    NP -> ADJ NP | ADJ N | NN | N\n",
    "    VP -> V NP | V VP | V\n",
    "    NN -> 'Вася'\n",
    "    N -> 'книгу' | 'письмо' | 'мальчик' | 'Он' | 'книги'\n",
    "    V -> 'читает' | 'Напиши' | 'идет' | 'любит' | 'читать'\n",
    "    ADJ -> 'мою' | 'какое-нибудь' | 'Этот' | 'веселый' | 'всякие'\n",
    "\"\"\".split('\\n')"
   ]
  },
  {
   "cell_type": "code",
   "execution_count": 41,
   "metadata": {},
   "outputs": [],
   "source": [
    "grammar = nltk.CFG.fromstring('\\n'.join(rules))"
   ]
  },
  {
   "cell_type": "code",
   "execution_count": 42,
   "metadata": {},
   "outputs": [],
   "source": [
    "def print_parses(parser, sentence):\n",
    "    for elem in parser.parse(sentence.split()):\n",
    "        print(elem)"
   ]
  },
  {
   "cell_type": "markdown",
   "metadata": {},
   "source": [
    "# Алгоритм CYK"
   ]
  },
  {
   "cell_type": "markdown",
   "metadata": {},
   "source": [
    "S | | | \n",
    "--- | ---\n",
    "  | VP | | \n",
    "NP | | NP | \n",
    "NN | V | ADJ | N \n",
    "Вася | читает | мою | книгу "
   ]
  },
  {
   "cell_type": "markdown",
   "metadata": {},
   "source": [
    "Сработавшие правила:  \n",
    "NN -> 'Вася'   \n",
    "V -> 'читает'   \n",
    "ADJ -> 'мою'   \n",
    "N -> 'книгу'     \n",
    "NP -> NN  \n",
    "NP -> ADJ N   \n",
    "VP -> V NP   \n",
    "S -> NP VP   "
   ]
  },
  {
   "cell_type": "markdown",
   "metadata": {},
   "source": [
    "# Алгоритм Эрли"
   ]
  },
  {
   "cell_type": "code",
   "execution_count": 43,
   "metadata": {},
   "outputs": [
    {
     "name": "stdout",
     "output_type": "stream",
     "text": [
      "|.   Вася  .  читает .   мою   .  книгу  .|\n",
      "|[---------]         .         .         .| [0:1] 'Вася'\n",
      "|.         [---------]         .         .| [1:2] 'читает'\n",
      "|.         .         [---------]         .| [2:3] 'мою'\n",
      "|.         .         .         [---------]| [3:4] 'книгу'\n",
      "|>         .         .         .         .| [0:0] S  -> * NP VP\n",
      "|>         .         .         .         .| [0:0] S  -> * NP V\n",
      "|>         .         .         .         .| [0:0] S  -> * VP\n",
      "|>         .         .         .         .| [0:0] VP -> * V NP\n",
      "|>         .         .         .         .| [0:0] VP -> * V VP\n",
      "|>         .         .         .         .| [0:0] VP -> * V\n",
      "|>         .         .         .         .| [0:0] NP -> * ADJ NP\n",
      "|>         .         .         .         .| [0:0] NP -> * ADJ N\n",
      "|>         .         .         .         .| [0:0] NP -> * NN\n",
      "|>         .         .         .         .| [0:0] NP -> * N\n",
      "|>         .         .         .         .| [0:0] NN -> * 'Вася'\n",
      "|[---------]         .         .         .| [0:1] NN -> 'Вася' *\n",
      "|[---------]         .         .         .| [0:1] NP -> NN *\n",
      "|[--------->         .         .         .| [0:1] S  -> NP * VP\n",
      "|[--------->         .         .         .| [0:1] S  -> NP * V\n",
      "|.         >         .         .         .| [1:1] V  -> * 'читает'\n",
      "|.         >         .         .         .| [1:1] VP -> * V NP\n",
      "|.         >         .         .         .| [1:1] VP -> * V VP\n",
      "|.         >         .         .         .| [1:1] VP -> * V\n",
      "|.         [---------]         .         .| [1:2] V  -> 'читает' *\n",
      "|[-------------------]         .         .| [0:2] S  -> NP V *\n",
      "|.         [--------->         .         .| [1:2] VP -> V * NP\n",
      "|.         [--------->         .         .| [1:2] VP -> V * VP\n",
      "|.         [---------]         .         .| [1:2] VP -> V *\n",
      "|[-------------------]         .         .| [0:2] S  -> NP VP *\n",
      "|.         .         >         .         .| [2:2] VP -> * V NP\n",
      "|.         .         >         .         .| [2:2] VP -> * V VP\n",
      "|.         .         >         .         .| [2:2] VP -> * V\n",
      "|.         .         >         .         .| [2:2] NP -> * ADJ NP\n",
      "|.         .         >         .         .| [2:2] NP -> * ADJ N\n",
      "|.         .         >         .         .| [2:2] NP -> * NN\n",
      "|.         .         >         .         .| [2:2] NP -> * N\n",
      "|.         .         >         .         .| [2:2] ADJ -> * 'мою'\n",
      "|.         .         [---------]         .| [2:3] ADJ -> 'мою' *\n",
      "|.         .         [--------->         .| [2:3] NP -> ADJ * NP\n",
      "|.         .         [--------->         .| [2:3] NP -> ADJ * N\n",
      "|.         .         .         >         .| [3:3] N  -> * 'книгу'\n",
      "|.         .         .         >         .| [3:3] NP -> * ADJ NP\n",
      "|.         .         .         >         .| [3:3] NP -> * ADJ N\n",
      "|.         .         .         >         .| [3:3] NP -> * NN\n",
      "|.         .         .         >         .| [3:3] NP -> * N\n",
      "|.         .         .         [---------]| [3:4] N  -> 'книгу' *\n",
      "|.         .         [-------------------]| [2:4] NP -> ADJ N *\n",
      "|.         .         .         [---------]| [3:4] NP -> N *\n",
      "|.         .         [-------------------]| [2:4] NP -> ADJ NP *\n",
      "|.         [-----------------------------]| [1:4] VP -> V NP *\n",
      "|[=======================================]| [0:4] S  -> NP VP *\n",
      "|.         [-----------------------------]| [1:4] VP -> V NP *\n",
      "(S (NP (NN Вася)) (VP (V читает) (NP (ADJ мою) (NP (N книгу)))))\n",
      "(S (NP (NN Вася)) (VP (V читает) (NP (ADJ мою) (N книгу))))\n"
     ]
    }
   ],
   "source": [
    "cp_verbose = nltk.EarleyChartParser(grammar, trace=1)\n",
    "print_parses(cp_verbose, \"Вася читает мою книгу\")"
   ]
  },
  {
   "cell_type": "markdown",
   "metadata": {},
   "source": [
    "# Проверка"
   ]
  },
  {
   "cell_type": "code",
   "execution_count": 44,
   "metadata": {},
   "outputs": [
    {
     "name": "stdout",
     "output_type": "stream",
     "text": [
      "\n",
      "Вася читает мою книгу\n",
      "(S (NP (NN Вася)) (VP (V читает) (NP (ADJ мою) (NP (N книгу)))))\n",
      "(S (NP (NN Вася)) (VP (V читает) (NP (ADJ мою) (N книгу))))\n",
      "\n",
      "Напиши какое-нибудь письмо\n",
      "(S (VP (V Напиши) (NP (ADJ какое-нибудь) (NP (N письмо)))))\n",
      "(S (VP (V Напиши) (NP (ADJ какое-нибудь) (N письмо))))\n",
      "\n",
      "Этот веселый мальчик идет\n",
      "(S (NP (ADJ Этот) (NP (ADJ веселый) (NP (N мальчик)))) (V идет))\n",
      "(S (NP (ADJ Этот) (NP (ADJ веселый) (N мальчик))) (V идет))\n",
      "(S (NP (ADJ Этот) (NP (ADJ веселый) (NP (N мальчик)))) (VP (V идет)))\n",
      "(S (NP (ADJ Этот) (NP (ADJ веселый) (N мальчик))) (VP (V идет)))\n",
      "\n",
      "Он любит читать всякие книги\n",
      "(S\n",
      "  (NP (N Он))\n",
      "  (VP (V любит) (VP (V читать) (NP (ADJ всякие) (NP (N книги))))))\n",
      "(S\n",
      "  (NP (N Он))\n",
      "  (VP (V любит) (VP (V читать) (NP (ADJ всякие) (N книги)))))\n"
     ]
    }
   ],
   "source": [
    "cp = nltk.EarleyChartParser(grammar)\n",
    "for sent in sents:\n",
    "    print('\\n' + sent)\n",
    "    print_parses(cp, sent)"
   ]
  },
  {
   "cell_type": "markdown",
   "metadata": {},
   "source": [
    "# Улучшения\n",
    "\n",
    "Внедрение в работу парсера морфологического анализатора. Это поможет 1) с определением частей речи и созданием новых правил для новых слов, 2) с приведением слова к начальной форме и записи правил только для нее."
   ]
  },
  {
   "cell_type": "markdown",
   "metadata": {},
   "source": [
    "# Неоднозначный разбор"
   ]
  },
  {
   "cell_type": "markdown",
   "metadata": {},
   "source": [
    "**неоднозначность == омонимия**\n",
    "\n",
    "Например, \"Они увидели столовую(,) комнату.\" У слова \"столовая\" будет два разбора."
   ]
  },
  {
   "cell_type": "code",
   "execution_count": 64,
   "metadata": {},
   "outputs": [],
   "source": [
    "rules_ = \"\"\"\n",
    "    S -> NP VP \n",
    "    NP -> ADJ N | N N | NN\n",
    "    VP -> V NP\n",
    "    ADJ -> 'столовую'\n",
    "    N -> 'столовую' | 'комнату' \n",
    "    V -> 'увидели' \n",
    "    NN -> 'Они'\n",
    "\"\"\".split('\\n')"
   ]
  },
  {
   "cell_type": "code",
   "execution_count": 65,
   "metadata": {},
   "outputs": [],
   "source": [
    "grammar_ = nltk.CFG.fromstring('\\n'.join(rules_))"
   ]
  },
  {
   "cell_type": "code",
   "execution_count": 66,
   "metadata": {},
   "outputs": [
    {
     "name": "stdout",
     "output_type": "stream",
     "text": [
      "(S (NP (NN Они)) (VP (V увидели) (NP (N столовую) (N комнату))))\n",
      "(S (NP (NN Они)) (VP (V увидели) (NP (ADJ столовую) (N комнату))))\n"
     ]
    }
   ],
   "source": [
    "cp_ = nltk.EarleyChartParser(grammar_)\n",
    "sent = 'Они увидели столовую комнату'\n",
    "print_parses(cp_, sent)"
   ]
  },
  {
   "cell_type": "code",
   "execution_count": null,
   "metadata": {},
   "outputs": [],
   "source": []
  }
 ],
 "metadata": {
  "kernelspec": {
   "display_name": "Python 3",
   "language": "python",
   "name": "python3"
  },
  "language_info": {
   "codemirror_mode": {
    "name": "ipython",
    "version": 3
   },
   "file_extension": ".py",
   "mimetype": "text/x-python",
   "name": "python",
   "nbconvert_exporter": "python",
   "pygments_lexer": "ipython3",
   "version": "3.6.4"
  }
 },
 "nbformat": 4,
 "nbformat_minor": 2
}
